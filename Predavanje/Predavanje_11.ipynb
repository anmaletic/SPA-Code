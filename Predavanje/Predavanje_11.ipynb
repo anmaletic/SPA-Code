{
 "cells": [
  {
   "cell_type": "code",
   "execution_count": 1,
   "metadata": {},
   "outputs": [],
   "source": [
    "from numpy import *"
   ]
  },
  {
   "cell_type": "code",
   "execution_count": 4,
   "metadata": {},
   "outputs": [],
   "source": [
    "def topolosko(a):\n",
    "    rezultat = list()\n",
    "    while len(rezultat) < len(a):\n",
    "        tmp = []\n",
    "        for i in range(len(a)):\n",
    "            bj = 0\n",
    "            for j in range(len(a)):\n",
    "                if a[j,i] != 0:\n",
    "                    bj += 1\n",
    "            if bj == 0 and i not in rezultat:\n",
    "                rezultat.append(i)\n",
    "                tmp.append(i)\n",
    "        for e in tmp:\n",
    "            for i in range(len(a)):\n",
    "                a[e,i] = 0\n",
    "    return rezultat"
   ]
  },
  {
   "cell_type": "code",
   "execution_count": 6,
   "metadata": {},
   "outputs": [],
   "source": [
    "a = array( [ [0,1,1,0,0],\n",
    "             [0,0,0,0,1],\n",
    "             [0,0,0,1,1],\n",
    "             [0,0,0,0,1],\n",
    "             [0,0,0,0,0]\n",
    "            ] )"
   ]
  },
  {
   "cell_type": "code",
   "execution_count": 7,
   "metadata": {},
   "outputs": [
    {
     "data": {
      "text/plain": [
       "[0, 1, 2, 3, 4]"
      ]
     },
     "execution_count": 7,
     "metadata": {},
     "output_type": "execute_result"
    }
   ],
   "source": [
    "topolosko(a)"
   ]
  },
  {
   "cell_type": "code",
   "execution_count": 17,
   "metadata": {},
   "outputs": [],
   "source": [
    "def prim(a, c):\n",
    "    rezultat = []\n",
    "    udaljenosti = [(float(\"inf\"), -1) for i in range(len(a))]\n",
    "    udaljenosti[c] = (0,-1)\n",
    "    obradeni = [False] * len(a)\n",
    "    while False in obradeni:\n",
    "        najind = -1\n",
    "        najv = float(\"inf\")\n",
    "        for i in range(len(udaljenosti)):\n",
    "            if udaljenosti[i][0] < najv and obradeni[i] == False:\n",
    "                najv = udaljenosti[i][0]\n",
    "                najind = i\n",
    "        obradeni[najind] = True\n",
    "        rezultat.append((udaljenosti[najind][1], najind))\n",
    "        for i in range(len(a)):\n",
    "            if a[najind, i] != float(\"inf\") and obradeni[i] == False and udaljenosti[i] > a[najind, i]:\n",
    "                udaljenosti[i] = (a[najind, i], najind)\n",
    "    return rezultat\n",
    "\n",
    "\n",
    "                \n",
    "            \n",
    "        \n",
    "        \n",
    "        "
   ]
  },
  {
   "cell_type": "code",
   "execution_count": 19,
   "metadata": {},
   "outputs": [
    {
     "ename": "ValueError",
     "evalue": "The truth value of an array with more than one element is ambiguous. Use a.any() or a.all()",
     "output_type": "error",
     "traceback": [
      "\u001b[1;31m---------------------------------------------------------------------------\u001b[0m",
      "\u001b[1;31mValueError\u001b[0m                                Traceback (most recent call last)",
      "Cell \u001b[1;32mIn[19], line 9\u001b[0m\n\u001b[0;32m      1\u001b[0m a \u001b[39m=\u001b[39m array( [ [\u001b[39m0\u001b[39m,\u001b[39m4\u001b[39m,\u001b[39m4\u001b[39m,\u001b[39mfloat\u001b[39m(\u001b[39m\"\u001b[39m\u001b[39minf\u001b[39m\u001b[39m\"\u001b[39m),\u001b[39mfloat\u001b[39m(\u001b[39m\"\u001b[39m\u001b[39minf\u001b[39m\u001b[39m\"\u001b[39m),\u001b[39mfloat\u001b[39m(\u001b[39m\"\u001b[39m\u001b[39minf\u001b[39m\u001b[39m\"\u001b[39m)],\n\u001b[0;32m      2\u001b[0m              [\u001b[39m4\u001b[39m,\u001b[39m0\u001b[39m,\u001b[39m2\u001b[39m,\u001b[39mfloat\u001b[39m(\u001b[39m\"\u001b[39m\u001b[39minf\u001b[39m\u001b[39m\"\u001b[39m),\u001b[39mfloat\u001b[39m(\u001b[39m\"\u001b[39m\u001b[39minf\u001b[39m\u001b[39m\"\u001b[39m),\u001b[39mfloat\u001b[39m(\u001b[39m\"\u001b[39m\u001b[39minf\u001b[39m\u001b[39m\"\u001b[39m)],\n\u001b[0;32m      3\u001b[0m              [\u001b[39m4\u001b[39m,\u001b[39m2\u001b[39m,\u001b[39m0\u001b[39m,\u001b[39m3\u001b[39m,\u001b[39m2\u001b[39m,\u001b[39m4\u001b[39m],\n\u001b[1;32m   (...)\u001b[0m\n\u001b[0;32m      6\u001b[0m              [\u001b[39mfloat\u001b[39m(\u001b[39m\"\u001b[39m\u001b[39minf\u001b[39m\u001b[39m\"\u001b[39m),\u001b[39mfloat\u001b[39m(\u001b[39m\"\u001b[39m\u001b[39minf\u001b[39m\u001b[39m\"\u001b[39m),\u001b[39m4\u001b[39m,\u001b[39m3\u001b[39m,\u001b[39m7\u001b[39m,\u001b[39mfloat\u001b[39m(\u001b[39m\"\u001b[39m\u001b[39minf\u001b[39m\u001b[39m\"\u001b[39m)]\n\u001b[0;32m      7\u001b[0m             ] )\n\u001b[1;32m----> 9\u001b[0m prim(a,\u001b[39m1\u001b[39;49m)\n",
      "Cell \u001b[1;32mIn[17], line 16\u001b[0m, in \u001b[0;36mprim\u001b[1;34m(a, c)\u001b[0m\n\u001b[0;32m     14\u001b[0m     rezultat\u001b[39m.\u001b[39mappend((udaljenosti[najind][\u001b[39m1\u001b[39m], najind))\n\u001b[0;32m     15\u001b[0m     \u001b[39mfor\u001b[39;00m i \u001b[39min\u001b[39;00m \u001b[39mrange\u001b[39m(\u001b[39mlen\u001b[39m(a)):\n\u001b[1;32m---> 16\u001b[0m         \u001b[39mif\u001b[39;00m a[najind][i] \u001b[39m!=\u001b[39m \u001b[39mfloat\u001b[39m(\u001b[39m\"\u001b[39m\u001b[39minf\u001b[39m\u001b[39m\"\u001b[39m) \u001b[39mand\u001b[39;00m obradeni[i] \u001b[39m==\u001b[39m \u001b[39mFalse\u001b[39;00m \u001b[39mand\u001b[39;00m udaljenosti[i] \u001b[39m>\u001b[39m a[najind][i]:\n\u001b[0;32m     17\u001b[0m             udaljenosti[i] \u001b[39m=\u001b[39m (a[najind][i], najind)\n\u001b[0;32m     18\u001b[0m \u001b[39mreturn\u001b[39;00m rezultat\n",
      "\u001b[1;31mValueError\u001b[0m: The truth value of an array with more than one element is ambiguous. Use a.any() or a.all()"
     ]
    }
   ],
   "source": [
    "a = array( [ [float(\"inf\"),4,4,float(\"inf\"),float(\"inf\"),float(\"inf\")],\n",
    "             [4,float(\"inf\"),2,float(\"inf\"),float(\"inf\"),float(\"inf\")],\n",
    "             [4,2,float(\"inf\"),3,2,4],\n",
    "             [float(\"inf\"),float(\"inf\"),3,float(\"inf\"),float(\"inf\"),3],\n",
    "             [float(\"inf\"),float(\"inf\"),2,float(\"inf\"),float(\"inf\"),7],\n",
    "             [float(\"inf\"),float(\"inf\"),4,3,7,float(\"inf\")]\n",
    "            ] )\n",
    "\n",
    "prim(a,1)"
   ]
  },
  {
   "cell_type": "code",
   "execution_count": null,
   "metadata": {},
   "outputs": [],
   "source": []
  },
  {
   "cell_type": "code",
   "execution_count": null,
   "metadata": {},
   "outputs": [],
   "source": []
  }
 ],
 "metadata": {
  "kernelspec": {
   "display_name": "Python 3",
   "language": "python",
   "name": "python3"
  },
  "language_info": {
   "codemirror_mode": {
    "name": "ipython",
    "version": 3
   },
   "file_extension": ".py",
   "mimetype": "text/x-python",
   "name": "python",
   "nbconvert_exporter": "python",
   "pygments_lexer": "ipython3",
   "version": "3.11.0"
  },
  "orig_nbformat": 4
 },
 "nbformat": 4,
 "nbformat_minor": 2
}
