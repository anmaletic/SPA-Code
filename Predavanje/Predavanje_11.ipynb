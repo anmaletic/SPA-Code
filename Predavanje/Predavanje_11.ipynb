{
 "cells": [
  {
   "cell_type": "code",
   "execution_count": 1,
   "metadata": {},
   "outputs": [],
   "source": [
    "from numpy import *"
   ]
  },
  {
   "cell_type": "code",
   "execution_count": 4,
   "metadata": {},
   "outputs": [],
   "source": [
    "def topolosko(a):\n",
    "    rezultat = list()\n",
    "    while len(rezultat) < len(a):\n",
    "        tmp = []\n",
    "        for i in range(len(a)):\n",
    "            bj = 0\n",
    "            for j in range(len(a)):\n",
    "                if a[j,i] != 0:\n",
    "                    bj += 1\n",
    "            if bj == 0 and i not in rezultat:\n",
    "                rezultat.append(i)\n",
    "                tmp.append(i)\n",
    "        for e in tmp:\n",
    "            for i in range(len(a)):\n",
    "                a[e,i] = 0\n",
    "    return rezultat"
   ]
  },
  {
   "cell_type": "code",
   "execution_count": 6,
   "metadata": {},
   "outputs": [],
   "source": [
    "a = array( [ [0,1,1,0,0],\n",
    "             [0,0,0,0,1],\n",
    "             [0,0,0,1,1],\n",
    "             [0,0,0,0,1],\n",
    "             [0,0,0,0,0]\n",
    "            ] )"
   ]
  },
  {
   "cell_type": "code",
   "execution_count": 7,
   "metadata": {},
   "outputs": [
    {
     "data": {
      "text/plain": [
       "[0, 1, 2, 3, 4]"
      ]
     },
     "execution_count": 7,
     "metadata": {},
     "output_type": "execute_result"
    }
   ],
   "source": [
    "topolosko(a)"
   ]
  },
  {
   "cell_type": "code",
   "execution_count": 33,
   "metadata": {},
   "outputs": [],
   "source": [
    "def prim(a, c):\n",
    "    udaljenosti = [(float(\"inf\"), -1) for i in range(len(a))]\n",
    "    udaljenosti[c] = (0,-1)\n",
    "    obradeni = [False] * len(a)\n",
    "    rezultat = []\n",
    "    while False in obradeni:\n",
    "        najind = -1\n",
    "        najv = float(\"inf\")\n",
    "        for i in range(len(udaljenosti)):\n",
    "            if udaljenosti[i][0] < najv and obradeni[i] == False:\n",
    "                najv = udaljenosti[i][0]\n",
    "                najind = i\n",
    "        obradeni[najind] = True\n",
    "        rezultat.append((udaljenosti[najind][1], najind))\n",
    "        for i in range(len(a)):\n",
    "            if a[najind, i] != float(\"inf\"):\n",
    "                if obradeni[i] == False:\n",
    "                    if udaljenosti[i][0] > a[najind, i]:\n",
    "                        udaljenosti[i] = (a[najind, i], najind)\n",
    "    return rezultat"
   ]
  },
  {
   "cell_type": "code",
   "execution_count": 40,
   "metadata": {},
   "outputs": [
    {
     "name": "stdout",
     "output_type": "stream",
     "text": [
      "[[inf  4.  4. inf inf inf]\n",
      " [ 4. inf  2. inf inf inf]\n",
      " [ 4.  2. inf  3.  2.  4.]\n",
      " [inf inf  3. inf inf  3.]\n",
      " [inf inf  2. inf inf  7.]\n",
      " [inf inf  4.  3.  7. inf]]\n"
     ]
    },
    {
     "data": {
      "text/plain": [
       "[(-1, 1), (1, 2), (2, 4), (2, 3), (3, 5), (1, 0)]"
      ]
     },
     "execution_count": 40,
     "metadata": {},
     "output_type": "execute_result"
    }
   ],
   "source": [
    "a = array( [ [float(\"inf\"),4,4,float(\"inf\"),float(\"inf\"),float(\"inf\")],\n",
    "             [4,float(\"inf\"),2,float(\"inf\"),float(\"inf\"),float(\"inf\")],\n",
    "             [4,2,float(\"inf\"),3,2,4],\n",
    "             [float(\"inf\"),float(\"inf\"),3,float(\"inf\"),float(\"inf\"),3],\n",
    "             [float(\"inf\"),float(\"inf\"),2,float(\"inf\"),float(\"inf\"),7],\n",
    "             [float(\"inf\"),float(\"inf\"),4,3,7,float(\"inf\")]\n",
    "            ] )\n",
    "print(a)\n",
    "prim(a,1)"
   ]
  },
  {
   "cell_type": "code",
   "execution_count": 44,
   "metadata": {},
   "outputs": [],
   "source": [
    "def kruskal(a):\n",
    "    duljine = []\n",
    "    for i in range(len(a)):\n",
    "        for j in range(i+1, len(a)):\n",
    "            if a[i,j] < float(\"inf\"):\n",
    "                duljine.append((a[i,j], i, j))\n",
    "    duljine.sort()\n",
    "    skupovi = [set([i]) for i in range(len(a))]\n",
    "    rezultat = list()\n",
    "    for i in range(len(a)):\n",
    "        for e in duljine:\n",
    "            p1 = -1\n",
    "            p2 = -1\n",
    "            for i in range(len(skupovi)):\n",
    "                if e[1] in skupovi[i]:\n",
    "                    p1 = i\n",
    "                if e[2] in skupovi[i]:\n",
    "                    p2 = i\n",
    "            if p1 != p2:\n",
    "                skupovi[p1] = skupovi[p1] | skupovi[p2]\n",
    "                skupovi.pop(p2)\n",
    "                rezultat.append((e[1], e[2]))\n",
    "    return rezultat\n",
    "            \n",
    "    "
   ]
  },
  {
   "cell_type": "code",
   "execution_count": 45,
   "metadata": {},
   "outputs": [
    {
     "data": {
      "text/plain": [
       "[(1, 2), (2, 4), (2, 3), (3, 5), (0, 1)]"
      ]
     },
     "execution_count": 45,
     "metadata": {},
     "output_type": "execute_result"
    }
   ],
   "source": [
    "kruskal(a)"
   ]
  }
 ],
 "metadata": {
  "kernelspec": {
   "display_name": "Python 3",
   "language": "python",
   "name": "python3"
  },
  "language_info": {
   "codemirror_mode": {
    "name": "ipython",
    "version": 3
   },
   "file_extension": ".py",
   "mimetype": "text/x-python",
   "name": "python",
   "nbconvert_exporter": "python",
   "pygments_lexer": "ipython3",
   "version": "3.11.0"
  },
  "orig_nbformat": 4
 },
 "nbformat": 4,
 "nbformat_minor": 2
}
