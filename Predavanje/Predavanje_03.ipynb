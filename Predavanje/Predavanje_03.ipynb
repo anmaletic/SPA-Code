{
 "cells": [
  {
   "cell_type": "code",
   "execution_count": 69,
   "metadata": {},
   "outputs": [],
   "source": [
    "a = [ 23, 54, 76, 3, 21, 1, 29, 69, 39, 60, 38]"
   ]
  },
  {
   "cell_type": "code",
   "execution_count": 31,
   "metadata": {},
   "outputs": [],
   "source": [
    "def exchange(b):\n",
    "    a = b[:]\n",
    "    for i in range(0, len(a)-1):\n",
    "        for j in range(i+1, len(a)):\n",
    "            if a[i] > a[j]:\n",
    "                a[i], a[j] = a[j], a[i]\n",
    "    return a"
   ]
  },
  {
   "cell_type": "code",
   "execution_count": 32,
   "metadata": {},
   "outputs": [
    {
     "name": "stdout",
     "output_type": "stream",
     "text": [
      "[1, 3, 21, 23, 29, 38, 39, 54, 60, 69, 76]\n",
      "[23, 54, 76, 3, 21, 1, 29, 69, 39, 60, 38]\n"
     ]
    }
   ],
   "source": [
    "b = exchange(a)\n",
    "print(b)\n",
    "print(a)"
   ]
  },
  {
   "cell_type": "code",
   "execution_count": 33,
   "metadata": {},
   "outputs": [],
   "source": [
    "def selection(b):\n",
    "    a = b[:]\n",
    "    for i in range(0, len(a)-1):\n",
    "        t = i\n",
    "        for j in range(i+1, len(a)):\n",
    "            if a[t] > a[j]:\n",
    "                t = j\n",
    "        if i != t:            \n",
    "            a[i], a[t] = a[t], a[i]\n",
    "    return a\n",
    "    "
   ]
  },
  {
   "cell_type": "code",
   "execution_count": 34,
   "metadata": {},
   "outputs": [
    {
     "name": "stdout",
     "output_type": "stream",
     "text": [
      "[1, 3, 21, 23, 29, 38, 39, 54, 60, 69, 76]\n",
      "[23, 54, 76, 3, 21, 1, 29, 69, 39, 60, 38]\n"
     ]
    }
   ],
   "source": [
    "c = selection(a)\n",
    "print(c)\n",
    "print(a)"
   ]
  },
  {
   "cell_type": "code",
   "execution_count": 35,
   "metadata": {},
   "outputs": [],
   "source": [
    "def bubble(b):\n",
    "    a = b[:]\n",
    "    k = 1\n",
    "    zamjene = True\n",
    "    while zamjene:\n",
    "        zamjene = False\n",
    "        for i in  range(len(a)-k):\n",
    "            if a[i] > a[i+1]:\n",
    "                a[i], a[i+1] = a[i+1], a[i]\n",
    "                zamjene = True\n",
    "    return a"
   ]
  },
  {
   "cell_type": "code",
   "execution_count": 36,
   "metadata": {},
   "outputs": [
    {
     "name": "stdout",
     "output_type": "stream",
     "text": [
      "[1, 3, 21, 23, 29, 38, 39, 54, 60, 69, 76]\n",
      "[23, 54, 76, 3, 21, 1, 29, 69, 39, 60, 38]\n"
     ]
    }
   ],
   "source": [
    "d = bubble(a)\n",
    "print(d)\n",
    "print(a)"
   ]
  },
  {
   "cell_type": "code",
   "execution_count": 37,
   "metadata": {},
   "outputs": [],
   "source": [
    "def insertion(b):\n",
    "    a = b[:]\n",
    "    for i in range(0, len(a)-1):\n",
    "        j = i+1\n",
    "        while j > 0 and a[j-1] > a[j]:\n",
    "            a[j-1], a[j] = a[j], a[j-1]\n",
    "            j -=1\n",
    "    return a"
   ]
  },
  {
   "cell_type": "code",
   "execution_count": 38,
   "metadata": {},
   "outputs": [
    {
     "name": "stdout",
     "output_type": "stream",
     "text": [
      "[1, 3, 21, 23, 29, 38, 39, 54, 60, 69, 76]\n",
      "[23, 54, 76, 3, 21, 1, 29, 69, 39, 60, 38]\n"
     ]
    }
   ],
   "source": [
    "e = insertion(a)\n",
    "print(e)\n",
    "print(a)"
   ]
  },
  {
   "cell_type": "code",
   "execution_count": 79,
   "metadata": {},
   "outputs": [],
   "source": [
    "def merge(a, b):\n",
    "    i = j = 0\n",
    "    c = list()\n",
    "    while len(c) < len(a) + len(b):\n",
    "        if i < len(a) and j < len(b):\n",
    "            if a[i] < b[j]:\n",
    "                c.append(a[i])\n",
    "                i += 1\n",
    "            else:\n",
    "                c.append(b[j])\n",
    "                j += 1\n",
    "        elif i > len(a):\n",
    "            c += b[j:]\n",
    "        else:\n",
    "            c += a[i:]\n",
    "    return c   "
   ]
  },
  {
   "cell_type": "code",
   "execution_count": 50,
   "metadata": {},
   "outputs": [
    {
     "name": "stdout",
     "output_type": "stream",
     "text": [
      "[1, 2, 6, 8, 9, 10, 14, 15, 17, 23]\n"
     ]
    }
   ],
   "source": [
    "a1 = [ 8, 15, 17, 23]\n",
    "a2 = [ 1, 2, 6, 9, 10, 14]\n",
    "\n",
    "c = merge(a1, a2)\n",
    "print(c)"
   ]
  },
  {
   "cell_type": "code",
   "execution_count": 117,
   "metadata": {},
   "outputs": [],
   "source": [
    "def merge_sort(b):    \n",
    "    a = b[:]\n",
    "    if len(a) <= 1:\n",
    "        return a\n",
    "    else:\n",
    "        n = len(a) // 2\n",
    "        lijevo = a[:n]\n",
    "        desno = a[n:]\n",
    "        x = merge_sort(lijevo)\n",
    "        y = merge_sort(desno)\n",
    "        \n",
    "    return (lijevo,desno)"
   ]
  },
  {
   "cell_type": "code",
   "execution_count": 118,
   "metadata": {},
   "outputs": [
    {
     "name": "stdout",
     "output_type": "stream",
     "text": [
      "[1, 23, 29, 54, 69, 39, 60, 38, 76, 3, 21]\n",
      "[23, 54, 76, 3, 21, 1, 29, 69, 39, 60, 38]\n"
     ]
    }
   ],
   "source": [
    "tup = merge_sort(a)\n",
    "f = merge(tup[0], tup[1])\n",
    "# f = merge_sort(a)\n",
    "print(f)\n",
    "print(a)"
   ]
  },
  {
   "cell_type": "code",
   "execution_count": null,
   "metadata": {},
   "outputs": [],
   "source": []
  }
 ],
 "metadata": {
  "kernelspec": {
   "display_name": "Python 3",
   "language": "python",
   "name": "python3"
  },
  "language_info": {
   "codemirror_mode": {
    "name": "ipython",
    "version": 3
   },
   "file_extension": ".py",
   "mimetype": "text/x-python",
   "name": "python",
   "nbconvert_exporter": "python",
   "pygments_lexer": "ipython3",
   "version": "3.11.0"
  },
  "orig_nbformat": 4
 },
 "nbformat": 4,
 "nbformat_minor": 2
}
