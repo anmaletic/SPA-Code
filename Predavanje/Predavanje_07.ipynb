{
 "cells": [
  {
   "cell_type": "code",
   "execution_count": 6,
   "metadata": {},
   "outputs": [],
   "source": [
    "def bucketSort(a=[8, 17, 23, 15, 9, 2, 14, 10, 1, 6]):\n",
    "    r = dict()\n",
    "    najmanji = a[0]\n",
    "    najveci = a[0]\n",
    "    for e in a:\n",
    "        if e < najmanji:\n",
    "            najmanji = e\n",
    "        if e > najveci:\n",
    "            najveci = e\n",
    "        if e in r:\n",
    "            r[e] += 1\n",
    "        else:\n",
    "            r[e] = 1\n",
    "        \n",
    "    b = []\n",
    "    for k in range(najmanji, najveci+1):\n",
    "        b += [k] * r.get(k, 0)\n",
    "    \n",
    "    return b"
   ]
  },
  {
   "cell_type": "code",
   "execution_count": 7,
   "metadata": {},
   "outputs": [
    {
     "data": {
      "text/plain": [
       "[1, 2, 6, 8, 9, 10, 14, 15, 17, 23]"
      ]
     },
     "execution_count": 7,
     "metadata": {},
     "output_type": "execute_result"
    }
   ],
   "source": [
    "bucketSort()"
   ]
  },
  {
   "cell_type": "code",
   "execution_count": 16,
   "metadata": {},
   "outputs": [],
   "source": [
    "def bucketSort2(a=[8, 17, 23, 15, 9, 2, 14, 10, 1, 6], m=5):\n",
    "    b = [[] for i in range(m)]\n",
    "    mini = min(a)\n",
    "    maxi = max(a)\n",
    "    total = maxi - mini + 1\n",
    "    for k in a:\n",
    "        i = (k - mini) * m // total\n",
    "        b[i].append(k)\n",
    "    print(b)\n"
   ]
  },
  {
   "cell_type": "code",
   "execution_count": 17,
   "metadata": {},
   "outputs": [
    {
     "name": "stdout",
     "output_type": "stream",
     "text": [
      "[[2, 1], [8, 9, 10, 6], [14], [17, 15], [23]]\n"
     ]
    }
   ],
   "source": [
    "bucketSort2()"
   ]
  },
  {
   "cell_type": "code",
   "execution_count": 33,
   "metadata": {},
   "outputs": [],
   "source": [
    "def insertion(a=[8, 17, 23, 15, 9, 2, 14, 10, 1, 6]):\n",
    "    b = a[:]\n",
    "    for i in range(1, len(a)):\n",
    "        j = i\n",
    "        while j > 0 and b[j] < b[j-1]:\n",
    "            b[j], b[j-1] = b[j-1], b[j]\n",
    "            j -= 1\n",
    "    return b\n",
    "            "
   ]
  },
  {
   "cell_type": "code",
   "execution_count": 14,
   "metadata": {},
   "outputs": [
    {
     "data": {
      "text/plain": [
       "[1, 2, 6, 8, 9, 10, 14, 15, 17, 23]"
      ]
     },
     "execution_count": 14,
     "metadata": {},
     "output_type": "execute_result"
    }
   ],
   "source": [
    "insertion()"
   ]
  },
  {
   "cell_type": "code",
   "execution_count": 34,
   "metadata": {},
   "outputs": [],
   "source": [
    "def bucketSort3(a=[8, 17, 23, 15, 9, 2, 14, 10, 1, 6], m=5):\n",
    "    b = [[] for i in range(m)]\n",
    "    mini = min(a)\n",
    "    maxi = max(a)\n",
    "    total = maxi - mini + 1\n",
    "    for k in a:\n",
    "        i = (k - mini) * m // total\n",
    "        b[i].append(k)\n",
    "        \n",
    "    result = []\n",
    "    for t in b:\n",
    "        temp = insertion(t)\n",
    "        for k in temp:\n",
    "            result.append(k)\n",
    "    return result"
   ]
  },
  {
   "cell_type": "code",
   "execution_count": 35,
   "metadata": {},
   "outputs": [
    {
     "data": {
      "text/plain": [
       "[1, 2, 6, 8, 9, 10, 14, 15, 17, 23]"
      ]
     },
     "execution_count": 35,
     "metadata": {},
     "output_type": "execute_result"
    }
   ],
   "source": [
    "bucketSort3()"
   ]
  },
  {
   "cell_type": "code",
   "execution_count": null,
   "metadata": {},
   "outputs": [],
   "source": []
  }
 ],
 "metadata": {
  "kernelspec": {
   "display_name": "Python 3",
   "language": "python",
   "name": "python3"
  },
  "language_info": {
   "codemirror_mode": {
    "name": "ipython",
    "version": 3
   },
   "file_extension": ".py",
   "mimetype": "text/x-python",
   "name": "python",
   "nbconvert_exporter": "python",
   "pygments_lexer": "ipython3",
   "version": "3.11.0"
  },
  "orig_nbformat": 4
 },
 "nbformat": 4,
 "nbformat_minor": 2
}
