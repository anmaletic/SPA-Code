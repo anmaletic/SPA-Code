{
 "cells": [
  {
   "cell_type": "code",
   "execution_count": 16,
   "metadata": {},
   "outputs": [],
   "source": [
    "def dijkstra(a, v):\n",
    "    udaljenosti = [float('inf')] * len(a)\n",
    "    udaljenosti[v] = 0\n",
    "    obradeno = []\n",
    "    while len(obradeno) < len(a):\n",
    "        minv = float('inf')\n",
    "        mini = -1\n",
    "        for i in range(len(udaljenosti)):\n",
    "            if i not in obradeno and udaljenosti[i] < minv:\n",
    "                minv = udaljenosti[i]\n",
    "                mini = i\n",
    "        for j in range(len(a)):\n",
    "            if udaljenosti[j] > udaljenosti[mini] + a[mini][j]:\n",
    "                udaljenosti[j] = udaljenosti[mini] + a[mini][j]\n",
    "        obradeno.append(mini)\n",
    "    return udaljenosti"
   ]
  },
  {
   "cell_type": "code",
   "execution_count": 17,
   "metadata": {},
   "outputs": [
    {
     "data": {
      "text/plain": [
       "[0, 8, 9, 5, 7]"
      ]
     },
     "execution_count": 17,
     "metadata": {},
     "output_type": "execute_result"
    }
   ],
   "source": [
    "i = float('inf')\n",
    "a = [ [0,10,i,5,i],\n",
    "      [i,0,1,2,i],\n",
    "      [i,i,0,i,4],\n",
    "      [i,3,9,0,2],\n",
    "      [7,i,6,i,0]]\n",
    "\n",
    "dijkstra(a, 0)"
   ]
  },
  {
   "cell_type": "code",
   "execution_count": null,
   "metadata": {},
   "outputs": [],
   "source": []
  }
 ],
 "metadata": {
  "kernelspec": {
   "display_name": "Python 3",
   "language": "python",
   "name": "python3"
  },
  "language_info": {
   "codemirror_mode": {
    "name": "ipython",
    "version": 3
   },
   "file_extension": ".py",
   "mimetype": "text/x-python",
   "name": "python",
   "nbconvert_exporter": "python",
   "pygments_lexer": "ipython3",
   "version": "3.11.0"
  },
  "orig_nbformat": 4
 },
 "nbformat": 4,
 "nbformat_minor": 2
}
