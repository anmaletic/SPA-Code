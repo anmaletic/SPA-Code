{
 "cells": [
  {
   "cell_type": "code",
   "execution_count": 13,
   "metadata": {},
   "outputs": [],
   "source": [
    "class Node:\n",
    "    def __init__(self, v) -> None:\n",
    "        self.prev = None\n",
    "        self.value = v\n",
    "        self.next = None\n",
    "        \n",
    "class DoubleLinkedList:\n",
    "    def __init__(self) -> None:\n",
    "        self.head = None\n",
    "        \n",
    "    def addFirst(self, v):\n",
    "        t = Node(v)\n",
    "        if self.head == None:\n",
    "            self.head = t\n",
    "        else:\n",
    "            t.next = self.head\n",
    "            self.head.prev = t\n",
    "            self.head = t    \n",
    "    "
   ]
  },
  {
   "cell_type": "code",
   "execution_count": 19,
   "metadata": {},
   "outputs": [
    {
     "name": "stdout",
     "output_type": "stream",
     "text": [
      "7\n",
      "3\n"
     ]
    }
   ],
   "source": [
    "a = DoubleLinkedList()\n",
    "a.head = Node(7)\n",
    "a.head.next = Node(3)\n",
    "a.head.next.prev = a.head\n",
    "\n",
    "print(a.head.value)\n",
    "print(a.head.next.value)\n",
    "\n",
    "a.addFirst(2)"
   ]
  },
  {
   "cell_type": "code",
   "execution_count": 22,
   "metadata": {},
   "outputs": [
    {
     "name": "stdout",
     "output_type": "stream",
     "text": [
      "2\n",
      "2\n",
      "3\n"
     ]
    }
   ],
   "source": []
  },
  {
   "cell_type": "code",
   "execution_count": 15,
   "metadata": {},
   "outputs": [],
   "source": [
    "a = Node(3)\n",
    "a.next = Node(2)\n",
    "a.next.prev = a"
   ]
  },
  {
   "cell_type": "code",
   "execution_count": 6,
   "metadata": {},
   "outputs": [
    {
     "name": "stdout",
     "output_type": "stream",
     "text": [
      "None\n",
      "3\n",
      "<__main__.Node object at 0x0000029869B6B3D0>\n",
      "2\n",
      "3\n"
     ]
    }
   ],
   "source": [
    "print(a.prev)\n",
    "print(a.value)\n",
    "print(a.next)\n",
    "print(a.next.value)\n",
    "print(a.next.prev.value)\n"
   ]
  },
  {
   "cell_type": "code",
   "execution_count": null,
   "metadata": {},
   "outputs": [],
   "source": []
  }
 ],
 "metadata": {
  "kernelspec": {
   "display_name": "Python 3",
   "language": "python",
   "name": "python3"
  },
  "language_info": {
   "codemirror_mode": {
    "name": "ipython",
    "version": 3
   },
   "file_extension": ".py",
   "mimetype": "text/x-python",
   "name": "python",
   "nbconvert_exporter": "python",
   "pygments_lexer": "ipython3",
   "version": "3.11.0"
  },
  "orig_nbformat": 4
 },
 "nbformat": 4,
 "nbformat_minor": 2
}
