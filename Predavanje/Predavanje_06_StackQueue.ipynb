{
 "cells": [
  {
   "cell_type": "code",
   "execution_count": 3,
   "metadata": {},
   "outputs": [],
   "source": [
    "# Linked List \n",
    "\n",
    "class Node:\n",
    "    def __init__(self, value, n=None) -> None:\n",
    "        self.value = value\n",
    "        self.next = n\n",
    "        \n",
    "class LinkedList:\n",
    "    def __init__(self) -> None:\n",
    "        self.head = None\n",
    "        \n",
    "    def addFirst(self, v):\n",
    "        t = Node(v)\n",
    "        if self.head == None:\n",
    "            self.head = t\n",
    "        else:\n",
    "            t.next = self.head\n",
    "            self.head = t    \n",
    "            \n",
    "    def addLast(self, v):\n",
    "        if self.head == None:\n",
    "            self.head = Node(v)\n",
    "        else:\n",
    "            t = self.head\n",
    "            while t.next != None:\n",
    "                t = t.next\n",
    "            t.next = Node(v)\n",
    "            \n",
    "    def remove(self, v):\n",
    "        if self.head != None:\n",
    "            while self.head != None and self.head.value == v:\n",
    "                self.head = self.head.next\n",
    "            t = self.head\n",
    "            while t != None:\n",
    "                if t.next != None:\n",
    "                    if t.next.value != v:\n",
    "                        t = t.next\n",
    "                    else:\n",
    "                        t.next = t.next.next \n",
    "                else:\n",
    "                    t = None\n",
    "    \n",
    "    def __repr__(self) -> str:\n",
    "        t = self.head\n",
    "        s = \"\"\n",
    "        while t != None:\n",
    "            s += str(t.value) + \" -> \"\n",
    "            t = t.next     \n",
    "        return s.removesuffix(\" -> \")\n",
    "    \n",
    "    def __iter__(self):\n",
    "        self.iter = self.head\n",
    "        return self\n",
    "    \n",
    "    def __next__(self):\n",
    "        if self.iter == None:\n",
    "            raise StopIteration\n",
    "        else:\n",
    "            t = self.iter.value\n",
    "            self.iter = self.iter.next\n",
    "            return t\n",
    "    "
   ]
  },
  {
   "cell_type": "code",
   "execution_count": 4,
   "metadata": {},
   "outputs": [],
   "source": [
    "class Stack(list):\n",
    "    def __init__(self):\n",
    "        super().__init__()\n",
    "        \n",
    "    def isEmpty(self):\n",
    "        return len(self) == 0\n",
    "    \n",
    "    def push(self, e):\n",
    "        self.append(e)"
   ]
  },
  {
   "cell_type": "code",
   "execution_count": 11,
   "metadata": {},
   "outputs": [],
   "source": [
    "class StackLL(LinkedList):\n",
    "    def __init__(self):\n",
    "        super().__init__()\n",
    "        \n",
    "    def isEmpty(self):\n",
    "        return self.head == None\n",
    "    \n",
    "    def push(self, e):\n",
    "        self.addFirst(e)\n",
    "        \n",
    "    def pop(self):\n",
    "        if self.isEmpty() == False:\n",
    "            t = self.head.value\n",
    "            self.head = self.head.next\n",
    "            return t\n",
    "        else:\n",
    "            raise IndexError(\"Stack je prazan!\")"
   ]
  },
  {
   "cell_type": "code",
   "execution_count": 6,
   "metadata": {},
   "outputs": [],
   "source": [
    "s = StackLL()\n",
    "s.push(2)"
   ]
  },
  {
   "cell_type": "code",
   "execution_count": 7,
   "metadata": {},
   "outputs": [
    {
     "data": {
      "text/plain": [
       "2"
      ]
     },
     "execution_count": 7,
     "metadata": {},
     "output_type": "execute_result"
    }
   ],
   "source": [
    "s.pop()"
   ]
  },
  {
   "cell_type": "code",
   "execution_count": 8,
   "metadata": {},
   "outputs": [],
   "source": [
    "class QueueL:\n",
    "    def __init__(self):\n",
    "        self.data = list()\n",
    "        \n",
    "    def enqueue(self, v):\n",
    "        self.data.append(v)\n",
    "        \n",
    "    def isEmpty(self):\n",
    "        return len(self.data) == 0\n",
    "    \n",
    "    def dequeue(self):\n",
    "        if not self.isEmpty():\n",
    "            return self.data.pop(0)\n",
    "        else:\n",
    "            raise IndexError(\"Red je prazan\")\n",
    "    "
   ]
  },
  {
   "cell_type": "code",
   "execution_count": 9,
   "metadata": {},
   "outputs": [],
   "source": [
    "class QueueLL(LinkedList):\n",
    "    def __init__(self) -> None:\n",
    "        super().__init__()\n",
    "        self.tail = None        \n",
    "        \n",
    "    def isEmpty(self):\n",
    "        return self.head == None\n",
    "    \n",
    "    def enqueue(self, e):\n",
    "        if self.isEmpty():\n",
    "            self.head = Node(e)\n",
    "            self.tail = self.head\n",
    "        else:\n",
    "            self.tail.next = Node(e)\n",
    "            self.tail = self.tail.next\n",
    "            \n",
    "    def dequeue(self):\n",
    "        if not self.isEmpty():\n",
    "            t = self.head.value\n",
    "            self.head =  self.head.next\n",
    "        else:\n",
    "            raise IndexError(\"Red je prazan!\")\n",
    "    "
   ]
  },
  {
   "cell_type": "code",
   "execution_count": 10,
   "metadata": {},
   "outputs": [
    {
     "ename": "IndexError",
     "evalue": "Red je prazan!",
     "output_type": "error",
     "traceback": [
      "\u001b[1;31m---------------------------------------------------------------------------\u001b[0m",
      "\u001b[1;31mIndexError\u001b[0m                                Traceback (most recent call last)",
      "Cell \u001b[1;32mIn[10], line 3\u001b[0m\n\u001b[0;32m      1\u001b[0m r \u001b[39m=\u001b[39m QueueLL()\n\u001b[0;32m      2\u001b[0m r\u001b[39m.\u001b[39misEmpty()\n\u001b[1;32m----> 3\u001b[0m r\u001b[39m.\u001b[39;49mdequeue()\n\u001b[0;32m      4\u001b[0m r\u001b[39m.\u001b[39menqueue(\u001b[39m23\u001b[39m)\n\u001b[0;32m      5\u001b[0m r\u001b[39m.\u001b[39mdequeue()\n",
      "Cell \u001b[1;32mIn[9], line 22\u001b[0m, in \u001b[0;36mQueueLL.dequeue\u001b[1;34m(self)\u001b[0m\n\u001b[0;32m     20\u001b[0m     \u001b[39mself\u001b[39m\u001b[39m.\u001b[39mhead \u001b[39m=\u001b[39m  \u001b[39mself\u001b[39m\u001b[39m.\u001b[39mhead\u001b[39m.\u001b[39mnext\n\u001b[0;32m     21\u001b[0m \u001b[39melse\u001b[39;00m:\n\u001b[1;32m---> 22\u001b[0m     \u001b[39mraise\u001b[39;00m \u001b[39mIndexError\u001b[39;00m(\u001b[39m\"\u001b[39m\u001b[39mRed je prazan!\u001b[39m\u001b[39m\"\u001b[39m)\n",
      "\u001b[1;31mIndexError\u001b[0m: Red je prazan!"
     ]
    }
   ],
   "source": [
    "r = QueueLL()\n",
    "r.isEmpty()\n",
    "r.dequeue()\n",
    "r.enqueue(23)\n",
    "r.dequeue()"
   ]
  },
  {
   "cell_type": "code",
   "execution_count": null,
   "metadata": {},
   "outputs": [],
   "source": [
    "def vrijednost(s:str):\n",
    "    st = StackLL()\n",
    "    for e in s.split():\n",
    "        if e in \"+-*/\":\n",
    "            y = st.pop()\n",
    "            x = st.pop()\n",
    "                   \n",
    "            if e == \"+\":\n",
    "                st.push(x+y)\n",
    "            elif e == \"*\":\n",
    "                st.push(x*y)\n",
    "            elif e == \"-\":\n",
    "                st.push(x-y)\n",
    "            elif e == \"/\":\n",
    "                st.push(x//y)\n",
    "        else:\n",
    "            st.push(int(e))\n",
    "    return st.pop()"
   ]
  },
  {
   "cell_type": "code",
   "execution_count": 13,
   "metadata": {},
   "outputs": [
    {
     "data": {
      "text/plain": [
       "18"
      ]
     },
     "execution_count": 13,
     "metadata": {},
     "output_type": "execute_result"
    }
   ],
   "source": [
    "vrijednost(\"2 3 + 4 * 8 2 + 5 / -\")"
   ]
  },
  {
   "cell_type": "code",
   "execution_count": null,
   "metadata": {},
   "outputs": [],
   "source": []
  }
 ],
 "metadata": {
  "kernelspec": {
   "display_name": "Python 3",
   "language": "python",
   "name": "python3"
  },
  "language_info": {
   "codemirror_mode": {
    "name": "ipython",
    "version": 3
   },
   "file_extension": ".py",
   "mimetype": "text/x-python",
   "name": "python",
   "nbconvert_exporter": "python",
   "pygments_lexer": "ipython3",
   "version": "3.11.0"
  },
  "orig_nbformat": 4
 },
 "nbformat": 4,
 "nbformat_minor": 2
}
