{
 "cells": [
  {
   "cell_type": "code",
   "execution_count": 19,
   "metadata": {},
   "outputs": [],
   "source": [
    "class Tree:\n",
    "    def __init__(self, v, l = None, r = None) -> None:\n",
    "        self.value = v\n",
    "        self.left = l\n",
    "        self.right = r\n",
    "        \n",
    "    def preorder(self):\n",
    "        a = list()\n",
    "        if self != None:\n",
    "            a = [self.value]\n",
    "            if self.left != None:\n",
    "                a += self.left.preorder()\n",
    "            if self.right != None:\n",
    "                a += self.right.preorder()\n",
    "        return a\n",
    "    \n",
    "    def postorder(self):\n",
    "        a = list()\n",
    "        if self:\n",
    "            if self.left:\n",
    "                a += self.left.postorder()\n",
    "            if self.right:\n",
    "                a += self.right.postorder()\n",
    "            a.append(self.value)\n",
    "        return a\n",
    "    \n",
    "    [staticmethod]\n",
    "    def rek(pre, ino):\n",
    "        ## pre = post[::-1]\n",
    "        root = Tree(pre[0])\n",
    "        for e in pre[1:]:\n",
    "            gotovo = False\n",
    "            tmp = root\n",
    "            while not gotovo:\n",
    "                if ino.index(e) < ino.index(tmp.value):\n",
    "                    if tmp.left == None:\n",
    "                        tmp.left = Tree(e)\n",
    "                        gotovo = True\n",
    "                    else:\n",
    "                        tmp = tmp.left\n",
    "                else:\n",
    "                    if tmp.right == None:\n",
    "                        tmp.right = Tree(e)\n",
    "                        gotovo = True\n",
    "                    else:\n",
    "                        tmp = tmp.right\n",
    "        return root\n",
    "                    \n",
    "            \n",
    "            \n",
    "            \n",
    "            "
   ]
  },
  {
   "cell_type": "code",
   "execution_count": 11,
   "metadata": {},
   "outputs": [
    {
     "data": {
      "text/plain": [
       "'F'"
      ]
     },
     "execution_count": 11,
     "metadata": {},
     "output_type": "execute_result"
    }
   ],
   "source": [
    "f = Tree('F')\n",
    "e = Tree('E', f)\n",
    "d = Tree('D')\n",
    "r = Tree('C', d, e)\n",
    "r = Tree('A', Tree('B'), r)\n",
    "\n",
    "r.right.right.left.value"
   ]
  },
  {
   "cell_type": "code",
   "execution_count": 12,
   "metadata": {},
   "outputs": [
    {
     "name": "stdout",
     "output_type": "stream",
     "text": [
      "['A', 'B', 'C', 'D', 'E', 'F']\n",
      "['B', 'D', 'F', 'E', 'C', 'A']\n"
     ]
    }
   ],
   "source": [
    "print(r.preorder())\n",
    "print(r.postorder())"
   ]
  },
  {
   "cell_type": "code",
   "execution_count": 20,
   "metadata": {},
   "outputs": [],
   "source": [
    "pre = [ 'A', 'B', 'D', 'C', 'E' ]\n",
    "ino = [ 'D', 'B', 'A', 'C', 'E' ]\n",
    "\n",
    "root = Tree.rek(pre, ino)"
   ]
  },
  {
   "cell_type": "code",
   "execution_count": 22,
   "metadata": {},
   "outputs": [
    {
     "data": {
      "text/plain": [
       "['D', 'B', 'E', 'C', 'A']"
      ]
     },
     "execution_count": 22,
     "metadata": {},
     "output_type": "execute_result"
    }
   ],
   "source": [
    "root.postorder()"
   ]
  },
  {
   "cell_type": "code",
   "execution_count": null,
   "metadata": {},
   "outputs": [],
   "source": []
  }
 ],
 "metadata": {
  "kernelspec": {
   "display_name": "Python 3",
   "language": "python",
   "name": "python3"
  },
  "language_info": {
   "codemirror_mode": {
    "name": "ipython",
    "version": 3
   },
   "file_extension": ".py",
   "mimetype": "text/x-python",
   "name": "python",
   "nbconvert_exporter": "python",
   "pygments_lexer": "ipython3",
   "version": "3.11.0"
  },
  "orig_nbformat": 4,
  "vscode": {
   "interpreter": {
    "hash": "b9f441d959eae8f335526b5349d0889d75d24fc46e02c208a429c9094b86b2a1"
   }
  }
 },
 "nbformat": 4,
 "nbformat_minor": 2
}
