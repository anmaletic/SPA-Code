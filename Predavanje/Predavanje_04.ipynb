{
 "cells": [
  {
   "cell_type": "code",
   "execution_count": 1,
   "metadata": {},
   "outputs": [
    {
     "name": "stdout",
     "output_type": "stream",
     "text": [
      "1*200\n",
      "1*100\n",
      "1*50\n",
      "1*2\n"
     ]
    }
   ],
   "source": [
    "# Pohlepni\n",
    "def isplata(iznos):\n",
    "    apoeni = [500, 200, 100, 50, 20, 10, 5, 2, 1]\n",
    "    for e in apoeni:\n",
    "        if iznos >= e:\n",
    "            print(f\"{iznos // e}*{e}\")\n",
    "            iznos %= e\n",
    "            \n",
    "isplata(352)"
   ]
  },
  {
   "cell_type": "code",
   "execution_count": 10,
   "metadata": {},
   "outputs": [
    {
     "data": {
      "text/plain": [
       "20"
      ]
     },
     "execution_count": 10,
     "metadata": {},
     "output_type": "execute_result"
    }
   ],
   "source": [
    "g = lambda a, b : a + b\n",
    "g(9, 11)"
   ]
  },
  {
   "cell_type": "code",
   "execution_count": 16,
   "metadata": {},
   "outputs": [
    {
     "data": {
      "text/plain": [
       "['d', 'ae', 'abc']"
      ]
     },
     "execution_count": 16,
     "metadata": {},
     "output_type": "execute_result"
    }
   ],
   "source": [
    "a = [ \"abc\", \"d\", \"ae\"]\n",
    "a.sort()\n",
    "a\n",
    "a.sort(key= lambda e : e[-1])\n",
    "a\n",
    "a.sort(key= lambda e : len(e))\n",
    "a"
   ]
  },
  {
   "cell_type": "code",
   "execution_count": 18,
   "metadata": {},
   "outputs": [
    {
     "name": "stdout",
     "output_type": "stream",
     "text": [
      "(2, 6)\n",
      "(6, 9)\n",
      "(9, 13)\n",
      "(13, 18)\n",
      "4\n"
     ]
    }
   ],
   "source": [
    "# pohlepni pristup\n",
    "def najam(a = [(2, 6), (4, 7), (1, 8), (6, 9), (4, 11), (6, 11), (7, 12), (9, 13), (9, 14), (3, 16), (13, 18)]):\n",
    "    a.sort(key=lambda e : e[1])\n",
    "    e = a[0][1]\n",
    "    print(a[0])\n",
    "    b = 1\n",
    "    for i in range(1, len(a)):\n",
    "        if a[i][0] >= e:\n",
    "            e = a[i][1]\n",
    "            print(a[i])\n",
    "            b += 1\n",
    "    return b\n",
    "\n",
    "print(najam())"
   ]
  },
  {
   "cell_type": "code",
   "execution_count": 24,
   "metadata": {},
   "outputs": [
    {
     "name": "stdout",
     "output_type": "stream",
     "text": [
      "[0, 1]\n",
      "[0, 1, 2]\n",
      "[0, 1, 2, 3]\n",
      "[0, 1, 2, 3, 4]\n",
      "[0, 1, 2, 3, 4, 1]\n",
      "[0, 1, 2, 3, 4, 1, 2]\n",
      "[0, 1, 2, 3, 4, 1, 2, 1]\n",
      "[0, 1, 2, 3, 4, 1, 2, 1, 2]\n",
      "[0, 1, 2, 3, 4, 1, 2, 1, 2, 3]\n",
      "[0, 1, 2, 3, 4, 1, 2, 1, 2, 3, 2]\n",
      "[0, 1, 2, 3, 4, 1, 2, 1, 2, 3, 2, 3]\n",
      "3\n"
     ]
    }
   ],
   "source": [
    "def isplata2(iznos, a=[1, 5, 7]):\n",
    "    r = [0]\n",
    "    for k in range(1, iznos + 1):\n",
    "        najmanji = float('inf')\n",
    "        for e in a:\n",
    "            if k - e >= 0:\n",
    "                b = r[k-e] + 1\n",
    "                if b < najmanji:\n",
    "                    najmanji = b\n",
    "        r.append(najmanji)\n",
    "        print(r)\n",
    "    return r[-1]\n",
    "\n",
    "print(isplata2(11))"
   ]
  },
  {
   "cell_type": "code",
   "execution_count": null,
   "metadata": {},
   "outputs": [],
   "source": []
  }
 ],
 "metadata": {
  "kernelspec": {
   "display_name": "Python 3",
   "language": "python",
   "name": "python3"
  },
  "language_info": {
   "codemirror_mode": {
    "name": "ipython",
    "version": 3
   },
   "file_extension": ".py",
   "mimetype": "text/x-python",
   "name": "python",
   "nbconvert_exporter": "python",
   "pygments_lexer": "ipython3",
   "version": "3.11.0"
  },
  "orig_nbformat": 4
 },
 "nbformat": 4,
 "nbformat_minor": 2
}
