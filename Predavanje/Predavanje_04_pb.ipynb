{
 "cells": [
  {
   "cell_type": "code",
   "execution_count": 3,
   "metadata": {},
   "outputs": [
    {
     "name": "stdout",
     "output_type": "stream",
     "text": [
      "2*500\n",
      "1*200\n",
      "1*2\n",
      "1*1\n"
     ]
    }
   ],
   "source": [
    "## Pohlepni pristup\n",
    "def isplata(iznos):\n",
    "    '''Idemo redom po apoenima od najvećega prema najmanjemu\n",
    "       i provjeravamo je li iznos s kojim raspolažemo veći od\n",
    "       vrijednosti apoena, ukoliko je računamo koliko najviše apoena\n",
    "       zadane vrijednosti ide u zadani iznos npr. ukoliko raspolažemo\n",
    "       s iznosom od 2538€ najveći iznos apoena je 500, i najveći\n",
    "       broj apoena vrijednosti 500€ za isplatu navedenog iznosa je 7.\n",
    "       Preostali iznos (iznos % [vrijednost apoena] - 2538 % 500 = 38)\n",
    "       nastavljamo isplaćivati na isti način s apoenima manje vrijednosti.\n",
    "    '''\n",
    "    apoeni = [500, 200, 100, 50, 20, 10, 5, 2, 1]\n",
    "    for e in apoeni:\n",
    "        if iznos >= e:\n",
    "            print(f'{iznos // e}*{e}')\n",
    "            iznos %= e\n",
    "            \n",
    "            \n",
    "isplata(1203)"
   ]
  },
  {
   "cell_type": "code",
   "execution_count": 4,
   "metadata": {},
   "outputs": [
    {
     "name": "stdout",
     "output_type": "stream",
     "text": [
      "(2, 6)\n",
      "(6, 9)\n",
      "(9, 13)\n",
      "(13, 18)\n"
     ]
    },
    {
     "data": {
      "text/plain": [
       "4"
      ]
     },
     "execution_count": 4,
     "metadata": {},
     "output_type": "execute_result"
    }
   ],
   "source": [
    "## Pohlepni pristup\n",
    "def najam(a = [(2, 6), (4, 7), (1, 8), (6, 9), (4, 11), (6, 11), (7, 12), (9, 13), (9, 14), (3, 16), (13, 18)]):\n",
    "    '''Dolaske i odlaske gostiju poredati ćemo prema danu odlaska\n",
    "       (drugi element para) a onda ćemo \"pohlepno\" uzeti prvog gosta\n",
    "       i redom svakog sljedećeg kod kojega je dan dolaska veći ili jednak\n",
    "       od dana odlaska prethodnog gosta'''\n",
    "    a.sort(key=lambda e : e[1])\n",
    "    ##uzimamo prvog gosta, u varijabli e piše dan odlaska aktualnog gosta\n",
    "    e = a[0][1]\n",
    "    print(a[0])\n",
    "    b = 1\n",
    "    for i in range(1, len(a)):\n",
    "        ##ukoliko i-ti gost dolazi na dan koji je veći ili jednak\n",
    "        ##od dana odlaska aktualnog gosta uzimamo ga i mijenjamo\n",
    "        ##dan odlalska na dan odlaska i-tog gosta (e = a[i][1])\n",
    "        if a[i][0] >= e:\n",
    "            e = a[i][1]\n",
    "            print(a[i])\n",
    "            b += 1\n",
    "    return b\n",
    "\n",
    "najam()"
   ]
  },
  {
   "cell_type": "code",
   "execution_count": 5,
   "metadata": {},
   "outputs": [
    {
     "name": "stdout",
     "output_type": "stream",
     "text": [
      "[0, 1, 2, 3, 4, 1, 2, 1, 2, 3, 2, 3]\n",
      "3\n"
     ]
    }
   ],
   "source": [
    "## Dinamičko programiranje\n",
    "def isplata2(iznos, a=[1, 5, 7]):\n",
    "    '''Vidjeli smo da pohlepan način isplate zadanog iznosa s minimalnim brojem\n",
    "       novčanica zadanih vrijednosti ne daje uvijek točno rješenje.\n",
    "       U ovom primjeru smo isti problem riješili dinamičkim programiranjem:\n",
    "       - redom pamtimo najmanji broj novčanica s kojim možemo isplačivati iznose\n",
    "       0, 1, 2, ... iznos\n",
    "       Pretpostavimo da raspolažemo apoenima od 1, 5 i 7€\n",
    "       za pohranjivanjem rezultata koristimo listu r. U listi r redom piše:\n",
    "       - r[0] minimalni broj novčanica da bi isplatili iznos od 0€ (0)\n",
    "       - r[1] minimalni broj novčanica da bi isplatili iznos od 1€ (1)\n",
    "       - r[2] minimalni broj novčanica da bi isplatili iznos od 2€ (2)\n",
    "       ...\n",
    "       - r[10] minimalni broj novčanica da bi isplatili iznos od 10€. Budući da\n",
    "       znamo redom sve r[0], r[1],... r[9]:\n",
    "       r[10] možemo dobiti na sljedeće načine:\n",
    "       r[10] : 10€ možemo dobiti na sljedećenačine:\n",
    "                   - 9€ i jedna novčanica od 1€\n",
    "                   - 5€ i jedna novčanica od 5€\n",
    "                   - 3€ i jedna novčanica od 7€\n",
    "            budući da mi znamo najmanji broj načina na koji se može isplatiti:\n",
    "            9€ -> r[9] = 3\n",
    "            5€ -> r[5] = 1\n",
    "            3€ -> r[3] = 3\n",
    "            Rješenje će biti najmanji od brojeva:\n",
    "            - r[9] + 1 (4) - minimalni broj novčanica da isplatimo 9€ + jedna novčanica od 1€\n",
    "            - r[5] + 1 (2) - minimalni broj novčanica da isplatimo 5€ + jedna novčanica od 5€\n",
    "            - r[3] + 1 (4) - minimalni broj novčanica da isplatimo 3€ + jedna novčanica od 7€\n",
    "            primijetimo da smo prošli po svim apoenima (1, 5, 7) te za računanje r[10] promatrali:\n",
    "            r[10 - 1] + 1\n",
    "            r[10 - 5] + 1\n",
    "            r[10 - 7] + 1\n",
    "        da smo primjerice računali r[6] novčanica vrijednosti 7€ ovdje ne bi dolazila\n",
    "        u razmatranje jer je r[6 - 7] ne postoji (postoji ali to nije ono što mi želimo)\n",
    "    '''\n",
    "    r = [0]\n",
    "    ##redom gradimo listu r, pri čemu je r[0] = 0\n",
    "    for k in range(1, iznos + 1):\n",
    "        najmanji = float('inf')\n",
    "        ##tražimo najmanji od iznos r[k-e], pri čemu su e redom apoeni s\n",
    "        ##kojima raspolažemo (elementi liste a)\n",
    "        for e in a:\n",
    "            ##promatramo samo one apoene koji su manji od iznosa koji isplaćujemo\n",
    "            if k - e >= 0:\n",
    "                b = r[k-e] + 1\n",
    "                if b < najmanji:\n",
    "                    najmanji = b\n",
    "        ##u varijabli najmanji piše najmanji broj apoena za isplatu iznosa e.\n",
    "        r.append(najmanji)\n",
    "    print(r)\n",
    "    return r[-1]\n",
    "\n",
    "print(isplata2(11))"
   ]
  },
  {
   "cell_type": "code",
   "execution_count": null,
   "metadata": {},
   "outputs": [],
   "source": []
  }
 ],
 "metadata": {
  "kernelspec": {
   "display_name": "Python 3",
   "language": "python",
   "name": "python3"
  },
  "language_info": {
   "codemirror_mode": {
    "name": "ipython",
    "version": 3
   },
   "file_extension": ".py",
   "mimetype": "text/x-python",
   "name": "python",
   "nbconvert_exporter": "python",
   "pygments_lexer": "ipython3",
   "version": "3.11.0"
  },
  "orig_nbformat": 4
 },
 "nbformat": 4,
 "nbformat_minor": 2
}
