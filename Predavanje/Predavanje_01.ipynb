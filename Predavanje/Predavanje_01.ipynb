{
 "cells": [
  {
   "cell_type": "code",
   "execution_count": 57,
   "metadata": {},
   "outputs": [
    {
     "name": "stdout",
     "output_type": "stream",
     "text": [
      "12.46\n",
      "Najniza temperatura bila je datuma: 2023-09-18 te je iznosila -20.0.\n",
      "Najvisa temperatura bila je datuma: 2023-08-18 te je iznosila 45.0.\n"
     ]
    }
   ],
   "source": [
    "import datetime\n",
    "from random import *\n",
    "from time import time\n",
    "\n",
    "class MjerenjeModel:\n",
    "    def __init__(self, datum:datetime, temperatura:float) -> None:\n",
    "        self.datum = datum\n",
    "        self.temperatura = temperatura\n",
    "        \n",
    "    def __str__(self) -> str:\n",
    "        return f\"{self.datum} {self.temperatura}\"\n",
    "\n",
    "def GenerateDemoData():\n",
    "    mjerenjaData = []\n",
    "    for i in range(1000000):\n",
    "        date = datetime.date(2023,month= randint(1, 12), day=randint(1, 28))\n",
    "        mjerenjaData.append(MjerenjeModel( date, randint(-200, +450) /10))    \n",
    "    return mjerenjaData\n",
    "    \n",
    "def najniza(mjerenja:list):\n",
    "    min = None\n",
    "    for data in mjerenja:\n",
    "        if min == None:\n",
    "            min = data\n",
    "        if min.temperatura > data.temperatura:\n",
    "            min = data            \n",
    "    return min.datum, min.temperatura\n",
    "\n",
    "def main():   \n",
    "    start = time()\n",
    "    mjerenjaData = GenerateDemoData()    \n",
    "    stop = time()\n",
    "    print(round(stop - start, 2))\n",
    "    \n",
    "    mjerenjaData = sorted(mjerenjaData, key=lambda e : e.temperatura)\n",
    "    print(f\"Najniza temperatura bila je datuma: {mjerenjaData[0].datum} te je iznosila {mjerenjaData[0].temperatura}.\")\n",
    "    print(f\"Najvisa temperatura bila je datuma: {mjerenjaData[-1].datum} te je iznosila {mjerenjaData[-1].temperatura}.\")  \n",
    "    \n",
    "main()  \n"
   ]
  }
 ],
 "metadata": {
  "kernelspec": {
   "display_name": "Python 3.11.0 64-bit",
   "language": "python",
   "name": "python3"
  },
  "language_info": {
   "codemirror_mode": {
    "name": "ipython",
    "version": 3
   },
   "file_extension": ".py",
   "mimetype": "text/x-python",
   "name": "python",
   "nbconvert_exporter": "python",
   "pygments_lexer": "ipython3",
   "version": "3.11.0"
  },
  "orig_nbformat": 4,
  "vscode": {
   "interpreter": {
    "hash": "b9f441d959eae8f335526b5349d0889d75d24fc46e02c208a429c9094b86b2a1"
   }
  }
 },
 "nbformat": 4,
 "nbformat_minor": 2
}
