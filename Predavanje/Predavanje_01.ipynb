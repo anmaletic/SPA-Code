{
 "cells": [
  {
   "cell_type": "code",
   "execution_count": 10,
   "metadata": {},
   "outputs": [
    {
     "name": "stdout",
     "output_type": "stream",
     "text": [
      "Najniza temperatura bila je datuma: 2023-10-02 te je iznosila -20.0.\n",
      "Najvisa temperatura bila je datuma: 2023-01-03 te je iznosila 45.0.\n",
      "0.81\n"
     ]
    }
   ],
   "source": [
    "import datetime\n",
    "from random import *\n",
    "from time import time\n",
    "\n",
    "class MjerenjeModel:\n",
    "    def __init__(self, datum:datetime, temperatura:float) -> None:\n",
    "        self.datum = datum\n",
    "        self.temperatura = temperatura\n",
    "        \n",
    "    def __str__(self) -> str:\n",
    "        return f\"{self.datum} {self.temperatura}\"\n",
    "\n",
    "def GenerateDemoData():\n",
    "    mjerenjaData = []\n",
    "    for i in range(1000000):\n",
    "        date = datetime.date(2023,month= randint(1, 12), day=randint(1, 28))\n",
    "        mjerenjaData.append(MjerenjeModel( date, randint(-200, +450) /10))    \n",
    "    return mjerenjaData\n",
    "    \n",
    "def najniza(mjerenja:list):\n",
    "    min = None\n",
    "    for data in mjerenja:\n",
    "        if min == None:\n",
    "            min = data\n",
    "        if min.temperatura > data.temperatura:\n",
    "            min = data            \n",
    "    return min.datum, min.temperatura\n",
    "\n",
    "def main():   \n",
    "    mjerenjaData = GenerateDemoData()        \n",
    "    \n",
    "    start = time()\n",
    "    mjerenjaData = sorted(mjerenjaData, key=lambda e : e.temperatura)\n",
    "    print(f\"Najniza temperatura bila je datuma: {mjerenjaData[0].datum} te je iznosila {mjerenjaData[0].temperatura}.\")\n",
    "    print(f\"Najvisa temperatura bila je datuma: {mjerenjaData[-1].datum} te je iznosila {mjerenjaData[-1].temperatura}.\")  \n",
    "    stop = time()\n",
    "    print(round(stop - start, 2))\n",
    "    \n",
    "main()  \n"
   ]
  },
  {
   "attachments": {},
   "cell_type": "markdown",
   "metadata": {},
   "source": [
    "Ispisati 2 broja koja su najbliza po apsolutnoj vrijednosti"
   ]
  },
  {
   "cell_type": "code",
   "execution_count": 12,
   "metadata": {},
   "outputs": [
    {
     "name": "stdout",
     "output_type": "stream",
     "text": [
      "Trajanje: 3.99 3019944 3019944\n",
      "Trajanje: 0.00 1551991 1551991\n"
     ]
    }
   ],
   "source": [
    "from random import *\n",
    "from time import *\n",
    "\n",
    "x = -10000000\n",
    "y = 10000000\n",
    "n = 10000\n",
    "\n",
    "def GenerateDemoData():   \n",
    "    a = [] \n",
    "    for i in range(n):\n",
    "        a.append(randint(x, y))\n",
    "    return a\n",
    "\n",
    "def najblizi(a):\n",
    "    x, y = a[0], a[1]\n",
    "    for i in range(0, len(a) - 1):\n",
    "        for j in range(i + 1, len(a)):\n",
    "            if abs(a[i] - a[j]) < abs(x - y):\n",
    "                x, y = a[i], a[j]\n",
    "    return x, y\n",
    "\n",
    "def najblizi2(a):\n",
    "    a.sort()\n",
    "    x, y = a[0], a[1]\n",
    "    for i in range(len(a) - 1):\n",
    "        if abs(a[i] - a[i + 1]) < abs(x - y):\n",
    "            x, y = a[i], a[i + 1]\n",
    "    return x, y\n",
    "\n",
    "def main():\n",
    "    a = GenerateDemoData()\n",
    "    \n",
    "    poc = time()\n",
    "    p, q = najblizi(a)\n",
    "    kraj = time()    \n",
    "    print(f'Trajanje: {kraj - poc:.2f} {p} {q}')\n",
    "    \n",
    "    poc = time()\n",
    "    p, q = najblizi2(a)\n",
    "    kraj = time()    \n",
    "    print(f'Trajanje: {kraj - poc:.2f} {p} {q}')\n",
    "    \n",
    "main()"
   ]
  },
  {
   "attachments": {},
   "cell_type": "markdown",
   "metadata": {},
   "source": [
    "Ispisati kojega datuma je bila najmanja temperatura,\n",
    "te kojega datuma je bila najveca temperatura"
   ]
  },
  {
   "cell_type": "code",
   "execution_count": 31,
   "metadata": {},
   "outputs": [
    {
     "name": "stdout",
     "output_type": "stream",
     "text": [
      "11.02.1929.:: -15.5\n",
      "05.07.1950.:: 40.3\n",
      "0.04\n"
     ]
    }
   ],
   "source": [
    "class Datum:\n",
    "    def __init__(self, s):\n",
    "        self.D = int(s[-2:])\n",
    "        self.M = int(s[4:6])\n",
    "        self.G = int(s[:4])\n",
    "\n",
    "    def __repr__(self):\n",
    "        return f'{self.D:02d}.{self.M:02d}.{self.G}.'\n",
    "\n",
    "    def __lt__(self, d2):\n",
    "        if self.G < d2.G:\n",
    "            return True\n",
    "        elif self.G > d2.G:\n",
    "            return False\n",
    "        else:\n",
    "            if self.M < d2.M:\n",
    "                return True\n",
    "            elif self.M > d2.M:\n",
    "                return False\n",
    "            else:\n",
    "                if self.D < d2.D:\n",
    "                    return True\n",
    "                else:\n",
    "                    return False\n",
    "\n",
    "class Temperatura:\n",
    "    def __init__(self, d, t):\n",
    "        self.D = d\n",
    "        self.T = t\n",
    "\n",
    "    def __repr__(self):\n",
    "        return f'{self.D}:: {self.T}'\n",
    "\n",
    "def ucitaj(path='temperature.txt'):\n",
    "    temperature = []\n",
    "    f = open(path, 'r')\n",
    "    for red in f.readlines():\n",
    "        tmp = red.split(',')\n",
    "        if tmp[3].strip() == '0':\n",
    "            t = Temperatura(Datum(tmp[1]), int(tmp[2]) / 10)\n",
    "            temperature.append(t)\n",
    "    return temperature\n",
    "\n",
    "def najniza(a):\n",
    "    najmanji = a[0]\n",
    "    for e in a:\n",
    "        if e[1] < najmanji[1]:\n",
    "            najmanji = e\n",
    "    return najmanji\n",
    "\n",
    "def sortiranje(a):\n",
    "    zamjene = True\n",
    "    k = 1\n",
    "    while zamjene:\n",
    "        zamjene = False\n",
    "        for i in range(0, len(a) - k):\n",
    "            if a[i][1] > a[i + 1][1]:\n",
    "                a[i], a[i+1] = a[i+1], a[i]\n",
    "                zamjene = True\n",
    "        k += 1\n",
    "    return a\n",
    "\n",
    "a = ucitaj('temperature.txt')\n",
    "##a = sortiranje(a)\n",
    "\n",
    "\n",
    "start = time()\n",
    "    \n",
    "a.sort(key=lambda e : e.T)\n",
    "print(a[0])\n",
    "print(a[len(a)-1])\n",
    "\n",
    "stop = time()\n",
    "print(round(stop - start, 2))   \n"
   ]
  },
  {
   "cell_type": "code",
   "execution_count": 28,
   "metadata": {},
   "outputs": [
    {
     "name": "stdout",
     "output_type": "stream",
     "text": [
      "0.11\n",
      "100061 1929-02-11 -15.5 True\n",
      "100061 1950-07-05 40.3 True\n"
     ]
    }
   ],
   "source": [
    "from datetime import datetime, date\n",
    "from time import time\n",
    "\n",
    "class MjerenjeModel:\n",
    "    def __init__(self, sourceId:int, datum:date, temperatura:float, isValid:bool) -> None:\n",
    "        self.SourceId = sourceId\n",
    "        self.Datum = datum\n",
    "        self.Temperatura = temperatura\n",
    "        self.IsValid = isValid\n",
    "    \n",
    "    def __str__(self) -> str:\n",
    "        return f\"{self.SourceId} {self.Datum} {self.Temperatura} {self.IsValid}\"\n",
    "    \n",
    "def LoadData(path:str):\n",
    "    data = []\n",
    "    f = open(path, \"r\")\n",
    "    for line in f.readlines():\n",
    "        temp = line.split(\",\")\n",
    "        data.append(\\\n",
    "            MjerenjeModel( \\\n",
    "                sourceId = temp[0], \\\n",
    "                datum = (datetime.strptime(temp[1], \"%Y%m%d\")).date(), \\\n",
    "                temperatura = int(temp[2]) / 10, \\\n",
    "                isValid = True if int(temp[3]) == 0 else False))        \n",
    "    return data\n",
    "\n",
    "\n",
    "def main():\n",
    "    filePath = \"temperature.txt\"\n",
    "    mjerenjaData = LoadData(filePath)    \n",
    "    \n",
    "    start = time()\n",
    "    mjerenjaData = list(filter(lambda x : x.IsValid, mjerenjaData))\n",
    "    mjerenjaData.sort(key=lambda x : x.Temperatura)     \n",
    "    \n",
    "    print(mjerenjaData[0])\n",
    "    print(mjerenjaData[-1])\n",
    "    \n",
    "    stop = time()\n",
    "    print(round(stop - start, 2))        \n",
    "    \n",
    "main()\n",
    "        \n"
   ]
  }
 ],
 "metadata": {
  "kernelspec": {
   "display_name": "Python 3.11.0 64-bit",
   "language": "python",
   "name": "python3"
  },
  "language_info": {
   "codemirror_mode": {
    "name": "ipython",
    "version": 3
   },
   "file_extension": ".py",
   "mimetype": "text/x-python",
   "name": "python",
   "nbconvert_exporter": "python",
   "pygments_lexer": "ipython3",
   "version": "3.11.0"
  },
  "orig_nbformat": 4,
  "vscode": {
   "interpreter": {
    "hash": "b9f441d959eae8f335526b5349d0889d75d24fc46e02c208a429c9094b86b2a1"
   }
  }
 },
 "nbformat": 4,
 "nbformat_minor": 2
}
