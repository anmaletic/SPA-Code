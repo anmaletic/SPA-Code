{
 "cells": [
  {
   "cell_type": "code",
   "execution_count": 41,
   "metadata": {},
   "outputs": [],
   "source": [
    "class Tree:\n",
    "    def __init__(self, v, left = None, right = None) -> None:\n",
    "        self.value = v\n",
    "        self.left = left\n",
    "        self.right = right\n",
    "        \n",
    "    def preorder(self):\n",
    "        s = list()\n",
    "        if self:\n",
    "            s.append(self.value)\n",
    "            if self.left:\n",
    "                s += self.left.preorder()\n",
    "            if self.right:\n",
    "                s += self.right.preorder()        \n",
    "        return s    \n",
    "    \n",
    "def DodajCvorBst(a, root):\n",
    "    if root == None:\n",
    "        root = Tree(a)\n",
    "    else:\n",
    "        tmp = root\n",
    "        gotovo = False\n",
    "        while not gotovo:\n",
    "            if a <= tmp.value:\n",
    "                if tmp.left == None:\n",
    "                    tmp.left = Tree(a)\n",
    "                    gotovo = True\n",
    "                else:\n",
    "                    tmp = tmp.left\n",
    "            else:\n",
    "                if tmp.right == None:\n",
    "                    tmp.right = Tree(a)\n",
    "                    gotovo = True\n",
    "                else:\n",
    "                    tmp = tmp.right\n",
    "    return root\n",
    "    \n",
    "def DodajCvorBstRec(a, root):\n",
    "    if root == None:\n",
    "        root = Tree(a)\n",
    "    else:\n",
    "        if a <= root.value:\n",
    "            if root.left == None:\n",
    "                root.left = Tree(a)\n",
    "            else:\n",
    "                DodajCvorBstRec(a, root.left)\n",
    "        else:\n",
    "            if root.right == None:\n",
    "                root.right = Tree(a)\n",
    "            else:\n",
    "                DodajCvorBstRec(a, root.right)\n",
    "    return root\n",
    "\n",
    "class Heap:\n",
    "    def __init__(self) -> None:\n",
    "        self.data = list()\n",
    "        self.size = 0\n",
    "        \n",
    "    def left(self, i):\n",
    "        return 2*i + 1\n",
    "\n",
    "    def right(self, i):\n",
    "        return 2*i + 2\n",
    "    \n",
    "    def parent(self, i):\n",
    "        return (i -1) // 2\n",
    "    \n",
    "    def insert(self, v):\n",
    "        self.data.append(v)\n",
    "        self.size += 1\n",
    "        i = self.size - 1\n",
    "        while i > 0 and self.data[self.parent(i)] > self.data[i]:\n",
    "            self.data[self.parent(i)], self.data[i] = self.data[i], self.data[self.parent(i)]\n",
    "            i = self.parent(i)\n",
    "            \n",
    "    def minHeapify(self, i):\n",
    "        gotovo = False\n",
    "        while not gotovo:\n",
    "            lijevo = self.left(i)\n",
    "            desno = self.right(i)\n",
    "            mini = i\n",
    "            if lijevo < self.size:\n",
    "                if self.data[lijevo] < self.data[mini]:\n",
    "                    mini = lijevo\n",
    "            if desno < self.size and self.data[desno] < self.data[mini]:\n",
    "                mini = desno\n",
    "            if mini != i:\n",
    "                self.data[mini], self.data[i] = self.data[i], self.data[mini]\n",
    "                i = mini\n",
    "            else:\n",
    "                gotovo = True\n",
    "            \n",
    "    def buildMinHeap(self, a):\n",
    "        self.data = a\n",
    "        self.size = len(a)\n",
    "        p = self.size // 2\n",
    "        for i in range(p, -1, -1):\n",
    "            self.minHeapify(i)\n",
    "            \n",
    "    def remove(self):\n",
    "        if self.size > 1:\n",
    "            v = self.data[0]\n",
    "            self.data[0] = self.data.pop()\n",
    "            self.size -=1\n",
    "            self.minHeapify(0)\n",
    "            return v\n",
    "        elif self.size == 1:\n",
    "            self.size -= 1\n",
    "            return self.data.pop()\n",
    "            \n",
    "def heapSort(a):\n",
    "    h = Heap()\n",
    "    h.buildMinHeap(a)\n",
    "    b = list()\n",
    "    while h.size > 0:\n",
    "        b.append(h.remove())\n",
    "    return b\n",
    "                    \n",
    "            "
   ]
  },
  {
   "cell_type": "code",
   "execution_count": 9,
   "metadata": {},
   "outputs": [
    {
     "data": {
      "text/plain": [
       "['A', 'B', 'D', 'E', 'F', 'C']"
      ]
     },
     "execution_count": 9,
     "metadata": {},
     "output_type": "execute_result"
    }
   ],
   "source": [
    "f = Tree(\"F\")\n",
    "e = Tree(\"E\", f)\n",
    "d = Tree(\"D\")\n",
    "b = Tree(\"B\", d, e)\n",
    "root = Tree(\"A\", b, Tree(\"C\"))\n",
    "\n",
    "root.preorder()\n"
   ]
  },
  {
   "cell_type": "code",
   "execution_count": 17,
   "metadata": {},
   "outputs": [
    {
     "data": {
      "text/plain": [
       "[1, 9, 2, 3, 4]"
      ]
     },
     "execution_count": 17,
     "metadata": {},
     "output_type": "execute_result"
    }
   ],
   "source": [
    "def bst(a):\n",
    "    root = None\n",
    "    for e in a:\n",
    "        root = DodajCvorBst(e, root)\n",
    "    return root\n",
    "\n",
    "a = [1, 9 , 2, 3, 4]\n",
    "bTree = bst(a)\n",
    "bTree.preorder()"
   ]
  },
  {
   "cell_type": "code",
   "execution_count": 19,
   "metadata": {},
   "outputs": [
    {
     "data": {
      "text/plain": [
       "[1, 9, 2, 3, 4]"
      ]
     },
     "execution_count": 19,
     "metadata": {},
     "output_type": "execute_result"
    }
   ],
   "source": [
    "def bstRec(a):\n",
    "    root = None\n",
    "    for e in a:\n",
    "        root = DodajCvorBstRec(e, root)\n",
    "    return root\n",
    "\n",
    "a = [1, 9 , 2, 3, 4]\n",
    "bTreeRec = bstRec(a)\n",
    "bTreeRec.preorder()"
   ]
  },
  {
   "cell_type": "code",
   "execution_count": 20,
   "metadata": {},
   "outputs": [],
   "source": [
    "## R = (D - 1) // 2\n",
    "## LD = 2*i + 1\n",
    "## RD = 2*i + 2"
   ]
  },
  {
   "cell_type": "code",
   "execution_count": 22,
   "metadata": {},
   "outputs": [
    {
     "name": "stdout",
     "output_type": "stream",
     "text": [
      "[2, 3, 5, 7, 4]\n"
     ]
    }
   ],
   "source": [
    "a = [5,7,2,3,4]\n",
    "\n",
    "h = Heap()\n",
    "for e in a:\n",
    "    h.insert(e)\n",
    "print(h.data)"
   ]
  },
  {
   "cell_type": "code",
   "execution_count": 35,
   "metadata": {},
   "outputs": [
    {
     "name": "stdout",
     "output_type": "stream",
     "text": [
      "[1, 3, 8, 6, 5, 11, 19, 10, 9]\n"
     ]
    }
   ],
   "source": [
    "a = [10, 3, 11, 9, 5, 8, 19, 6, 1]\n",
    "h = Heap()\n",
    "h.buildMinHeap(a)\n",
    "\n",
    "print(h.data)"
   ]
  },
  {
   "cell_type": "code",
   "execution_count": 44,
   "metadata": {},
   "outputs": [
    {
     "name": "stdout",
     "output_type": "stream",
     "text": [
      "[1, 3, 5, 6, 8, 9, 10, 11, 19]\n"
     ]
    }
   ],
   "source": [
    "a = [10, 3, 11, 9, 5, 8, 19, 6, 1]\n",
    "a = heapSort(a)\n",
    "\n",
    "print(a)"
   ]
  },
  {
   "cell_type": "code",
   "execution_count": 47,
   "metadata": {},
   "outputs": [
    {
     "name": "stdout",
     "output_type": "stream",
     "text": [
      "['h', 'o', 'n', 'y', 'p', 't']\n"
     ]
    }
   ],
   "source": [
    "a = [ \"p\", \"y\", \"t\", \"h\", \"o\", \"n\"]\n",
    "h = Heap()\n",
    "h.buildMinHeap(a)\n",
    "\n",
    "print(h.data)"
   ]
  },
  {
   "cell_type": "code",
   "execution_count": null,
   "metadata": {},
   "outputs": [],
   "source": []
  }
 ],
 "metadata": {
  "kernelspec": {
   "display_name": "Python 3",
   "language": "python",
   "name": "python3"
  },
  "language_info": {
   "codemirror_mode": {
    "name": "ipython",
    "version": 3
   },
   "file_extension": ".py",
   "mimetype": "text/x-python",
   "name": "python",
   "nbconvert_exporter": "python",
   "pygments_lexer": "ipython3",
   "version": "3.11.0"
  },
  "orig_nbformat": 4
 },
 "nbformat": 4,
 "nbformat_minor": 2
}
