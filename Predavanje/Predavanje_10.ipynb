{
 "cells": [
  {
   "cell_type": "code",
   "execution_count": 1,
   "metadata": {},
   "outputs": [],
   "source": [
    "from numpy import *"
   ]
  },
  {
   "cell_type": "code",
   "execution_count": 6,
   "metadata": {},
   "outputs": [],
   "source": [
    "a = array([[1, 2], [0, 2]])\n",
    "b = array([[1, 3], [1, 0]])\n"
   ]
  },
  {
   "cell_type": "code",
   "execution_count": 7,
   "metadata": {},
   "outputs": [
    {
     "data": {
      "text/plain": [
       "array([[2, 5],\n",
       "       [1, 2]])"
      ]
     },
     "execution_count": 7,
     "metadata": {},
     "output_type": "execute_result"
    }
   ],
   "source": [
    "a+b"
   ]
  },
  {
   "cell_type": "code",
   "execution_count": 9,
   "metadata": {},
   "outputs": [
    {
     "data": {
      "text/plain": [
       "2"
      ]
     },
     "execution_count": 9,
     "metadata": {},
     "output_type": "execute_result"
    }
   ],
   "source": [
    "a.ndim"
   ]
  },
  {
   "cell_type": "code",
   "execution_count": 11,
   "metadata": {},
   "outputs": [
    {
     "data": {
      "text/plain": [
       "array([ 0,  1,  2,  3,  4,  5,  6,  7,  8,  9, 10, 11, 12, 13, 14, 15])"
      ]
     },
     "execution_count": 11,
     "metadata": {},
     "output_type": "execute_result"
    }
   ],
   "source": [
    "c = array([i for i in range(16)])\n",
    "c"
   ]
  },
  {
   "cell_type": "code",
   "execution_count": 21,
   "metadata": {},
   "outputs": [
    {
     "data": {
      "text/plain": [
       "array([[[[ 0,  1],\n",
       "         [ 2,  3]],\n",
       "\n",
       "        [[ 4,  5],\n",
       "         [ 6,  7]]],\n",
       "\n",
       "\n",
       "       [[[ 8,  9],\n",
       "         [10, 11]],\n",
       "\n",
       "        [[12, 13],\n",
       "         [14, 15]]]])"
      ]
     },
     "execution_count": 21,
     "metadata": {},
     "output_type": "execute_result"
    }
   ],
   "source": [
    "d=c.reshape((2,2,2,2))\n",
    "d"
   ]
  },
  {
   "cell_type": "code",
   "execution_count": 20,
   "metadata": {},
   "outputs": [
    {
     "data": {
      "text/plain": [
       "0"
      ]
     },
     "execution_count": 20,
     "metadata": {},
     "output_type": "execute_result"
    }
   ],
   "source": [
    "d[0,0,0,0]"
   ]
  },
  {
   "cell_type": "code",
   "execution_count": 26,
   "metadata": {},
   "outputs": [
    {
     "data": {
      "text/plain": [
       "14"
      ]
     },
     "execution_count": 26,
     "metadata": {},
     "output_type": "execute_result"
    }
   ],
   "source": [
    "a = array([[0,1,0,1,0,0],\n",
    "           [1,0,0,1,0,0],\n",
    "           [0,0,0,1,1,0],\n",
    "           [1,1,1,0,1,1],\n",
    "           [0,0,1,1,0,0],\n",
    "           [0,0,0,1,0,0]])\n",
    "sum(a ** 4)\n"
   ]
  },
  {
   "cell_type": "code",
   "execution_count": 27,
   "metadata": {},
   "outputs": [],
   "source": [
    "from ATP import *"
   ]
  },
  {
   "cell_type": "code",
   "execution_count": 45,
   "metadata": {},
   "outputs": [],
   "source": [
    "def BFS(a, v):\n",
    "    red = Queue()\n",
    "    izlaz = list()\n",
    "    \n",
    "    red.enqueue(v)\n",
    "    izlaz.append(v)\n",
    "    \n",
    "    while not red.isEmpty():\n",
    "        v = red.dequeue()\n",
    "        for i in range(len(a)):\n",
    "            if a[v][i] == 1:\n",
    "                if i not in izlaz:\n",
    "                    red.enqueue(i)\n",
    "                    izlaz.append(i)\n",
    "    return izlaz"
   ]
  },
  {
   "cell_type": "code",
   "execution_count": 49,
   "metadata": {},
   "outputs": [
    {
     "data": {
      "text/plain": [
       "[0, 1, 3, 2]"
      ]
     },
     "execution_count": 49,
     "metadata": {},
     "output_type": "execute_result"
    }
   ],
   "source": [
    "t = array([[0,1,0,1],\n",
    "           [1,0,1,1],\n",
    "           [0,1,0,1],\n",
    "           [1,1,1,0]])\n",
    "\n",
    "BFS(t,0)"
   ]
  },
  {
   "cell_type": "code",
   "execution_count": 40,
   "metadata": {},
   "outputs": [],
   "source": [
    "## BFS\n",
    "def skakac(xp, yp, xk, yk):\n",
    "    a = [[-1] * 8 for i in range(8)]\n",
    "    red = Queue()\n",
    "    a[xp][yp] = 0\n",
    "    red.enqueue((xp, yp))\n",
    "    dr = [(-2,-1), (-2,1), (-1,-2), (-1,2), (2,-1), (2,1), (1,-2), (1,2)]\n",
    "    while a[xk][yk] == -1:\n",
    "        x, y = red.dequeue()\n",
    "        for dx, dy in dr:\n",
    "            if x + dx >= 0 and x + dx < 8 and y + dy >= 0 and y + dy < 8:\n",
    "                if a[x + dx][y + dy] == -1:\n",
    "                    a[x + dx][y + dy] = a[x][y] + 1\n",
    "                    red.enqueue((x + dx, y + dy))\n",
    "    print(a)\n",
    "    return a[xk][yk]\n",
    "            \n"
   ]
  },
  {
   "cell_type": "code",
   "execution_count": 41,
   "metadata": {},
   "outputs": [
    {
     "name": "stdout",
     "output_type": "stream",
     "text": [
      "[[2, 3, 2, 3, 2, 3, 2, 3], [3, 4, 1, 2, 1, 4, 3, 2], [2, 1, 2, 3, 2, 1, 2, 3], [3, 2, 3, 0, 3, 2, 3, 2], [2, 1, 2, 3, 2, 1, 2, 3], [3, 4, 1, 2, 1, 4, 3, 2], [2, 3, 2, 3, 2, 3, 2, 3], [3, 2, 3, 2, 3, 2, 3, -1]]\n",
      "4\n"
     ]
    }
   ],
   "source": [
    "print(skakac(3,3,5,5))"
   ]
  },
  {
   "cell_type": "code",
   "execution_count": 50,
   "metadata": {},
   "outputs": [],
   "source": [
    "## DFS\n",
    "def DFS(a, v):\n",
    "    stog = Stack()\n",
    "    stog.push(v)\n",
    "    izlaz = list()\n",
    "    while not stog.isEmpty():\n",
    "        v = stog.pop()\n",
    "        if v not in izlaz:\n",
    "            izlaz.append(v)\n",
    "        for i in range(len(a)-1, -1, -1):\n",
    "            if a[v][i] == 1:\n",
    "                if i not in izlaz:\n",
    "                    stog.push(i)\n",
    "    return izlaz"
   ]
  },
  {
   "cell_type": "code",
   "execution_count": 51,
   "metadata": {},
   "outputs": [
    {
     "data": {
      "text/plain": [
       "[0, 1, 2, 3]"
      ]
     },
     "execution_count": 51,
     "metadata": {},
     "output_type": "execute_result"
    }
   ],
   "source": [
    "t = array([[0,1,0,1],\n",
    "           [1,0,1,1],\n",
    "           [0,1,0,1],\n",
    "           [1,1,1,0]])\n",
    "\n",
    "DFS(t,0)"
   ]
  },
  {
   "cell_type": "code",
   "execution_count": null,
   "metadata": {},
   "outputs": [],
   "source": []
  }
 ],
 "metadata": {
  "kernelspec": {
   "display_name": "Python 3",
   "language": "python",
   "name": "python3"
  },
  "language_info": {
   "codemirror_mode": {
    "name": "ipython",
    "version": 3
   },
   "file_extension": ".py",
   "mimetype": "text/x-python",
   "name": "python",
   "nbconvert_exporter": "python",
   "pygments_lexer": "ipython3",
   "version": "3.11.0"
  },
  "orig_nbformat": 4
 },
 "nbformat": 4,
 "nbformat_minor": 2
}
