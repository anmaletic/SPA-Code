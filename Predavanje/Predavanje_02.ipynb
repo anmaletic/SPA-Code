{
 "cells": [
  {
   "cell_type": "code",
   "execution_count": 12,
   "metadata": {},
   "outputs": [],
   "source": [
    "def najveciZbroj(a:list):\n",
    "    najZbroj = -float(\"inf\")\n",
    "    prvi, zadnji = -1, -1\n",
    "    \n",
    "    for i in range(len(a) - 1):\n",
    "        for j in range(i, len(a)):\n",
    "            s = 0\n",
    "            for k in range(i, j+1):\n",
    "                s += a[k]\n",
    "            if s > najZbroj:\n",
    "                najZbroj = s\n",
    "                prvi, zadnji = i, j\n",
    "    return prvi, zadnji, najZbroj"
   ]
  },
  {
   "cell_type": "code",
   "execution_count": 11,
   "metadata": {},
   "outputs": [],
   "source": [
    "def najveciZbroj1For(a:list):    \n",
    "    najveci = -float(\"inf\")\n",
    "    s = [a[0]]\n",
    "    for i in range(1, len(a)):\n",
    "        if s[-1] < 0:           # s[-1]  -  zadnji element liste\n",
    "            s.append(a[i])\n",
    "        else:\n",
    "            s.append(a[i] + s[i-1])\n",
    "        if najveci < s[i]:\n",
    "            najveci = s[i]\n",
    "    return najveci\n",
    "            \n",
    "        "
   ]
  },
  {
   "cell_type": "code",
   "execution_count": 16,
   "metadata": {},
   "outputs": [
    {
     "name": "stdout",
     "output_type": "stream",
     "text": [
      "(6, 6, 8)\n",
      "8\n"
     ]
    }
   ],
   "source": [
    "lista = [ 3, -2, 6, -5, 4, -13, 8, -6]\n",
    "\n",
    "print(najveciZbroj(lista))\n",
    "print(najveciZbroj1For(lista))"
   ]
  },
  {
   "cell_type": "code",
   "execution_count": null,
   "metadata": {},
   "outputs": [],
   "source": []
  },
  {
   "attachments": {},
   "cell_type": "markdown",
   "metadata": {},
   "source": [
    "Dali je broj u listi"
   ]
  },
  {
   "cell_type": "code",
   "execution_count": 34,
   "metadata": {},
   "outputs": [
    {
     "data": {
      "text/plain": [
       "False"
      ]
     },
     "execution_count": 34,
     "metadata": {},
     "output_type": "execute_result"
    }
   ],
   "source": [
    "def uListi (a = [3, -2, 6, -5, 4, -13, 8, -6], e = -1):\n",
    "    for i in range(len(a)):\n",
    "        if a[i] == e:\n",
    "            return True\n",
    "    return False\n",
    "\n",
    "uListi()\n",
    "\n",
    "# O(n)"
   ]
  },
  {
   "cell_type": "code",
   "execution_count": 35,
   "metadata": {},
   "outputs": [
    {
     "data": {
      "text/plain": [
       "True"
      ]
     },
     "execution_count": 35,
     "metadata": {},
     "output_type": "execute_result"
    }
   ],
   "source": [
    "def binarnoPretrazivanje(a=[1, 7, 9, 15, 26, 29, 35, 50], e=15):\n",
    "    lijeva = 0\n",
    "    desna = len(a) - 1\n",
    "    while lijeva <= desna:\n",
    "        sredina = (desna + lijeva) // 2\n",
    "        if a[sredina] == e:\n",
    "            return True\n",
    "        elif a[sredina] < e:\n",
    "            lijeva = sredina + 1\n",
    "        else:\n",
    "            desna = sredina - 1\n",
    "    return False\n",
    "    \n",
    "binarnoPretrazivanje()\n",
    "\n",
    "# O(logn)"
   ]
  },
  {
   "attachments": {},
   "cell_type": "markdown",
   "metadata": {},
   "source": [
    "Fibonacci"
   ]
  },
  {
   "cell_type": "code",
   "execution_count": 36,
   "metadata": {},
   "outputs": [],
   "source": [
    "def fibonacci(n):\n",
    "    if n == 1 or n == 2:\n",
    "        return 1\n",
    "    else:\n",
    "        return fibonacci(n-1) + fibonacci(n-2)\n",
    "    \n",
    "# O(2**n)"
   ]
  },
  {
   "cell_type": "code",
   "execution_count": 37,
   "metadata": {},
   "outputs": [
    {
     "data": {
      "text/plain": [
       "55"
      ]
     },
     "execution_count": 37,
     "metadata": {},
     "output_type": "execute_result"
    }
   ],
   "source": [
    "fibonacci(10)"
   ]
  },
  {
   "cell_type": "code",
   "execution_count": 30,
   "metadata": {},
   "outputs": [],
   "source": [
    "def smartFibonacci(n):\n",
    "    f = [1, 1]\n",
    "    while len(f) < n:\n",
    "        f.append(f[-1] + f[-2])\n",
    "    return f[-1]"
   ]
  },
  {
   "cell_type": "code",
   "execution_count": 38,
   "metadata": {},
   "outputs": [
    {
     "data": {
      "text/plain": [
       "12586269025"
      ]
     },
     "execution_count": 38,
     "metadata": {},
     "output_type": "execute_result"
    }
   ],
   "source": [
    "smartFibonacci(50)"
   ]
  },
  {
   "attachments": {},
   "cell_type": "markdown",
   "metadata": {},
   "source": [
    "Primjer: yield"
   ]
  },
  {
   "cell_type": "code",
   "execution_count": 41,
   "metadata": {},
   "outputs": [
    {
     "name": "stdout",
     "output_type": "stream",
     "text": [
      "2\n",
      "4\n",
      "6\n",
      "8\n",
      "10\n"
     ]
    }
   ],
   "source": [
    "def parni(n=10):\n",
    "    for i in range(2, n+1, 2):\n",
    "        yield i\n",
    "        \n",
    "for k in parni():\n",
    "    print(k)"
   ]
  },
  {
   "attachments": {},
   "cell_type": "markdown",
   "metadata": {},
   "source": [
    "Permutacije"
   ]
  },
  {
   "cell_type": "code",
   "execution_count": 55,
   "metadata": {},
   "outputs": [],
   "source": [
    "def permutacije(a = [1, 2, 3, 4]):\n",
    "    if len(a) == 1:\n",
    "        yield a\n",
    "    else:\n",
    "        for i in range(len(a)):\n",
    "            b = a[:i] + a[i+1:]\n",
    "            for p in permutacije(b):\n",
    "                yield [a[i]] + p\n",
    "                \n",
    "# O(n!)"
   ]
  },
  {
   "cell_type": "code",
   "execution_count": 56,
   "metadata": {},
   "outputs": [
    {
     "name": "stdout",
     "output_type": "stream",
     "text": [
      "[1, 2, 3, 4]\n",
      "[1, 2, 4, 3]\n",
      "[1, 3, 2, 4]\n",
      "[1, 3, 4, 2]\n",
      "[1, 4, 2, 3]\n",
      "[1, 4, 3, 2]\n",
      "[2, 1, 3, 4]\n",
      "[2, 1, 4, 3]\n",
      "[2, 3, 1, 4]\n",
      "[2, 3, 4, 1]\n",
      "[2, 4, 1, 3]\n",
      "[2, 4, 3, 1]\n",
      "[3, 1, 2, 4]\n",
      "[3, 1, 4, 2]\n",
      "[3, 2, 1, 4]\n",
      "[3, 2, 4, 1]\n",
      "[3, 4, 1, 2]\n",
      "[3, 4, 2, 1]\n",
      "[4, 1, 2, 3]\n",
      "[4, 1, 3, 2]\n",
      "[4, 2, 1, 3]\n",
      "[4, 2, 3, 1]\n",
      "[4, 3, 1, 2]\n",
      "[4, 3, 2, 1]\n"
     ]
    }
   ],
   "source": [
    "for p in permutacije():\n",
    "    print(p)"
   ]
  },
  {
   "cell_type": "code",
   "execution_count": null,
   "metadata": {},
   "outputs": [],
   "source": []
  }
 ],
 "metadata": {
  "kernelspec": {
   "display_name": "Python 3",
   "language": "python",
   "name": "python3"
  },
  "language_info": {
   "codemirror_mode": {
    "name": "ipython",
    "version": 3
   },
   "file_extension": ".py",
   "mimetype": "text/x-python",
   "name": "python",
   "nbconvert_exporter": "python",
   "pygments_lexer": "ipython3",
   "version": "3.11.0"
  },
  "orig_nbformat": 4,
  "vscode": {
   "interpreter": {
    "hash": "b9f441d959eae8f335526b5349d0889d75d24fc46e02c208a429c9094b86b2a1"
   }
  }
 },
 "nbformat": 4,
 "nbformat_minor": 2
}
