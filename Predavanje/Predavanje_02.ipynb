{
 "cells": [
  {
   "cell_type": "code",
   "execution_count": 12,
   "metadata": {},
   "outputs": [],
   "source": [
    "def najveciZbroj(a:list):\n",
    "    najZbroj = -float(\"inf\")\n",
    "    prvi, zadnji = -1, -1\n",
    "    \n",
    "    for i in range(len(a) - 1):\n",
    "        for j in range(i, len(a)):\n",
    "            s = 0\n",
    "            for k in range(i, j+1):\n",
    "                s += a[k]\n",
    "            if s > najZbroj:\n",
    "                najZbroj = s\n",
    "                prvi, zadnji = i, j\n",
    "    return prvi, zadnji, najZbroj"
   ]
  },
  {
   "cell_type": "code",
   "execution_count": 11,
   "metadata": {},
   "outputs": [],
   "source": [
    "def najveciZbroj1For(a:list):    \n",
    "    najveci = -float(\"inf\")\n",
    "    s = [a[0]]\n",
    "    for i in range(1, len(a)):\n",
    "        if s[-1] < 0:           # s[-1]  -  zadnji element liste\n",
    "            s.append(a[i])\n",
    "        else:\n",
    "            s.append(a[i] + s[i-1])\n",
    "        if najveci < s[i]:\n",
    "            najveci = s[i]\n",
    "    return najveci\n",
    "            \n",
    "        "
   ]
  },
  {
   "cell_type": "code",
   "execution_count": 16,
   "metadata": {},
   "outputs": [
    {
     "name": "stdout",
     "output_type": "stream",
     "text": [
      "(6, 6, 8)\n",
      "8\n"
     ]
    }
   ],
   "source": [
    "lista = [ 3, -2, 6, -5, 4, -13, 8, -6]\n",
    "\n",
    "print(najveciZbroj(lista))\n",
    "print(najveciZbroj1For(lista))"
   ]
  },
  {
   "cell_type": "code",
   "execution_count": null,
   "metadata": {},
   "outputs": [],
   "source": []
  }
 ],
 "metadata": {
  "kernelspec": {
   "display_name": "Python 3",
   "language": "python",
   "name": "python3"
  },
  "language_info": {
   "codemirror_mode": {
    "name": "ipython",
    "version": 3
   },
   "file_extension": ".py",
   "mimetype": "text/x-python",
   "name": "python",
   "nbconvert_exporter": "python",
   "pygments_lexer": "ipython3",
   "version": "3.11.0"
  },
  "orig_nbformat": 4,
  "vscode": {
   "interpreter": {
    "hash": "b9f441d959eae8f335526b5349d0889d75d24fc46e02c208a429c9094b86b2a1"
   }
  }
 },
 "nbformat": 4,
 "nbformat_minor": 2
}
