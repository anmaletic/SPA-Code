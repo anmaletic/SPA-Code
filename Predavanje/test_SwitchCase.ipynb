{
 "cells": [
  {
   "cell_type": "code",
   "execution_count": 1,
   "metadata": {},
   "outputs": [
    {
     "name": "stdout",
     "output_type": "stream",
     "text": [
      "10\n"
     ]
    }
   ],
   "source": [
    "for i in range(100):\n",
    "    match(i):\n",
    "        case 10:\n",
    "            print(i)"
   ]
  },
  {
   "cell_type": "code",
   "execution_count": 5,
   "metadata": {},
   "outputs": [],
   "source": [
    "class Solution:\n",
    "    def isAnagram(self, s: str, t: str) -> bool:\n",
    "        if len(s) != len(t):\n",
    "            return False\n",
    "\n",
    "        countS, countT = {}, {}\n",
    "\n",
    "        for i in range(len(s)):\n",
    "            countS[s[i]] = 1 + countS.get(s[i], 0)\n",
    "            countT[t[i]] = 1 + countT.get(t[i], 0)\n",
    "            print(countS, countT)\n",
    "        return countS == countT\n"
   ]
  },
  {
   "cell_type": "code",
   "execution_count": 8,
   "metadata": {},
   "outputs": [
    {
     "name": "stdout",
     "output_type": "stream",
     "text": [
      "{'m': 1} {'o': 1}\n",
      "{'m': 1, 'a': 1} {'o': 1, 'r': 1}\n",
      "{'m': 1, 'a': 1, 'r': 1} {'o': 1, 'r': 1, 'k': 1}\n",
      "{'m': 1, 'a': 1, 'r': 1, 'k': 1} {'o': 2, 'r': 1, 'k': 1}\n",
      "{'m': 1, 'a': 1, 'r': 1, 'k': 1, 'o': 1} {'o': 2, 'r': 1, 'k': 1, 'm': 1}\n",
      "{'m': 1, 'a': 1, 'r': 1, 'k': 1, 'o': 2} {'o': 2, 'r': 1, 'k': 1, 'm': 1, 'a': 1}\n"
     ]
    },
    {
     "data": {
      "text/plain": [
       "True"
      ]
     },
     "execution_count": 8,
     "metadata": {},
     "output_type": "execute_result"
    }
   ],
   "source": [
    "\n",
    "test = Solution()\n",
    "\n",
    "test.isAnagram(\"markoo\", \"orkoma\")"
   ]
  },
  {
   "cell_type": "code",
   "execution_count": null,
   "metadata": {},
   "outputs": [],
   "source": []
  }
 ],
 "metadata": {
  "kernelspec": {
   "display_name": "Python 3",
   "language": "python",
   "name": "python3"
  },
  "language_info": {
   "codemirror_mode": {
    "name": "ipython",
    "version": 3
   },
   "file_extension": ".py",
   "mimetype": "text/x-python",
   "name": "python",
   "nbconvert_exporter": "python",
   "pygments_lexer": "ipython3",
   "version": "3.11.0"
  },
  "orig_nbformat": 4,
  "vscode": {
   "interpreter": {
    "hash": "b9f441d959eae8f335526b5349d0889d75d24fc46e02c208a429c9094b86b2a1"
   }
  }
 },
 "nbformat": 4,
 "nbformat_minor": 2
}
