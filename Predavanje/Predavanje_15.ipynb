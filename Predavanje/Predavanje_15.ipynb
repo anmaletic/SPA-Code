{
 "cells": [
  {
   "cell_type": "code",
   "execution_count": 2,
   "metadata": {},
   "outputs": [],
   "source": [
    "def aSearch(a, h, c, c2):\n",
    "    g = float('inf') * len(h)\n",
    "    f = float('inf') * len(h)\n",
    "    g[c] = 0\n",
    "    f[c] = g[c] + h[c]\n",
    "    posjeceni = set()\n",
    "    while g[c2] == float('inf'):\n",
    "        minv = float('inf')\n",
    "        mini = -1\n",
    "        for i in range(len(f)):\n",
    "            if f[i] < minv and i not in posjeceni:\n",
    "                minv = f[i]\n",
    "                mini = i\n",
    "        posjeceni.add(i)\n",
    "        for i in range(len(a[mini])):\n",
    "            if g[i] > g[mini] + a[mini][i]:\n",
    "                g[i] = g[mini] + a[mini][i]\n",
    "                f[i] = g[i] + h[i]\n",
    "    return g[c2]\n",
    "        "
   ]
  },
  {
   "cell_type": "code",
   "execution_count": 5,
   "metadata": {},
   "outputs": [],
   "source": [
    "class Tree:\n",
    "    def __init__(self, value=None, left = None, right = None) -> None:\n",
    "        self.V = value\n",
    "        self.L = left\n",
    "        self.R = right\n",
    "        \n",
    "    def maxi(self):\n",
    "        if self != None and self.V == None:\n",
    "            self.V = max(self.L.mini(), self.R.mini())\n",
    "        return self.V\n",
    "    \n",
    "    def mini(self):\n",
    "        if self != None and self.V == None:\n",
    "            self.V = min(self.L.maxi(), self.R.maxi())\n",
    "        return self.V"
   ]
  },
  {
   "cell_type": "code",
   "execution_count": 6,
   "metadata": {},
   "outputs": [
    {
     "name": "stdout",
     "output_type": "stream",
     "text": [
      "2\n"
     ]
    }
   ],
   "source": [
    "root = Tree()\n",
    "root.L = Tree()\n",
    "root.L.L = Tree(1)\n",
    "root.L.R = Tree(-5)\n",
    "root.R = Tree()\n",
    "root.R.L = Tree(2)\n",
    "root.R.R = Tree(4)\n",
    "root.maxi()\n",
    "print(root.V)"
   ]
  },
  {
   "cell_type": "code",
   "execution_count": null,
   "metadata": {},
   "outputs": [],
   "source": []
  }
 ],
 "metadata": {
  "kernelspec": {
   "display_name": "Python 3",
   "language": "python",
   "name": "python3"
  },
  "language_info": {
   "codemirror_mode": {
    "name": "ipython",
    "version": 3
   },
   "file_extension": ".py",
   "mimetype": "text/x-python",
   "name": "python",
   "nbconvert_exporter": "python",
   "pygments_lexer": "ipython3",
   "version": "3.11.0"
  },
  "orig_nbformat": 4
 },
 "nbformat": 4,
 "nbformat_minor": 2
}
