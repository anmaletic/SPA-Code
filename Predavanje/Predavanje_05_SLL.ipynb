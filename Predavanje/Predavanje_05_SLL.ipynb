{
 "cells": [
  {
   "cell_type": "code",
   "execution_count": 5,
   "metadata": {},
   "outputs": [],
   "source": [
    "class Node:\n",
    "    def __init__(self, value, n=None) -> None:\n",
    "        self.value = value\n",
    "        self.next = n\n",
    "        \n",
    "class LinkedList:\n",
    "    def __init__(self) -> None:\n",
    "        self.head = None\n",
    "        \n",
    "    def addFirst(self, v):\n",
    "        t = Node(v)\n",
    "        if self.head == None:\n",
    "            self.head = t\n",
    "        else:\n",
    "            t.next = self.head\n",
    "            self.head = t    \n",
    "            \n",
    "    def addLast(self, v):\n",
    "        if self.head == None:\n",
    "            self.head = Node(v)\n",
    "        else:\n",
    "            t = self.head\n",
    "            while t.next != None:\n",
    "                t = t.next\n",
    "            t.next = Node(v)\n",
    "            \n",
    "    def remove(self, v):\n",
    "        if self.head != None:\n",
    "            while self.head != None and self.head.value == v:\n",
    "                self.head = self.head.next\n",
    "            t = self.head\n",
    "            while t != None:\n",
    "                if t.next != None:\n",
    "                    if t.next.value != v:\n",
    "                        t = t.next\n",
    "                    else:\n",
    "                        t.next = t.next.next \n",
    "                else:\n",
    "                    t = None\n",
    "    \n",
    "    def __repr__(self) -> str:\n",
    "        t = self.head\n",
    "        s = \"\"\n",
    "        while t != None:\n",
    "            s += str(t.value) + \" -> \"\n",
    "            t = t.next     \n",
    "        return s.removesuffix(\" -> \")\n",
    "    \n",
    "    def __iter__(self):\n",
    "        self.iter = self.head\n",
    "        return self\n",
    "    \n",
    "    def __next__(self):\n",
    "        if self.iter == None:\n",
    "            raise StopIteration\n",
    "        else:\n",
    "            t = self.iter.value\n",
    "            self.iter = self.iter.next\n",
    "            return t\n",
    "    "
   ]
  },
  {
   "cell_type": "code",
   "execution_count": 23,
   "metadata": {},
   "outputs": [],
   "source": [
    "a = Node(7)\n",
    "b = Node(3)\n",
    "a.next = b\n",
    "b.next = Node(5)\n",
    "a.next.next.next = Node(9)"
   ]
  },
  {
   "cell_type": "code",
   "execution_count": 25,
   "metadata": {},
   "outputs": [
    {
     "name": "stdout",
     "output_type": "stream",
     "text": [
      "7\n",
      "3\n",
      "5\n",
      "9\n"
     ]
    }
   ],
   "source": [
    "print(a.value)\n",
    "print(a.next.value)\n",
    "print(a.next.next.value)\n",
    "print(a.next.next.next.value)"
   ]
  },
  {
   "cell_type": "code",
   "execution_count": 26,
   "metadata": {},
   "outputs": [
    {
     "name": "stdout",
     "output_type": "stream",
     "text": [
      "7\n",
      "3\n",
      "5\n",
      "9\n"
     ]
    }
   ],
   "source": [
    "while a != None:\n",
    "    print(a.value)\n",
    "    a = a.next"
   ]
  },
  {
   "cell_type": "code",
   "execution_count": 54,
   "metadata": {},
   "outputs": [
    {
     "data": {
      "text/plain": [
       "9 -> 5 -> 7 -> 3"
      ]
     },
     "execution_count": 54,
     "metadata": {},
     "output_type": "execute_result"
    }
   ],
   "source": [
    "al = LinkedList()\n",
    "al.addFirst(3)\n",
    "al.addFirst(7)\n",
    "al.addFirst(5)\n",
    "al.addFirst(9)\n",
    "\n",
    "al"
   ]
  },
  {
   "cell_type": "code",
   "execution_count": 39,
   "metadata": {},
   "outputs": [
    {
     "name": "stdout",
     "output_type": "stream",
     "text": [
      "3\n"
     ]
    }
   ],
   "source": [
    "print(al.head.next.value)"
   ]
  },
  {
   "cell_type": "code",
   "execution_count": 59,
   "metadata": {},
   "outputs": [
    {
     "data": {
      "text/plain": [
       "9 -> 3 -> 6"
      ]
     },
     "execution_count": 59,
     "metadata": {},
     "output_type": "execute_result"
    }
   ],
   "source": [
    "bl = LinkedList()\n",
    "bl.addFirst(3)\n",
    "bl.addFirst(9)\n",
    "bl.addLast(6)\n",
    "\n",
    "bl"
   ]
  },
  {
   "cell_type": "code",
   "execution_count": 64,
   "metadata": {},
   "outputs": [
    {
     "name": "stdout",
     "output_type": "stream",
     "text": [
      "9 -> 3 -> 6\n",
      "9 -> 6\n"
     ]
    }
   ],
   "source": [
    "cl = LinkedList()\n",
    "cl.addFirst(3)\n",
    "cl.addFirst(9)\n",
    "cl.addLast(6)\n",
    "\n",
    "print(cl)\n",
    "cl.remove(3)\n",
    "print(cl)"
   ]
  },
  {
   "cell_type": "code",
   "execution_count": 6,
   "metadata": {},
   "outputs": [
    {
     "name": "stdout",
     "output_type": "stream",
     "text": [
      "3 -> 5 -> 7\n",
      "3\n",
      "5\n",
      "7\n"
     ]
    }
   ],
   "source": [
    "dl = LinkedList()\n",
    "dl.addLast(3)\n",
    "dl.addLast(5)\n",
    "dl.addLast(7)\n",
    "\n",
    "print(dl)\n",
    "\n",
    "for e in dl:\n",
    "    print(e)"
   ]
  },
  {
   "cell_type": "code",
   "execution_count": null,
   "metadata": {},
   "outputs": [],
   "source": []
  }
 ],
 "metadata": {
  "kernelspec": {
   "display_name": "Python 3",
   "language": "python",
   "name": "python3"
  },
  "language_info": {
   "codemirror_mode": {
    "name": "ipython",
    "version": 3
   },
   "file_extension": ".py",
   "mimetype": "text/x-python",
   "name": "python",
   "nbconvert_exporter": "python",
   "pygments_lexer": "ipython3",
   "version": "3.11.0"
  },
  "orig_nbformat": 4
 },
 "nbformat": 4,
 "nbformat_minor": 2
}
