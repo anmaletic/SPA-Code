{
 "cells": [
  {
   "cell_type": "code",
   "execution_count": 2,
   "metadata": {},
   "outputs": [],
   "source": [
    "from random import *\n",
    "\n",
    "class PogodiBroj:\n",
    "    def __init__(self, n=100):\n",
    "        self.N = randint(1, n)\n",
    "        self.P = 0\n",
    "\n",
    "    def pokusaj(self, t):\n",
    "        self.P += 1\n",
    "        if self.N == t:\n",
    "            return self.P\n",
    "        elif self.N > t:\n",
    "            return 'Traženi broj je veći'\n",
    "        else:\n",
    "            return 'Traženi broj je manji'\n"
   ]
  },
  {
   "cell_type": "code",
   "execution_count": 1,
   "metadata": {},
   "outputs": [],
   "source": [
    "def oponasaj():\n",
    "    pocetak = 1\n",
    "    kraj = 100\n",
    "    gotovo = False\n",
    "    igra = PogodiBroj()\n",
    "    while not gotovo:\n",
    "        sredina = (pocetak + kraj) // 2\n",
    "        print(f\"Pokusavam: {sredina}\")\n",
    "        r = str(igra.pokusaj(sredina))\n",
    "        if \"veći\" in r:\n",
    "            pocetak = sredina + 1\n",
    "        elif \"manji\" in r:\n",
    "            kraj = sredina - 1\n",
    "        else:\n",
    "            print(r)\n",
    "            gotovo = True\n",
    "        \n",
    "            \n",
    "    "
   ]
  },
  {
   "cell_type": "code",
   "execution_count": 2,
   "metadata": {},
   "outputs": [],
   "source": [
    "igra = PogodiBroj()"
   ]
  },
  {
   "cell_type": "code",
   "execution_count": 3,
   "metadata": {},
   "outputs": [
    {
     "data": {
      "text/plain": [
       "'Traženi broj je veći'"
      ]
     },
     "execution_count": 3,
     "metadata": {},
     "output_type": "execute_result"
    }
   ],
   "source": [
    "igra.pokusaj(50)"
   ]
  },
  {
   "cell_type": "code",
   "execution_count": 4,
   "metadata": {},
   "outputs": [
    {
     "data": {
      "text/plain": [
       "'Traženi broj je veći'"
      ]
     },
     "execution_count": 4,
     "metadata": {},
     "output_type": "execute_result"
    }
   ],
   "source": [
    "igra.pokusaj(75)"
   ]
  },
  {
   "cell_type": "code",
   "execution_count": 7,
   "metadata": {},
   "outputs": [
    {
     "data": {
      "text/plain": [
       "'Tražei broj je manji'"
      ]
     },
     "execution_count": 7,
     "metadata": {},
     "output_type": "execute_result"
    }
   ],
   "source": [
    "igra.pokusaj(88)"
   ]
  },
  {
   "cell_type": "code",
   "execution_count": 8,
   "metadata": {},
   "outputs": [
    {
     "data": {
      "text/plain": [
       "'Tražei broj je manji'"
      ]
     },
     "execution_count": 8,
     "metadata": {},
     "output_type": "execute_result"
    }
   ],
   "source": [
    "igra.pokusaj(82)"
   ]
  },
  {
   "cell_type": "code",
   "execution_count": 9,
   "metadata": {},
   "outputs": [
    {
     "data": {
      "text/plain": [
       "7"
      ]
     },
     "execution_count": 9,
     "metadata": {},
     "output_type": "execute_result"
    }
   ],
   "source": [
    "igra.pokusaj(79)"
   ]
  },
  {
   "cell_type": "code",
   "execution_count": 3,
   "metadata": {},
   "outputs": [
    {
     "name": "stdout",
     "output_type": "stream",
     "text": [
      "Pokusavam: 50\n",
      "Pokusavam: 25\n",
      "2\n"
     ]
    }
   ],
   "source": [
    "oponasaj()"
   ]
  },
  {
   "cell_type": "code",
   "execution_count": null,
   "metadata": {},
   "outputs": [],
   "source": []
  }
 ],
 "metadata": {
  "kernelspec": {
   "display_name": "Python 3",
   "language": "python",
   "name": "python3"
  },
  "language_info": {
   "codemirror_mode": {
    "name": "ipython",
    "version": 3
   },
   "file_extension": ".py",
   "mimetype": "text/x-python",
   "name": "python",
   "nbconvert_exporter": "python",
   "pygments_lexer": "ipython3",
   "version": "3.11.0"
  },
  "orig_nbformat": 4
 },
 "nbformat": 4,
 "nbformat_minor": 2
}
