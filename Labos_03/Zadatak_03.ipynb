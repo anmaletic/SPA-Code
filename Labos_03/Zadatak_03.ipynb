{
 "cells": [
  {
   "cell_type": "code",
   "execution_count": 15,
   "metadata": {},
   "outputs": [],
   "source": [
    "def zlatnici( a = [[30, 1, 7, 15], [1, 1, 12, 8], [4, 5, 3, 13], [1, 2, 9, 11]]   ):\n",
    "    d = a[0]\n",
    "    for i in range(1, len(a)):\n",
    "        r = a[i]\n",
    "        for j in range(0, len(r)):\n",
    "            gl = gg = gd = 0\n",
    "            if j > 0:\n",
    "                gl = d[j-1]\n",
    "            gg = d[j]\n",
    "            if j < len(a) - 1:\n",
    "                gd = d[j+1]\n",
    "            r[j] += max(gl, gg, gd)\n",
    "        d = r\n",
    "        print(d)\n",
    "    return max(d)"
   ]
  },
  {
   "cell_type": "code",
   "execution_count": 16,
   "metadata": {},
   "outputs": [
    {
     "name": "stdout",
     "output_type": "stream",
     "text": [
      "[31, 31, 27, 23]\n",
      "[35, 36, 34, 40]\n",
      "[37, 38, 49, 51]\n"
     ]
    },
    {
     "data": {
      "text/plain": [
       "51"
      ]
     },
     "execution_count": 16,
     "metadata": {},
     "output_type": "execute_result"
    }
   ],
   "source": [
    "zlatnici()"
   ]
  },
  {
   "cell_type": "code",
   "execution_count": null,
   "metadata": {},
   "outputs": [],
   "source": []
  }
 ],
 "metadata": {
  "kernelspec": {
   "display_name": "Python 3",
   "language": "python",
   "name": "python3"
  },
  "language_info": {
   "codemirror_mode": {
    "name": "ipython",
    "version": 3
   },
   "file_extension": ".py",
   "mimetype": "text/x-python",
   "name": "python",
   "nbconvert_exporter": "python",
   "pygments_lexer": "ipython3",
   "version": "3.11.0"
  },
  "orig_nbformat": 4
 },
 "nbformat": 4,
 "nbformat_minor": 2
}
