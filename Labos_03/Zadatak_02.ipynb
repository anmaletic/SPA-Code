{
 "cells": [
  {
   "cell_type": "code",
   "execution_count": 14,
   "metadata": {},
   "outputs": [],
   "source": [
    "def cijeviPohlepna(d, c = [1, 2, 5, 10]):\n",
    "    c.sort(reverse=True)\n",
    "    i = 0\n",
    "    while d > 0:\n",
    "        if d >= c[i]:\n",
    "            b = d // c[i]\n",
    "            print(f\"{b} x {c[i]}\")\n",
    "            d = d % c[i]\n",
    "        i += 1    "
   ]
  },
  {
   "cell_type": "code",
   "execution_count": 23,
   "metadata": {},
   "outputs": [
    {
     "name": "stdout",
     "output_type": "stream",
     "text": [
      "1 x 10\n",
      "1 x 5\n",
      "1 x 2\n",
      "1 x 1\n"
     ]
    }
   ],
   "source": [
    "cijeviPohlepna(18)"
   ]
  },
  {
   "cell_type": "code",
   "execution_count": 35,
   "metadata": {},
   "outputs": [],
   "source": [
    "def cijevi(n, c =[7, 5, 1]):\n",
    "    d = [0]\n",
    "    for i in range(1, n+1):\n",
    "        d.append(i)\n",
    "        ## racunamo d[i]\n",
    "        ## d[i] = d[i-1] + 1(1)\n",
    "        ## d[i] = d[i-7] + 1(7)\n",
    "        ## d[i] = d[i-9] + 1(9)\n",
    "        for e in c:\n",
    "            if i-e >= 0:\n",
    "                if d[i-e] + 1 < d[i]:\n",
    "                    d[i] = d[i-e] + 1\n",
    "    print(d)\n",
    "    return d[n]\n",
    "            \n",
    "            "
   ]
  },
  {
   "cell_type": "code",
   "execution_count": 36,
   "metadata": {},
   "outputs": [
    {
     "name": "stdout",
     "output_type": "stream",
     "text": [
      "[0, 1, 2, 3, 4, 1, 2, 1, 2, 3, 2, 3, 2, 3, 2, 3, 4]\n"
     ]
    },
    {
     "data": {
      "text/plain": [
       "4"
      ]
     },
     "execution_count": 36,
     "metadata": {},
     "output_type": "execute_result"
    }
   ],
   "source": [
    "cijevi(16)"
   ]
  },
  {
   "cell_type": "code",
   "execution_count": null,
   "metadata": {},
   "outputs": [],
   "source": []
  }
 ],
 "metadata": {
  "kernelspec": {
   "display_name": "Python 3",
   "language": "python",
   "name": "python3"
  },
  "language_info": {
   "codemirror_mode": {
    "name": "ipython",
    "version": 3
   },
   "file_extension": ".py",
   "mimetype": "text/x-python",
   "name": "python",
   "nbconvert_exporter": "python",
   "pygments_lexer": "ipython3",
   "version": "3.11.0"
  },
  "orig_nbformat": 4
 },
 "nbformat": 4,
 "nbformat_minor": 2
}
