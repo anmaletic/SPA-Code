{
 "cells": [
  {
   "cell_type": "code",
   "execution_count": 25,
   "metadata": {},
   "outputs": [],
   "source": [
    "class Node:\n",
    "    def __init__(self, v=None):\n",
    "        self.value = v\n",
    "        self.next = None\n",
    "        self.prev = None\n",
    "    \n",
    "\n",
    "class DoubleLinkedList:\n",
    "    def __init__(self):\n",
    "        self.head = None\n",
    "        self.tail = None\n",
    "        self.be = 0\n",
    "\n",
    "    def addLeft(self, v):\n",
    "        tmp = Node(v)\n",
    "        self.be += 1\n",
    "        if self.head != None:\n",
    "            self.head.prev = tmp\n",
    "            tmp.next = self.head\n",
    "        else:\n",
    "            self.tail = tmp\n",
    "        self.head = tmp\n",
    "        \n",
    "    def addRight(self, v):\n",
    "        tmp = Node(v)\n",
    "        self.be += 1\n",
    "        if self.head != None:\n",
    "            self.tail.next = tmp\n",
    "            tmp.prev = self.tail\n",
    "        else:\n",
    "            self.head = tmp\n",
    "        self.tail = tmp\n",
    "    \n",
    "    def __repr__(self) -> str:\n",
    "        tmp = self.head\n",
    "        s = ''\n",
    "        while tmp != None:\n",
    "            s += str(tmp.value) + ' <=> '\n",
    "            tmp = tmp.next                       \n",
    "        return s.removesuffix(' <=> ')\n",
    "    \n",
    "    def __iter__(self):\n",
    "        self.iter = self.head\n",
    "        return self\n",
    "    \n",
    "    def __next__(self):\n",
    "        if self.iter == None:\n",
    "            raise StopIteration\n",
    "        else:\n",
    "            t = self.iter.value\n",
    "            self.iter = self.iter.next\n",
    "            return t\n",
    "\n",
    "    def __len__(self):\n",
    "        return self.be\n",
    "    \n",
    "    def __in__(self, v):\n",
    "        for e in self:\n",
    "            if e == v:\n",
    "                return True\n",
    "        return False"
   ]
  },
  {
   "cell_type": "code",
   "execution_count": 27,
   "metadata": {},
   "outputs": [
    {
     "name": "stdout",
     "output_type": "stream",
     "text": [
      "2\n",
      "3\n",
      "5\n",
      "3\n",
      "6\n",
      "4\n"
     ]
    },
    {
     "data": {
      "text/plain": [
       "False"
      ]
     },
     "execution_count": 27,
     "metadata": {},
     "output_type": "execute_result"
    }
   ],
   "source": [
    "dll = DoubleLinkedList()\n",
    "dll.addLeft(5)\n",
    "dll.addLeft(3)\n",
    "dll.addRight(3)\n",
    "dll.addLeft(2)\n",
    "dll.addRight(6)\n",
    "dll.addRight(4)\n",
    "\n",
    "for e in dll:\n",
    "    print(e)\n",
    "    \n",
    "len(dll)\n",
    "\n",
    "7 in dll"
   ]
  },
  {
   "cell_type": "code",
   "execution_count": null,
   "metadata": {},
   "outputs": [],
   "source": [
    "from random import *\n",
    "\n",
    "nasumicni = DoubleLinkedList()\n",
    "while len(nasumicni) < 6:\n",
    "    e = randint(1, 45)\n",
    "    if not e in nasumicni:\n",
    "        nasumicni.addLeft(e)\n",
    "        \n"
   ]
  }
 ],
 "metadata": {
  "kernelspec": {
   "display_name": "Python 3",
   "language": "python",
   "name": "python3"
  },
  "language_info": {
   "codemirror_mode": {
    "name": "ipython",
    "version": 3
   },
   "file_extension": ".py",
   "mimetype": "text/x-python",
   "name": "python",
   "nbconvert_exporter": "python",
   "pygments_lexer": "ipython3",
   "version": "3.11.0"
  },
  "orig_nbformat": 4,
  "vscode": {
   "interpreter": {
    "hash": "b9f441d959eae8f335526b5349d0889d75d24fc46e02c208a429c9094b86b2a1"
   }
  }
 },
 "nbformat": 4,
 "nbformat_minor": 2
}
