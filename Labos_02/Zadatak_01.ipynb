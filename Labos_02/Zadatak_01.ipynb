{
 "cells": [
  {
   "cell_type": "code",
   "execution_count": 27,
   "metadata": {},
   "outputs": [],
   "source": [
    "class Gradovi:\n",
    "    def __init__(self, n):\n",
    "        self.N = n\n",
    "        f = open('cities.csv', 'r', errors='ignore')\n",
    "        self.podaci = []\n",
    "        d = f.readline().strip().split(',')\n",
    "        while len(self.podaci) < n and len(d) > 0:\n",
    "            try:\n",
    "                if int(d[2]) > 0:\n",
    "                    self.podaci.append((d[1], int(d[2])))\n",
    "                d = f.readline().strip().split(',')\n",
    "            except:\n",
    "                d = list()\n",
    "        f.close()\n",
    "        \n",
    "    def prvi(self):\n",
    "        return self.podaci[0]\n",
    "    \n",
    "    def najveci(self):\n",
    "        nbs =  -float('inf')\n",
    "        gnbs = ''\n",
    "        for e in self.podaci:\n",
    "            if e[1] > nbs:\n",
    "                gnbs = e[0]\n",
    "                nbs = e[1]\n",
    "        return nbs, gnbs\n",
    "    \n",
    "    def poredani(self):\n",
    "        uzlazno = silazno  = True\n",
    "        for i in range(0, len(self.podaci)-1):\n",
    "            if self.podaci[i][0] > self.podaci[i+1][0]:\n",
    "                uzlazno = False\n",
    "            elif self.podaci[i][0] < self.podaci[i+1][0]:\n",
    "                silazno = False\n",
    "        return uzlazno or silazno\n",
    "                \n",
    "    def trazi(self, naziv):\n",
    "        for i, e in enumerate(self.podaci):\n",
    "            if e[0] == naziv:\n",
    "                print(i)\n",
    "                return True\n",
    "        return False\n",
    "            \n",
    "            \n",
    "    def bubble_sort(self, lista):\n",
    "        a = lista\n",
    "        k = 1\n",
    "        zamjene = True\n",
    "        \n",
    "        while zamjene:\n",
    "            zamjene = False\n",
    "            for i in range(len(a) - k):\n",
    "                if a[i][0] > a[i+1][0]:\n",
    "                    a[i], a[i+1] = a[i+1], a[i]\n",
    "                    zamjene = True\n",
    "            k += 1\n",
    "        return a\n",
    "    \n",
    "    def binary_search(self, naziv):\n",
    "        a = self.bubble_sort(self.podaci)\n",
    "        lijeva = 0\n",
    "        desna = len(a) -1\n",
    "        while lijeva <= desna:\n",
    "            sredina = (lijeva + desna) // 2\n",
    "            if a[sredina][0] == naziv:\n",
    "                return True\n",
    "            elif a[sredina][0] < naziv:\n",
    "                desna = sredina -1\n",
    "            else:\n",
    "                lijeva = sredina + 1\n",
    "        return False\n",
    "    \n",
    "    def binary_search2(self, naziv, lijeva=0, desna=None, a = None):\n",
    "        if desna == None:\n",
    "            a = self.bubble_sort(self.podaci)\n",
    "            desna = len(a) - 1\n",
    "        if lijeva > desna:\n",
    "            return False\n",
    "        else:\n",
    "            sredina = (lijeva + desna) // 2\n",
    "            if a[sredina][0] == naziv:\n",
    "                return True\n",
    "            elif a[sredina][0] < naziv:\n",
    "                return self.binary_search2(naziv, lijeva, sredina - 1, a)\n",
    "            else:\n",
    "                return self.binary_search2(naziv, sredina + 1, desna, a)\n",
    "        \n",
    "    def merge_sort(self, a = None):\n",
    "        if a == None:\n",
    "            a = self.podaci[:]\n",
    "        if len(a) < 1:\n",
    "            return a\n",
    "        else:\n",
    "            n = len(a) // 2\n",
    "            lijeva = a[:n]\n",
    "            desna = a[n:]\n",
    "            lijeva = self.merge_sort(lijeva)\n",
    "            desna = self.merge_sort(desna)\n",
    "            c = list()\n",
    "            i = j = 0\n",
    "            while len(c) < len(a):\n",
    "                if i < len(lijeva) and j < len(desna):\n",
    "                    if lijeva[i][0] < desna[j][0]:\n",
    "                        c.append(lijeva[i])\n",
    "                        i += 1\n",
    "                    else:\n",
    "                        c.append(desna[j])\n",
    "                        j += 1\n",
    "                elif i < len(lijeva):\n",
    "                    c += lijeva[i:]\n",
    "                else:\n",
    "                    c += desna[j:]\n",
    "            return c\n",
    "                    "
   ]
  },
  {
   "cell_type": "code",
   "execution_count": 15,
   "metadata": {},
   "outputs": [],
   "source": [
    "g = Gradovi(10)"
   ]
  },
  {
   "cell_type": "code",
   "execution_count": 16,
   "metadata": {},
   "outputs": [
    {
     "data": {
      "text/plain": [
       "[('dengzhou', 85279),\n",
       " ('mazzarino', 12483),\n",
       " ('chicalim', 7787),\n",
       " ('papenburg', 34715),\n",
       " ('asperg', 12627),\n",
       " ('carayao', 2473),\n",
       " ('leuteboro', 3802),\n",
       " ('shuya', 3261),\n",
       " ('arsenyev', 61620),\n",
       " ('leganes', 2463)]"
      ]
     },
     "execution_count": 16,
     "metadata": {},
     "output_type": "execute_result"
    }
   ],
   "source": [
    "g.podaci"
   ]
  },
  {
   "cell_type": "code",
   "execution_count": 17,
   "metadata": {},
   "outputs": [
    {
     "data": {
      "text/plain": [
       "('dengzhou', 85279)"
      ]
     },
     "execution_count": 17,
     "metadata": {},
     "output_type": "execute_result"
    }
   ],
   "source": [
    "g.prvi()"
   ]
  },
  {
   "cell_type": "code",
   "execution_count": 18,
   "metadata": {},
   "outputs": [
    {
     "name": "stdout",
     "output_type": "stream",
     "text": [
      "('dengzhou', 85279)\n"
     ]
    }
   ],
   "source": [
    "maxGrad = \"\", 0\n",
    "for grad, stanovnici in g.podaci:    \n",
    "    if stanovnici > maxGrad[1]:\n",
    "        maxGrad = grad, stanovnici\n",
    "print(maxGrad)"
   ]
  },
  {
   "cell_type": "code",
   "execution_count": 19,
   "metadata": {},
   "outputs": [
    {
     "data": {
      "text/plain": [
       "(85279, 'dengzhou')"
      ]
     },
     "execution_count": 19,
     "metadata": {},
     "output_type": "execute_result"
    }
   ],
   "source": [
    "g.najveci()"
   ]
  },
  {
   "cell_type": "code",
   "execution_count": 20,
   "metadata": {},
   "outputs": [
    {
     "data": {
      "text/plain": [
       "False"
      ]
     },
     "execution_count": 20,
     "metadata": {},
     "output_type": "execute_result"
    }
   ],
   "source": [
    "g.poredani()"
   ]
  },
  {
   "cell_type": "code",
   "execution_count": 21,
   "metadata": {},
   "outputs": [
    {
     "data": {
      "text/plain": [
       "False"
      ]
     },
     "execution_count": 21,
     "metadata": {},
     "output_type": "execute_result"
    }
   ],
   "source": [
    "g.trazi(\"shihezi\")"
   ]
  },
  {
   "cell_type": "code",
   "execution_count": 26,
   "metadata": {},
   "outputs": [
    {
     "data": {
      "text/plain": [
       "[('arsenyev', 61620),\n",
       " ('asperg', 12627),\n",
       " ('carayao', 2473),\n",
       " ('chicalim', 7787),\n",
       " ('dengzhou', 85279),\n",
       " ('leganes', 2463),\n",
       " ('leuteboro', 3802),\n",
       " ('mazzarino', 12483),\n",
       " ('papenburg', 34715),\n",
       " ('shuya', 3261)]"
      ]
     },
     "execution_count": 26,
     "metadata": {},
     "output_type": "execute_result"
    }
   ],
   "source": [
    "g.bubble_sort(g.podaci)"
   ]
  },
  {
   "cell_type": "code",
   "execution_count": null,
   "metadata": {},
   "outputs": [
    {
     "data": {
      "text/plain": [
       "[('dengzhou', 85279),\n",
       " ('mazzarino', 12483),\n",
       " ('chicalim', 7787),\n",
       " ('papenburg', 34715),\n",
       " ('asperg', 12627),\n",
       " ('carayao', 2473),\n",
       " ('leuteboro', 3802),\n",
       " ('shuya', 3261),\n",
       " ('arsenyev', 61620),\n",
       " ('leganes', 2463)]"
      ]
     },
     "execution_count": 12,
     "metadata": {},
     "output_type": "execute_result"
    }
   ],
   "source": [
    "g.podaci"
   ]
  },
  {
   "cell_type": "code",
   "execution_count": 30,
   "metadata": {},
   "outputs": [
    {
     "data": {
      "text/plain": [
       "True"
      ]
     },
     "execution_count": 30,
     "metadata": {},
     "output_type": "execute_result"
    }
   ],
   "source": [
    "g.binary_search(\"dengzhou\")"
   ]
  },
  {
   "cell_type": "code",
   "execution_count": 31,
   "metadata": {},
   "outputs": [
    {
     "data": {
      "text/plain": [
       "True"
      ]
     },
     "execution_count": 31,
     "metadata": {},
     "output_type": "execute_result"
    }
   ],
   "source": [
    "g.binary_search2(\"dengzhou\")"
   ]
  },
  {
   "cell_type": "code",
   "execution_count": 32,
   "metadata": {},
   "outputs": [
    {
     "ename": "RecursionError",
     "evalue": "maximum recursion depth exceeded in comparison",
     "output_type": "error",
     "traceback": [
      "\u001b[1;31m---------------------------------------------------------------------------\u001b[0m",
      "\u001b[1;31mRecursionError\u001b[0m                            Traceback (most recent call last)",
      "Cell \u001b[1;32mIn[32], line 1\u001b[0m\n\u001b[1;32m----> 1\u001b[0m g\u001b[39m.\u001b[39;49mmerge_sort()\n",
      "Cell \u001b[1;32mIn[14], line 97\u001b[0m, in \u001b[0;36mGradovi.merge_sort\u001b[1;34m(self, a)\u001b[0m\n\u001b[0;32m     95\u001b[0m lijeva \u001b[39m=\u001b[39m a[:n]\n\u001b[0;32m     96\u001b[0m desna \u001b[39m=\u001b[39m a[n:]\n\u001b[1;32m---> 97\u001b[0m lijeva \u001b[39m=\u001b[39m \u001b[39mself\u001b[39;49m\u001b[39m.\u001b[39;49mmerge_sort(lijeva)\n\u001b[0;32m     98\u001b[0m desna \u001b[39m=\u001b[39m \u001b[39mself\u001b[39m\u001b[39m.\u001b[39mmerge_sort(desna)\n\u001b[0;32m     99\u001b[0m c \u001b[39m=\u001b[39m \u001b[39mlist\u001b[39m()\n",
      "Cell \u001b[1;32mIn[14], line 97\u001b[0m, in \u001b[0;36mGradovi.merge_sort\u001b[1;34m(self, a)\u001b[0m\n\u001b[0;32m     95\u001b[0m lijeva \u001b[39m=\u001b[39m a[:n]\n\u001b[0;32m     96\u001b[0m desna \u001b[39m=\u001b[39m a[n:]\n\u001b[1;32m---> 97\u001b[0m lijeva \u001b[39m=\u001b[39m \u001b[39mself\u001b[39;49m\u001b[39m.\u001b[39;49mmerge_sort(lijeva)\n\u001b[0;32m     98\u001b[0m desna \u001b[39m=\u001b[39m \u001b[39mself\u001b[39m\u001b[39m.\u001b[39mmerge_sort(desna)\n\u001b[0;32m     99\u001b[0m c \u001b[39m=\u001b[39m \u001b[39mlist\u001b[39m()\n",
      "    \u001b[1;31m[... skipping similar frames: Gradovi.merge_sort at line 97 (1 times)]\u001b[0m\n",
      "Cell \u001b[1;32mIn[14], line 98\u001b[0m, in \u001b[0;36mGradovi.merge_sort\u001b[1;34m(self, a)\u001b[0m\n\u001b[0;32m     96\u001b[0m desna \u001b[39m=\u001b[39m a[n:]\n\u001b[0;32m     97\u001b[0m lijeva \u001b[39m=\u001b[39m \u001b[39mself\u001b[39m\u001b[39m.\u001b[39mmerge_sort(lijeva)\n\u001b[1;32m---> 98\u001b[0m desna \u001b[39m=\u001b[39m \u001b[39mself\u001b[39;49m\u001b[39m.\u001b[39;49mmerge_sort(desna)\n\u001b[0;32m     99\u001b[0m c \u001b[39m=\u001b[39m \u001b[39mlist\u001b[39m()\n\u001b[0;32m    100\u001b[0m i \u001b[39m=\u001b[39m j \u001b[39m=\u001b[39m \u001b[39m0\u001b[39m\n",
      "Cell \u001b[1;32mIn[14], line 98\u001b[0m, in \u001b[0;36mGradovi.merge_sort\u001b[1;34m(self, a)\u001b[0m\n\u001b[0;32m     96\u001b[0m desna \u001b[39m=\u001b[39m a[n:]\n\u001b[0;32m     97\u001b[0m lijeva \u001b[39m=\u001b[39m \u001b[39mself\u001b[39m\u001b[39m.\u001b[39mmerge_sort(lijeva)\n\u001b[1;32m---> 98\u001b[0m desna \u001b[39m=\u001b[39m \u001b[39mself\u001b[39;49m\u001b[39m.\u001b[39;49mmerge_sort(desna)\n\u001b[0;32m     99\u001b[0m c \u001b[39m=\u001b[39m \u001b[39mlist\u001b[39m()\n\u001b[0;32m    100\u001b[0m i \u001b[39m=\u001b[39m j \u001b[39m=\u001b[39m \u001b[39m0\u001b[39m\n",
      "    \u001b[1;31m[... skipping similar frames: Gradovi.merge_sort at line 98 (2966 times)]\u001b[0m\n",
      "Cell \u001b[1;32mIn[14], line 98\u001b[0m, in \u001b[0;36mGradovi.merge_sort\u001b[1;34m(self, a)\u001b[0m\n\u001b[0;32m     96\u001b[0m desna \u001b[39m=\u001b[39m a[n:]\n\u001b[0;32m     97\u001b[0m lijeva \u001b[39m=\u001b[39m \u001b[39mself\u001b[39m\u001b[39m.\u001b[39mmerge_sort(lijeva)\n\u001b[1;32m---> 98\u001b[0m desna \u001b[39m=\u001b[39m \u001b[39mself\u001b[39;49m\u001b[39m.\u001b[39;49mmerge_sort(desna)\n\u001b[0;32m     99\u001b[0m c \u001b[39m=\u001b[39m \u001b[39mlist\u001b[39m()\n\u001b[0;32m    100\u001b[0m i \u001b[39m=\u001b[39m j \u001b[39m=\u001b[39m \u001b[39m0\u001b[39m\n",
      "Cell \u001b[1;32mIn[14], line 97\u001b[0m, in \u001b[0;36mGradovi.merge_sort\u001b[1;34m(self, a)\u001b[0m\n\u001b[0;32m     95\u001b[0m lijeva \u001b[39m=\u001b[39m a[:n]\n\u001b[0;32m     96\u001b[0m desna \u001b[39m=\u001b[39m a[n:]\n\u001b[1;32m---> 97\u001b[0m lijeva \u001b[39m=\u001b[39m \u001b[39mself\u001b[39;49m\u001b[39m.\u001b[39;49mmerge_sort(lijeva)\n\u001b[0;32m     98\u001b[0m desna \u001b[39m=\u001b[39m \u001b[39mself\u001b[39m\u001b[39m.\u001b[39mmerge_sort(desna)\n\u001b[0;32m     99\u001b[0m c \u001b[39m=\u001b[39m \u001b[39mlist\u001b[39m()\n",
      "Cell \u001b[1;32mIn[14], line 89\u001b[0m, in \u001b[0;36mGradovi.merge_sort\u001b[1;34m(self, a)\u001b[0m\n\u001b[0;32m     88\u001b[0m \u001b[39mdef\u001b[39;00m \u001b[39mmerge_sort\u001b[39m(\u001b[39mself\u001b[39m, a \u001b[39m=\u001b[39m \u001b[39mNone\u001b[39;00m):\n\u001b[1;32m---> 89\u001b[0m     \u001b[39mif\u001b[39;00m a \u001b[39m==\u001b[39;49m \u001b[39mNone\u001b[39;49;00m:\n\u001b[0;32m     90\u001b[0m         a \u001b[39m=\u001b[39m \u001b[39mself\u001b[39m\u001b[39m.\u001b[39mpodaci[:]\n\u001b[0;32m     91\u001b[0m     \u001b[39mif\u001b[39;00m \u001b[39mlen\u001b[39m(a) \u001b[39m<\u001b[39m \u001b[39m1\u001b[39m:\n",
      "\u001b[1;31mRecursionError\u001b[0m: maximum recursion depth exceeded in comparison"
     ]
    }
   ],
   "source": [
    "g.merge_sort()"
   ]
  },
  {
   "cell_type": "code",
   "execution_count": null,
   "metadata": {},
   "outputs": [],
   "source": []
  }
 ],
 "metadata": {
  "kernelspec": {
   "display_name": "Python 3",
   "language": "python",
   "name": "python3"
  },
  "language_info": {
   "codemirror_mode": {
    "name": "ipython",
    "version": 3
   },
   "file_extension": ".py",
   "mimetype": "text/x-python",
   "name": "python",
   "nbconvert_exporter": "python",
   "pygments_lexer": "ipython3",
   "version": "3.11.0"
  },
  "orig_nbformat": 4
 },
 "nbformat": 4,
 "nbformat_minor": 2
}
