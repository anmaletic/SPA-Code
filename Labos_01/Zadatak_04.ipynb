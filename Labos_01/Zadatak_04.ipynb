{
 "cells": [
  {
   "cell_type": "code",
   "execution_count": 33,
   "metadata": {},
   "outputs": [],
   "source": [
    "from random import *\n",
    "from matplotlib.pyplot import *\n",
    "\n",
    "class Kocka:\n",
    "    def __init__(self) -> None:\n",
    "        return\n",
    "    \n",
    "    def baciKocku(self):\n",
    "        return randint(1, 6)        \n",
    "    \n",
    "    def frekvencije(self, n):\n",
    "        r = dict()\n",
    "        for i in range(n):\n",
    "            k = self.baciKocku()\n",
    "            r[k] = r.get(k, 0) + 1\n",
    "        return r\n",
    "    \n",
    "    def __pokus(self):\n",
    "        for i in range(4):\n",
    "            x = self.baciKocku()\n",
    "            y = self.baciKocku()\n",
    "            if x + y == 7:\n",
    "                return True\n",
    "        return False\n",
    "    \n",
    "    def simulacija(self, n):\n",
    "        b = 0\n",
    "        for i in range(n):\n",
    "            if self.__pokus():\n",
    "                b += 1\n",
    "        return b/n * 100\n",
    "        "
   ]
  },
  {
   "cell_type": "code",
   "execution_count": 34,
   "metadata": {},
   "outputs": [],
   "source": [
    "koc = Kocka()\n",
    "koc.baciKocku()\n",
    "r = koc.frekvencije(1000)"
   ]
  },
  {
   "cell_type": "code",
   "execution_count": 29,
   "metadata": {},
   "outputs": [],
   "source": [
    "def vizualiziraj(r:dict):\n",
    "    x = list()\n",
    "    y = list()\n",
    "    for k, v in r.items():\n",
    "        x.append(k)\n",
    "        y.append(v)\n",
    "    bar(x, y)\n",
    "    show()\n",
    "    "
   ]
  },
  {
   "cell_type": "code",
   "execution_count": 30,
   "metadata": {},
   "outputs": [
    {
     "data": {
      "image/png": "[encoded data removed]",
      "text/plain": [
       "<Figure size 640x480 with 1 Axes>"
      ]
     },
     "metadata": {},
     "output_type": "display_data"
    }
   ],
   "source": [
    "vizualiziraj(r)"
   ]
  },
  {
   "cell_type": "code",
   "execution_count": 37,
   "metadata": {},
   "outputs": [
    {
     "name": "stdout",
     "output_type": "stream",
     "text": [
      "54.300000000000004\n"
     ]
    }
   ],
   "source": [
    "print(koc.simulacija(1000))"
   ]
  }
 ],
 "metadata": {
  "kernelspec": {
   "display_name": "Python 3",
   "language": "python",
   "name": "python3"
  },
  "language_info": {
   "codemirror_mode": {
    "name": "ipython",
    "version": 3
   },
   "file_extension": ".py",
   "mimetype": "text/x-python",
   "name": "python",
   "nbconvert_exporter": "python",
   "pygments_lexer": "ipython3",
   "version": "3.11.0"
  },
  "orig_nbformat": 4,
  "vscode": {
   "interpreter": {
    "hash": "b9f441d959eae8f335526b5349d0889d75d24fc46e02c208a429c9094b86b2a1"
   }
  }
 },
 "nbformat": 4,
 "nbformat_minor": 2
}
