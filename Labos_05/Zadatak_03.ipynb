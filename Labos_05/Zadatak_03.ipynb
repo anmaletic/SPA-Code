{
 "cells": [
  {
   "cell_type": "code",
   "execution_count": 1,
   "metadata": {},
   "outputs": [],
   "source": [
    "from ATP import *"
   ]
  },
  {
   "cell_type": "code",
   "execution_count": 4,
   "metadata": {},
   "outputs": [
    {
     "name": "stdout",
     "output_type": "stream",
     "text": [
      "2\n",
      "4\n",
      "6\n",
      "3\n",
      "1\n",
      "5\n"
     ]
    },
    {
     "data": {
      "text/plain": [
       "5"
      ]
     },
     "execution_count": 4,
     "metadata": {},
     "output_type": "execute_result"
    }
   ],
   "source": [
    "def zad3a(n):\n",
    "    red = Queue()\n",
    "    for i in range(1, n+1):\n",
    "        red.enqueue(i)\n",
    "        \n",
    "    i = 0\n",
    "    while not red.isEmpty():\n",
    "        e = red.dequeue()\n",
    "        if i % 2 == 0:\n",
    "            red.enqueue(e)\n",
    "        else:\n",
    "            print(e)\n",
    "        i += 1    \n",
    "    return e\n",
    "\n",
    "zad3a(6)"
   ]
  },
  {
   "cell_type": "code",
   "execution_count": 10,
   "metadata": {},
   "outputs": [
    {
     "data": {
      "text/plain": [
       "43"
      ]
     },
     "execution_count": 10,
     "metadata": {},
     "output_type": "execute_result"
    }
   ],
   "source": [
    "def zad3b(n, m):\n",
    "    red = Queue()\n",
    "    for i in range(1, n+1):\n",
    "        red.enqueue(i)\n",
    "        \n",
    "    b = 1\n",
    "    while not red.isEmpty():\n",
    "        e = red.dequeue()\n",
    "        if b % m != 0:\n",
    "            red.enqueue(e)\n",
    "        b += 1    \n",
    "    return e\n",
    "\n",
    "zad3b(120, 9)"
   ]
  },
  {
   "cell_type": "code",
   "execution_count": null,
   "metadata": {},
   "outputs": [],
   "source": []
  }
 ],
 "metadata": {
  "kernelspec": {
   "display_name": "Python 3",
   "language": "python",
   "name": "python3"
  },
  "language_info": {
   "codemirror_mode": {
    "name": "ipython",
    "version": 3
   },
   "file_extension": ".py",
   "mimetype": "text/x-python",
   "name": "python",
   "nbconvert_exporter": "python",
   "pygments_lexer": "ipython3",
   "version": "3.11.0"
  },
  "orig_nbformat": 4
 },
 "nbformat": 4,
 "nbformat_minor": 2
}
