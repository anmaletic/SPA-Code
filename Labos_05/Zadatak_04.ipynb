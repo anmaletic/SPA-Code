{
 "cells": [
  {
   "cell_type": "code",
   "execution_count": 1,
   "metadata": {},
   "outputs": [],
   "source": [
    "from ATP import *"
   ]
  },
  {
   "cell_type": "code",
   "execution_count": 9,
   "metadata": {},
   "outputs": [
    {
     "data": {
      "text/plain": [
       "'Red'"
      ]
     },
     "execution_count": 9,
     "metadata": {},
     "output_type": "execute_result"
    }
   ],
   "source": [
    "def zad4():\n",
    "    n = int(input())\n",
    "    red = Queue()\n",
    "    stog = Stack()\n",
    "    \n",
    "    isRed = True\n",
    "    isStog = True\n",
    "    \n",
    "    for i in range(n):\n",
    "        o, v = map(int, input().split())\n",
    "        if o == 1:\n",
    "            red.enqueue(v)\n",
    "            stog.push(v)\n",
    "        elif o == 2:\n",
    "            x = red.dequeue()\n",
    "            y = stog.pop()\n",
    "        \n",
    "            if x != v:\n",
    "                isRed = False\n",
    "            if y != v:\n",
    "                isStog = False\n",
    "        \n",
    "    if isRed and isStog:\n",
    "        return 'Red i Stog'\n",
    "    elif isRed:\n",
    "        return \"Red\"\n",
    "    elif isStog:\n",
    "        return \"Stog\"\n",
    "    else:\n",
    "        return \"Nista\"\n",
    "\n",
    "zad4()\n",
    "            "
   ]
  },
  {
   "cell_type": "code",
   "execution_count": null,
   "metadata": {},
   "outputs": [],
   "source": []
  }
 ],
 "metadata": {
  "kernelspec": {
   "display_name": "Python 3",
   "language": "python",
   "name": "python3"
  },
  "language_info": {
   "codemirror_mode": {
    "name": "ipython",
    "version": 3
   },
   "file_extension": ".py",
   "mimetype": "text/x-python",
   "name": "python",
   "nbconvert_exporter": "python",
   "pygments_lexer": "ipython3",
   "version": "3.11.0"
  },
  "orig_nbformat": 4
 },
 "nbformat": 4,
 "nbformat_minor": 2
}
