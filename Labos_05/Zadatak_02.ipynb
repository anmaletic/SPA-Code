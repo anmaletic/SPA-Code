{
 "cells": [
  {
   "cell_type": "code",
   "execution_count": 7,
   "metadata": {},
   "outputs": [],
   "source": [
    "from ATP import *"
   ]
  },
  {
   "cell_type": "code",
   "execution_count": 4,
   "metadata": {},
   "outputs": [
    {
     "data": {
      "text/plain": [
       "True"
      ]
     },
     "execution_count": 4,
     "metadata": {},
     "output_type": "execute_result"
    }
   ],
   "source": [
    "def zad2a(izraz):\n",
    "    b = 0\n",
    "    for z in izraz:\n",
    "        if z == '(':\n",
    "            b += 1\n",
    "        elif z == ')':\n",
    "            if b <= 0:\n",
    "                return False\n",
    "            else:\n",
    "                b -= 1\n",
    "    if  b == 0:\n",
    "        return True\n",
    "    else:\n",
    "        return False\n",
    "    \n",
    "izraz = '((()()))'\n",
    "\n",
    "zad2a(izraz)"
   ]
  },
  {
   "cell_type": "code",
   "execution_count": 11,
   "metadata": {},
   "outputs": [
    {
     "data": {
      "text/plain": [
       "False"
      ]
     },
     "execution_count": 11,
     "metadata": {},
     "output_type": "execute_result"
    }
   ],
   "source": [
    "def zad2c(izraz):\n",
    "    s = Stack()\n",
    "    r = dict()\n",
    "    r['('] = ')'\n",
    "    r['['] = ']'\n",
    "    r['{'] = '}'\n",
    "    \n",
    "    for z in izraz:\n",
    "        if z in '{[(':\n",
    "            s.push(z)\n",
    "        elif z in '}])':\n",
    "            if s.isEmpty():\n",
    "                return False\n",
    "            else:\n",
    "                t = s.pop()\n",
    "                if r[t] != z:\n",
    "                    return False\n",
    "    return s.isEmpty()\n",
    "\n",
    "# izraz = '{([]())}'\n",
    "izraz = '{{[()}]}'\n",
    "zad2c(izraz)\n",
    "            "
   ]
  },
  {
   "cell_type": "code",
   "execution_count": null,
   "metadata": {},
   "outputs": [],
   "source": []
  }
 ],
 "metadata": {
  "kernelspec": {
   "display_name": "Python 3",
   "language": "python",
   "name": "python3"
  },
  "language_info": {
   "codemirror_mode": {
    "name": "ipython",
    "version": 3
   },
   "file_extension": ".py",
   "mimetype": "text/x-python",
   "name": "python",
   "nbconvert_exporter": "python",
   "pygments_lexer": "ipython3",
   "version": "3.11.0"
  },
  "orig_nbformat": 4
 },
 "nbformat": 4,
 "nbformat_minor": 2
}
