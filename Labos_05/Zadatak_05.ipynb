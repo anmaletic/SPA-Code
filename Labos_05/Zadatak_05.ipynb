{
 "cells": [
  {
   "cell_type": "code",
   "execution_count": 2,
   "metadata": {},
   "outputs": [],
   "source": [
    "from ATP import *"
   ]
  },
  {
   "cell_type": "code",
   "execution_count": 1,
   "metadata": {},
   "outputs": [],
   "source": [
    "def zad5():\n",
    "    n = int(input())\n",
    "    parovi = list()\n",
    "    for i in range(n):\n",
    "        x, y = map(int, input().split(\"-\"))\n",
    "        parovi.append((x, y))\n",
    "    parovi.sort()\n",
    "    stog = Stack()\n",
    "    stog.push(parovi.pop(0))\n",
    "    for p in parovi:\n",
    "        e = stog.pop()\n",
    "        if e[1] >= p[0]:\n",
    "            if p[1] > e[1]:  ## stog.push((e[0], max(e[1], p[1])))\n",
    "                stog.push((e[0], p[1]))\n",
    "            else:\n",
    "                stog.push(e)\n",
    "        else:\n",
    "            stog.push(e)\n",
    "            stog.push(p)\n",
    "            \n",
    "    while not stog.isEmpty():\n",
    "        print(stog.pop())\n",
    "            "
   ]
  }
 ],
 "metadata": {
  "kernelspec": {
   "display_name": "Python 3",
   "language": "python",
   "name": "python3"
  },
  "language_info": {
   "codemirror_mode": {
    "name": "ipython",
    "version": 3
   },
   "file_extension": ".py",
   "mimetype": "text/x-python",
   "name": "python",
   "nbconvert_exporter": "python",
   "pygments_lexer": "ipython3",
   "version": "3.11.0"
  },
  "orig_nbformat": 4
 },
 "nbformat": 4,
 "nbformat_minor": 2
}
