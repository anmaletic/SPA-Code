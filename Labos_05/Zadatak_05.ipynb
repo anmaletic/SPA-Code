{
 "cells": [
  {
   "cell_type": "code",
   "execution_count": 2,
   "metadata": {},
   "outputs": [],
   "source": [
    "from ATP import *"
   ]
  },
  {
   "cell_type": "code",
   "execution_count": 5,
   "metadata": {},
   "outputs": [],
   "source": [
    "def TestData():\n",
    "    parovi = list()\n",
    "    parovi.append((1,5))\n",
    "    parovi.append((8,10))\n",
    "    parovi.append((4,6))\n",
    "    parovi.append((12,15))\n",
    "    parovi.append((7,8))\n",
    "    parovi.append((2,3))\n",
    "    \n",
    "    return parovi"
   ]
  },
  {
   "cell_type": "code",
   "execution_count": 3,
   "metadata": {},
   "outputs": [],
   "source": [
    "def zad5():\n",
    "    # n = int(input())\n",
    "    # n = 6\n",
    "    # parovi = list()\n",
    "    # for i in range(n):\n",
    "    #     x, y = map(int, input().split(\"-\"))\n",
    "    #     parovi.append((x, y))\n",
    "        \n",
    "    parovi = TestData()\n",
    "    \n",
    "    parovi.sort()\n",
    "    stog = Stack()\n",
    "    stog.push(parovi.pop(0))\n",
    "    for p in parovi:\n",
    "        e = stog.pop()\n",
    "        if e[1] >= p[0]:\n",
    "            if p[1] > e[1]:  ## stog.push((e[0], max(e[1], p[1])))\n",
    "                stog.push((e[0], p[1]))\n",
    "            else:\n",
    "                stog.push(e)\n",
    "        else:\n",
    "            stog.push(e)\n",
    "            stog.push(p)\n",
    "            \n",
    "    while not stog.isEmpty():\n",
    "        print(stog.pop())\n",
    "            "
   ]
  },
  {
   "cell_type": "code",
   "execution_count": 4,
   "metadata": {},
   "outputs": [
    {
     "ename": "ValueError",
     "evalue": "invalid literal for int() with base 10: ''",
     "output_type": "error",
     "traceback": [
      "\u001b[1;31m---------------------------------------------------------------------------\u001b[0m",
      "\u001b[1;31mValueError\u001b[0m                                Traceback (most recent call last)",
      "Cell \u001b[1;32mIn[4], line 1\u001b[0m\n\u001b[1;32m----> 1\u001b[0m zad5()\n",
      "Cell \u001b[1;32mIn[3], line 5\u001b[0m, in \u001b[0;36mzad5\u001b[1;34m()\u001b[0m\n\u001b[0;32m      3\u001b[0m parovi \u001b[39m=\u001b[39m \u001b[39mlist\u001b[39m()\n\u001b[0;32m      4\u001b[0m \u001b[39mfor\u001b[39;00m i \u001b[39min\u001b[39;00m \u001b[39mrange\u001b[39m(n):\n\u001b[1;32m----> 5\u001b[0m     x, y \u001b[39m=\u001b[39m \u001b[39mmap\u001b[39m(\u001b[39mint\u001b[39m, \u001b[39minput\u001b[39m()\u001b[39m.\u001b[39msplit(\u001b[39m\"\u001b[39m\u001b[39m-\u001b[39m\u001b[39m\"\u001b[39m))\n\u001b[0;32m      6\u001b[0m     parovi\u001b[39m.\u001b[39mappend((x, y))\n\u001b[0;32m      7\u001b[0m parovi\u001b[39m.\u001b[39msort()\n",
      "\u001b[1;31mValueError\u001b[0m: invalid literal for int() with base 10: ''"
     ]
    }
   ],
   "source": []
  },
  {
   "cell_type": "code",
   "execution_count": null,
   "metadata": {},
   "outputs": [],
   "source": []
  }
 ],
 "metadata": {
  "kernelspec": {
   "display_name": "Python 3",
   "language": "python",
   "name": "python3"
  },
  "language_info": {
   "codemirror_mode": {
    "name": "ipython",
    "version": 3
   },
   "file_extension": ".py",
   "mimetype": "text/x-python",
   "name": "python",
   "nbconvert_exporter": "python",
   "pygments_lexer": "ipython3",
   "version": "3.11.0"
  },
  "orig_nbformat": 4
 },
 "nbformat": 4,
 "nbformat_minor": 2
}
