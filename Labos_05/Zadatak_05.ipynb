{
 "cells": [
  {
   "cell_type": "code",
   "execution_count": 2,
   "metadata": {},
   "outputs": [],
   "source": [
    "from ATP import *"
   ]
  },
  {
   "cell_type": "code",
   "execution_count": 6,
   "metadata": {},
   "outputs": [],
   "source": [
    "def TestData():\n",
    "    parovi = list()\n",
    "    parovi.append((1,5))\n",
    "    parovi.append((8,10))\n",
    "    parovi.append((4,6))\n",
    "    parovi.append((12,15))\n",
    "    parovi.append((7,8))\n",
    "    parovi.append((2,3))\n",
    "    \n",
    "    return parovi"
   ]
  },
  {
   "cell_type": "code",
   "execution_count": 9,
   "metadata": {},
   "outputs": [],
   "source": [
    "def zad5():\n",
    "    # n = int(input())\n",
    "    # n = 6\n",
    "    # parovi = list()\n",
    "    # for i in range(n):\n",
    "    #     x, y = map(int, input().split(\"-\"))\n",
    "    #     parovi.append((x, y))\n",
    "        \n",
    "    parovi = TestData()\n",
    "    \n",
    "    parovi.sort()\n",
    "    stog = Stack()\n",
    "    stog.push(parovi.pop(0))\n",
    "    for p in parovi:\n",
    "        e = stog.pop()\n",
    "        if e[1] >= p[0]:\n",
    "            ## stog.push((e[0], max(e[1], p[1])))\n",
    "            if p[1] > e[1]:\n",
    "                stog.push((e[0], p[1]))\n",
    "            else:\n",
    "                stog.push(e)\n",
    "        else:\n",
    "            stog.push(e)\n",
    "            stog.push(p)\n",
    "            \n",
    "    while not stog.isEmpty():\n",
    "        print(stog.pop())\n",
    "            "
   ]
  },
  {
   "cell_type": "code",
   "execution_count": 10,
   "metadata": {},
   "outputs": [
    {
     "name": "stdout",
     "output_type": "stream",
     "text": [
      "(12, 15)\n",
      "(7, 10)\n",
      "(1, 6)\n"
     ]
    }
   ],
   "source": [
    "zad5()"
   ]
  },
  {
   "cell_type": "code",
   "execution_count": null,
   "metadata": {},
   "outputs": [],
   "source": []
  }
 ],
 "metadata": {
  "kernelspec": {
   "display_name": "Python 3",
   "language": "python",
   "name": "python3"
  },
  "language_info": {
   "codemirror_mode": {
    "name": "ipython",
    "version": 3
   },
   "file_extension": ".py",
   "mimetype": "text/x-python",
   "name": "python",
   "nbconvert_exporter": "python",
   "pygments_lexer": "ipython3",
   "version": "3.11.0"
  },
  "orig_nbformat": 4
 },
 "nbformat": 4,
 "nbformat_minor": 2
}
