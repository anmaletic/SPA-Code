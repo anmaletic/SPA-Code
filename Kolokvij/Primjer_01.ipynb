{
 "cells": [
  {
   "cell_type": "code",
   "execution_count": 1,
   "metadata": {},
   "outputs": [],
   "source": [
    "def kolokvij(n):\n",
    "    if n>2:\n",
    "        return kolokvij(n//2) + 2\n",
    "    else:\n",
    "        return 1"
   ]
  },
  {
   "cell_type": "code",
   "execution_count": 5,
   "metadata": {},
   "outputs": [
    {
     "data": {
      "text/plain": [
       "5"
      ]
     },
     "execution_count": 5,
     "metadata": {},
     "output_type": "execute_result"
    }
   ],
   "source": [
    "kolokvij(10)"
   ]
  },
  {
   "cell_type": "code",
   "execution_count": 2,
   "metadata": {},
   "outputs": [],
   "source": [
    "class Node:\n",
    "    def __init__(self, v=None) -> None:\n",
    "        self.value = v\n",
    "        self.next = None\n",
    "        \n",
    "class LinkedList:\n",
    "    def __init__(self) -> None:\n",
    "        self.head = None\n",
    "        \n",
    "    def contains(self, v) -> bool:\n",
    "        t = self.head\n",
    "        while t != None:\n",
    "            if t.value == v:\n",
    "                return True\n",
    "            else:\n",
    "                t = t.next\n",
    "        return False\n",
    "    \n",
    "    def remove_odd(self) -> None:\n",
    "        while self.head != None and self.head.value % 2 != 0:\n",
    "            self.head = self.head.next\n",
    "        t = self.head\n",
    "        while t != None and t.next != None:\n",
    "            if t.next.value % 2 != 0:\n",
    "                t.next = t.next.next\n",
    "            else:\n",
    "                t = t.next\n",
    "\n",
    "    "
   ]
  },
  {
   "cell_type": "code",
   "execution_count": 76,
   "metadata": {},
   "outputs": [
    {
     "name": "stdout",
     "output_type": "stream",
     "text": [
      "2 7 3 4\n"
     ]
    }
   ],
   "source": [
    "la = LinkedList()\n",
    "\n",
    "la.head = Node(2)\n",
    "la.head.next = Node(7)\n",
    "la.head.next.next = Node(3)\n",
    "la.head.next.next.next = Node(4)\n",
    "\n",
    "print(la.head.value, end= \" \")\n",
    "print(la.head.next.value, end= \" \")\n",
    "print(la.head.next.next.value, end= \" \")\n",
    "print(la.head.next.next.next.value)"
   ]
  },
  {
   "cell_type": "code",
   "execution_count": 32,
   "metadata": {},
   "outputs": [
    {
     "name": "stdout",
     "output_type": "stream",
     "text": [
      "2 3 4\n"
     ]
    }
   ],
   "source": [
    "la.head.next = la.head.next.next\n",
    "\n",
    "print(la.head.value, end= \" \")\n",
    "print(la.head.next.value, end= \" \")\n",
    "print(la.head.next.next.value)"
   ]
  },
  {
   "cell_type": "code",
   "execution_count": 35,
   "metadata": {},
   "outputs": [
    {
     "name": "stdout",
     "output_type": "stream",
     "text": [
      "True\n",
      "False\n"
     ]
    }
   ],
   "source": [
    "print(la.contains(2))\n",
    "print(la.contains(92))"
   ]
  },
  {
   "cell_type": "code",
   "execution_count": 78,
   "metadata": {},
   "outputs": [
    {
     "name": "stdout",
     "output_type": "stream",
     "text": [
      "2 4\n"
     ]
    }
   ],
   "source": [
    "la.remove_odd()\n",
    "\n",
    "print(la.head.value, end= \" \")\n",
    "print(la.head.next.value)"
   ]
  },
  {
   "cell_type": "code",
   "execution_count": 3,
   "metadata": {},
   "outputs": [],
   "source": [
    "class Queue(LinkedList):\n",
    "    def __init__(self) -> None:\n",
    "        super().__init__()\n",
    "        self.tail = None\n",
    "        \n",
    "    # def enqueueNoTail(self, v):\n",
    "    #     if self.head == None:\n",
    "    #         self.head = Node(v)\n",
    "    #     else:            \n",
    "    #         t = self.head\n",
    "    #         while t.next != None:\n",
    "    #             t = t.next\n",
    "    #         t.next = Node(v)\n",
    "            \n",
    "    def enqueue(self, v):\n",
    "        if self.tail:\n",
    "            self.tail.next = Node(v)\n",
    "            self.tail = self.tail.next\n",
    "        else:\n",
    "            self.head = self.tail = Node(v)\n",
    "    \n",
    "            \n",
    "    def isEmpty(self):\n",
    "        return True if self.head == None else False\n",
    "        "
   ]
  },
  {
   "cell_type": "code",
   "execution_count": 4,
   "metadata": {},
   "outputs": [
    {
     "data": {
      "text/plain": [
       "False"
      ]
     },
     "execution_count": 4,
     "metadata": {},
     "output_type": "execute_result"
    }
   ],
   "source": [
    "lb = Queue()\n",
    "\n",
    "lb.enqueue(4)\n",
    "lb.enqueue(2)\n",
    "lb.enqueue(13)\n",
    "\n",
    "lb.isEmpty()"
   ]
  },
  {
   "cell_type": "code",
   "execution_count": 93,
   "metadata": {},
   "outputs": [
    {
     "name": "stdout",
     "output_type": "stream",
     "text": [
      "4 2 13\n"
     ]
    }
   ],
   "source": [
    "print(lb.head.value, end= \" \")\n",
    "print(lb.head.next.value, end= \" \")\n",
    "print(lb.head.next.next.value)"
   ]
  },
  {
   "cell_type": "code",
   "execution_count": 7,
   "metadata": {},
   "outputs": [
    {
     "data": {
      "text/plain": [
       "True"
      ]
     },
     "execution_count": 7,
     "metadata": {},
     "output_type": "execute_result"
    }
   ],
   "source": [
    "lc = Queue()\n",
    "lc.isEmpty()"
   ]
  },
  {
   "cell_type": "code",
   "execution_count": 171,
   "metadata": {},
   "outputs": [],
   "source": [
    "def podjela(c = [7,3,1,5,4,8]):\n",
    "    p1 = []\n",
    "    p2 = []\n",
    "    c.sort(reverse=True)\n",
    "    d = sum(c) // 2 \n",
    "    \n",
    "    for e in c:        \n",
    "        if d > 0 and d >= e:\n",
    "            print(d)\n",
    "            p1.append(e)\n",
    "            d = d - e\n",
    "    \n",
    "    for e in c:\n",
    "        if e not in p1:\n",
    "            p2.append(e)\n",
    "            \n",
    "    print(f\"Prijatelj {sum(p1)}: \", *p1)\n",
    "    print(f\"Prijatelj {sum(p2)}: \", *p2)\n",
    "        "
   ]
  },
  {
   "cell_type": "code",
   "execution_count": 172,
   "metadata": {},
   "outputs": [
    {
     "name": "stdout",
     "output_type": "stream",
     "text": [
      "14\n",
      "6\n",
      "1\n",
      "Prijatelj 14:  8 5 1\n",
      "Prijatelj 14:  7 4 3\n"
     ]
    }
   ],
   "source": [
    "podjela()"
   ]
  },
  {
   "cell_type": "code",
   "execution_count": 2,
   "metadata": {},
   "outputs": [
    {
     "name": "stdout",
     "output_type": "stream",
     "text": [
      "[[0, 0, 0, 0, 0, 0, 0, 0, 0, 0, 0, 0, 0, 0, 0], [0, 0, 0, 0, 0, 0, 0, 7, 7, 7, 7, 7, 7, 7, 7], [0, 0, 0, 3, 3, 3, 3, 7, 7, 7, 10, 10, 10, 10, 10], [0, 1, 1, 3, 4, 4, 4, 7, 8, 8, 10, 11, 11, 11, 11], [0, 1, 1, 3, 4, 5, 6, 7, 8, 9, 10, 11, 12, 13, 13], [0, 1, 1, 3, 4, 5, 6, 7, 8, 9, 10, 11, 12, 13, 14], [0, 1, 1, 3, 4, 5, 6, 7, 8, 9, 10, 11, 12, 13, 14]]\n"
     ]
    }
   ],
   "source": [
    "def raspodjela(c = [7,3,1,5,4,8]):\n",
    "    s = sum(c) // 2\n",
    "    matrica = [[float(\"inf\")] * (s+1) for i in range(len(c) +1)]\n",
    "    for i in range(s+1):\n",
    "        matrica[0][i] = 0\n",
    "    for j in range(len(c) +1):\n",
    "        matrica[j][0] = 0\n",
    "    for i in range(1, len(c) +1):\n",
    "        for j in range(1, s+1):           \n",
    "            matrica[i][j] = matrica[i-1][j]\n",
    "            if j-c[i-1] >= 0:\n",
    "                if matrica[i][j] < matrica[i-1][j-c[i-1]] +c[i-1]:\n",
    "                    matrica[i][j] = matrica[i-1][j-c[i-1]] +c[i-1]\n",
    "    print(matrica)\n",
    "                \n",
    "        \n",
    "raspodjela()\n",
    "    "
   ]
  },
  {
   "cell_type": "code",
   "execution_count": 1,
   "metadata": {},
   "outputs": [],
   "source": [
    "def stepenice(n):\n",
    "    d = [0] * (n + 1)\n",
    "    d[1] = 1\n",
    "    d[2] = 2\n",
    "    d[3] = 3\n",
    "    for i in range(4, n + 1):\n",
    "        for j in range(1, 4):\n",
    "            if i - j>= 0:\n",
    "                d[i] += d[i - j]\n",
    "    print(d)\n",
    "    return d[n]"
   ]
  },
  {
   "cell_type": "code",
   "execution_count": 4,
   "metadata": {},
   "outputs": [
    {
     "name": "stdout",
     "output_type": "stream",
     "text": [
      "[0, 1, 2, 3, 6, 11, 20, 37, 68, 125, 230, 423, 778, 1431, 2632, 4841, 8904, 16377, 30122, 55403, 101902]\n"
     ]
    },
    {
     "data": {
      "text/plain": [
       "101902"
      ]
     },
     "execution_count": 4,
     "metadata": {},
     "output_type": "execute_result"
    }
   ],
   "source": [
    "stepenice(20)"
   ]
  },
  {
   "cell_type": "code",
   "execution_count": null,
   "metadata": {},
   "outputs": [],
   "source": []
  }
 ],
 "metadata": {
  "kernelspec": {
   "display_name": "Python 3",
   "language": "python",
   "name": "python3"
  },
  "language_info": {
   "codemirror_mode": {
    "name": "ipython",
    "version": 3
   },
   "file_extension": ".py",
   "mimetype": "text/x-python",
   "name": "python",
   "nbconvert_exporter": "python",
   "pygments_lexer": "ipython3",
   "version": "3.11.0"
  },
  "orig_nbformat": 4
 },
 "nbformat": 4,
 "nbformat_minor": 2
}
