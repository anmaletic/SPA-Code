{
 "cells": [
  {
   "cell_type": "code",
   "execution_count": 3,
   "metadata": {},
   "outputs": [],
   "source": [
    "def sortiranje(a): \n",
    "    zamjene = True\n",
    "    k = 1\n",
    "    while zamjene:\n",
    "        zamjene = False\n",
    "        for i in range(len(a) - k):\n",
    "            if a[i] > a[i + 1]:\n",
    "                a[i], a[i + 1] = a[i + 1], a[i]\n",
    "                zamjene = True\n",
    "        k += 1\n",
    "    return a"
   ]
  },
  {
   "cell_type": "code",
   "execution_count": 5,
   "metadata": {},
   "outputs": [
    {
     "data": {
      "text/plain": [
       "[1, 2, 3, 4, 6, 7, 8, 9]"
      ]
     },
     "execution_count": 5,
     "metadata": {},
     "output_type": "execute_result"
    }
   ],
   "source": [
    "sortiranje(a = [7,3,2,8,9,6,4,1])"
   ]
  },
  {
   "cell_type": "code",
   "execution_count": 74,
   "metadata": {},
   "outputs": [],
   "source": [
    "# 3\n",
    "class Node:\n",
    "    def __init__(self, v = None) -> None:\n",
    "        self.value = v\n",
    "        self.next = None\n",
    "    \n",
    "class LinkedList:\n",
    "    def __init__(self) -> None:\n",
    "        self.head = None\n",
    "        \n",
    "    # c\n",
    "    def min(self):\n",
    "        if self.head == None:\n",
    "            return -1\n",
    "        else:\n",
    "            thead = self.head\n",
    "            tmin = float('inf')\n",
    "            while thead != None:\n",
    "                if thead.value < tmin:\n",
    "                    tmin = thead.value\n",
    "                thead = thead.next\n",
    "            return tmin\n",
    "        \n",
    "    # d\n",
    "    def remove(self, e):\n",
    "            while self.head != None and self.head.value == e:\n",
    "                self.head = self.head.next\n",
    "            thead = self.head\n",
    "            while thead != None and thead.next != None:\n",
    "                if thead.next.value == e:\n",
    "                    thead.next = thead.next.next\n",
    "                else:\n",
    "                    thead = thead.next\n",
    "                    \n",
    "    #f\n",
    "    def f(self):\n",
    "        if self.head == None:\n",
    "            return\n",
    "        thead = self.head\n",
    "        zamjene = True\n",
    "        while zamjene:\n",
    "            zamjene = False\n",
    "            while thead != None and thead.next != None:\n",
    "                if thead.value > thead.next.value:\n",
    "                    thead.value, thead.next.value = thead.next.value, thead.value\n",
    "                    zamjene = True\n",
    "                thead = thead.next\n",
    "            thead = self.head"
   ]
  },
  {
   "cell_type": "code",
   "execution_count": 76,
   "metadata": {},
   "outputs": [
    {
     "name": "stdout",
     "output_type": "stream",
     "text": [
      "1 2 3 4 5 6 "
     ]
    }
   ],
   "source": [
    "ll = LinkedList()\n",
    "ll.head = Node(6)\n",
    "ll.head.next = Node(5)\n",
    "ll.head.next.next = Node(3)\n",
    "ll.head.next.next.next = Node(4)\n",
    "ll.head.next.next.next.next = Node(2)\n",
    "ll.head.next.next.next.next.next = Node(1)\n",
    "\n",
    "\n",
    "# ll.min()\n",
    "ll.f()\n",
    "while ll.head != None:\n",
    "    print(ll.head.value, end=\" \")\n",
    "    ll.head = ll.head.next"
   ]
  },
  {
   "cell_type": "code",
   "execution_count": 78,
   "metadata": {},
   "outputs": [],
   "source": [
    "# Linked List \n",
    "\n",
    "class Node:\n",
    "    def __init__(self, value, n=None) -> None:\n",
    "        self.value = value\n",
    "        self.next = n\n",
    "        \n",
    "class LinkedList:\n",
    "    def __init__(self) -> None:\n",
    "        self.head = None\n",
    "        \n",
    "    def addFirst(self, v):\n",
    "        t = Node(v)\n",
    "        if self.head == None:\n",
    "            self.head = t\n",
    "        else:\n",
    "            t.next = self.head\n",
    "            self.head = t    \n",
    "            \n",
    "    def addLast(self, v):\n",
    "        if self.head == None:\n",
    "            self.head = Node(v)\n",
    "        else:\n",
    "            t = self.head\n",
    "            while t.next != None:\n",
    "                t = t.next\n",
    "            t.next = Node(v)\n",
    "            \n",
    "    def remove(self, v):\n",
    "        if self.head != None:\n",
    "            while self.head != None and self.head.value == v:\n",
    "                self.head = self.head.next\n",
    "            t = self.head\n",
    "            while t != None:\n",
    "                if t.next != None:\n",
    "                    if t.next.value != v:\n",
    "                        t = t.next\n",
    "                    else:\n",
    "                        t.next = t.next.next \n",
    "                else:\n",
    "                    t = None\n",
    "    \n",
    "    def __repr__(self) -> str:\n",
    "        t = self.head\n",
    "        s = \"\"\n",
    "        while t != None:\n",
    "            s += str(t.value) + \" -> \"\n",
    "            t = t.next     \n",
    "        return s.removesuffix(\" -> \")\n",
    "    \n",
    "    def __iter__(self):\n",
    "        self.iter = self.head\n",
    "        return self\n",
    "    \n",
    "    def __next__(self):\n",
    "        if self.iter == None:\n",
    "            raise StopIteration\n",
    "        else:\n",
    "            t = self.iter.value\n",
    "            self.iter = self.iter.next\n",
    "            return t\n",
    "    \n",
    "class StackLL(LinkedList):\n",
    "    def __init__(self):\n",
    "        super().__init__()\n",
    "        \n",
    "    def isEmpty(self):\n",
    "        return self.head == None\n",
    "    \n",
    "    def push(self, e):\n",
    "        self.addFirst(e)\n",
    "        \n",
    "    def pop(self):\n",
    "        if self.isEmpty() == False:\n",
    "            t = self.head.value\n",
    "            self.head = self.head.next\n",
    "            return t\n",
    "        else:\n",
    "            raise IndexError(\"Stack je prazan!\")"
   ]
  },
  {
   "cell_type": "code",
   "execution_count": 80,
   "metadata": {},
   "outputs": [
    {
     "data": {
      "text/plain": [
       "26"
      ]
     },
     "execution_count": 80,
     "metadata": {},
     "output_type": "execute_result"
    }
   ],
   "source": [
    "# 4 b\n",
    "def PostToInf(s):\n",
    "    st = StackLL()\n",
    "    l = s.split()\n",
    "    for e in l:\n",
    "        if e in \"+-*/\":\n",
    "            y = st.pop()\n",
    "            x = st.pop()\n",
    "            \n",
    "            if e == \"+\":\n",
    "                st.push(x+y)\n",
    "            elif e == \"-\":\n",
    "                st.push(x-y)\n",
    "            elif e == \"*\":\n",
    "                st.push(x*y)\n",
    "            elif e == \"/\":\n",
    "                st.push(x/y)\n",
    "        else:\n",
    "            st.push(int(e))\n",
    "    return st.pop()\n",
    "\n",
    "PostToInf(\"1 2 + 3 4 + * 5 +\")"
   ]
  },
  {
   "cell_type": "code",
   "execution_count": 94,
   "metadata": {},
   "outputs": [
    {
     "data": {
      "text/plain": [
       "26"
      ]
     },
     "execution_count": 94,
     "metadata": {},
     "output_type": "execute_result"
    }
   ],
   "source": [
    "# 4 dodatno\n",
    "def PreToInf(s):\n",
    "    st = StackLL()\n",
    "    l = s.split()\n",
    "    l.reverse()\n",
    "    for e in l:\n",
    "        if e in \"+-*/\":\n",
    "            x = st.pop()\n",
    "            y = st.pop()\n",
    "            \n",
    "            if e == \"+\":\n",
    "                st.push(x+y)\n",
    "            elif e == \"-\":\n",
    "                st.push(x-y)\n",
    "            elif e == \"*\":\n",
    "                st.push(x*y)\n",
    "            elif e == \"/\":\n",
    "                st.push(x/y)\n",
    "        else:\n",
    "            st.push(int(e))\n",
    "    return st.pop()\n",
    "\n",
    "PreToInf(\"+ * + 1 2 + 3 4 5\")"
   ]
  },
  {
   "cell_type": "code",
   "execution_count": 163,
   "metadata": {},
   "outputs": [],
   "source": [
    "def knapsack01(items, m):\n",
    "    v = [[0] * (m + 1) for i in range(len(items) + 1)]\n",
    "    for i in range(1, len(items) + 1):\n",
    "        for j in range(1, m + 1):\n",
    "            if j - items[i - 1][0] >= 0:\n",
    "                x = v[i - 1][j]\n",
    "                y = v[i - 1][j - items[i - 1][0]] + items[i - 1][1]\n",
    "                v[i][j] = max(x, y)\n",
    "            else:\n",
    "                v[i][j] = v[i - 1][j]\n",
    "    return v"
   ]
  },
  {
   "cell_type": "code",
   "execution_count": 164,
   "metadata": {},
   "outputs": [
    {
     "data": {
      "text/plain": [
       "[[0, 0, 0, 0, 0, 0, 0, 0, 0],\n",
       " [0, 0, 1, 1, 1, 1, 1, 1, 1],\n",
       " [0, 0, 1, 2, 2, 3, 3, 3, 3],\n",
       " [0, 0, 1, 2, 5, 5, 6, 7, 7],\n",
       " [0, 0, 1, 2, 5, 6, 6, 7, 8]]"
      ]
     },
     "execution_count": 164,
     "metadata": {},
     "output_type": "execute_result"
    }
   ],
   "source": [
    "items = [(2,1),(3,2),(4,5),(5,6)]\n",
    "\n",
    "knapsack01(items, 8)"
   ]
  },
  {
   "cell_type": "code",
   "execution_count": 242,
   "metadata": {},
   "outputs": [],
   "source": [
    "def knapsack01(items, duljina):\n",
    "    v = []\n",
    "    \n",
    "    v = [[0] * (duljina + 1) for i in range(len(items) + 1)]\n",
    "    for i in range(1, len(items) + 1):\n",
    "        for j in range(1, duljina + 1):\n",
    "            if j - items[i - 1][0] >= 0:\n",
    "                x = v[i - 1][j]\n",
    "                y = v[i - 1][j - items[i - 1][0]] + items[i - 1][1]\n",
    "                v[i][j] = max(x, y)\n",
    "            else:\n",
    "                v[i][j] = v[i - 1][j]\n",
    "    return v"
   ]
  },
  {
   "cell_type": "code",
   "execution_count": 243,
   "metadata": {},
   "outputs": [
    {
     "data": {
      "text/plain": [
       "[[0, 0, 0, 0, 0],\n",
       " [0, 1, 1, 1, 1],\n",
       " [0, 1, 5, 6, 6],\n",
       " [0, 1, 5, 8, 9],\n",
       " [0, 1, 5, 8, 9],\n",
       " [0, 1, 5, 8, 9],\n",
       " [0, 1, 5, 8, 9],\n",
       " [0, 1, 5, 8, 9],\n",
       " [0, 1, 5, 8, 9]]"
      ]
     },
     "execution_count": 243,
     "metadata": {},
     "output_type": "execute_result"
    }
   ],
   "source": [
    "items = [(1,1),(2,5),(3,8),(4,9),(5,10),(6,17),(7,17),(8,20)]\n",
    "\n",
    "knapsack01(items, 4)"
   ]
  },
  {
   "cell_type": "code",
   "execution_count": 249,
   "metadata": {},
   "outputs": [],
   "source": [
    "def knapsack01_new(items, duljina):\n",
    "    v = []\n",
    "    \n",
    "    v = [[0] * (duljina + 1) for i in range(len(items) + 1)]\n",
    "    for i in range(1, len(items) + 1):\n",
    "        for j in range(1, duljina + 1):\n",
    "            itemDuljina = items[i-1][0]\n",
    "            itemCijena = items[i-1][1]\n",
    "            if j - itemDuljina >= 0:\n",
    "                x = v[i - 1][j]\n",
    "                y = v[i - 1][j - itemDuljina] + itemCijena\n",
    "                v[i][j] = max(x, y)\n",
    "            else:\n",
    "                v[i][j] = v[i - 1][j]\n",
    "    return v"
   ]
  },
  {
   "cell_type": "code",
   "execution_count": 250,
   "metadata": {},
   "outputs": [
    {
     "data": {
      "text/plain": [
       "[[0, 0, 0, 0, 0],\n",
       " [0, 1, 1, 1, 1],\n",
       " [0, 1, 5, 6, 6],\n",
       " [0, 1, 5, 8, 9],\n",
       " [0, 1, 5, 8, 9],\n",
       " [0, 1, 5, 8, 9],\n",
       " [0, 1, 5, 8, 9],\n",
       " [0, 1, 5, 8, 9],\n",
       " [0, 1, 5, 8, 9]]"
      ]
     },
     "execution_count": 250,
     "metadata": {},
     "output_type": "execute_result"
    }
   ],
   "source": [
    "items = [(1,1),(2,5),(3,8),(4,9),(5,10),(6,17),(7,17),(8,20)]\n",
    "\n",
    "knapsack01_new(items, 4)"
   ]
  },
  {
   "cell_type": "code",
   "execution_count": 234,
   "metadata": {},
   "outputs": [],
   "source": [
    "def KavaNoLimit(items, iznos):\n",
    "    dp = [ 0 for i in range(iznos+1)]\n",
    "    \n",
    "    for i in range(iznos+1):\n",
    "        for j in range(len(items)):\n",
    "            if items[j][0] <= i:\n",
    "                x = dp[i]\n",
    "                y = dp[i - items[j][0]] + items[j][1]\n",
    "                dp[i] = max(x,y)\n",
    "    return dp[iznos]        \n",
    "    "
   ]
  },
  {
   "cell_type": "code",
   "execution_count": 235,
   "metadata": {},
   "outputs": [
    {
     "data": {
      "text/plain": [
       "6400"
      ]
     },
     "execution_count": 235,
     "metadata": {},
     "output_type": "execute_result"
    }
   ],
   "source": [
    "items = [ (15,100), (10,500), (9,300), (5,400) ]\n",
    "KavaNoLimit(items, 80)"
   ]
  },
  {
   "cell_type": "code",
   "execution_count": 239,
   "metadata": {},
   "outputs": [],
   "source": [
    "def KavaNoLimitNew(items, iznos):\n",
    "    dp = [ 0 for i in range(iznos+1)]\n",
    "    \n",
    "    for i in range(iznos+1):\n",
    "        for j in range(len(items)):\n",
    "            itemCijena = items[j][0]\n",
    "            itemTezina = items[j][1]\n",
    "            if itemCijena <= i:\n",
    "                x = dp[i]\n",
    "                y = dp[i - itemCijena] + itemTezina\n",
    "                dp[i] = max(x,y)\n",
    "    return dp[iznos]        "
   ]
  },
  {
   "cell_type": "code",
   "execution_count": 240,
   "metadata": {},
   "outputs": [
    {
     "data": {
      "text/plain": [
       "6400"
      ]
     },
     "execution_count": 240,
     "metadata": {},
     "output_type": "execute_result"
    }
   ],
   "source": [
    "items = [ (15,100), (10,500), (9,300), (5,400) ]\n",
    "KavaNoLimitNew(items, 80)"
   ]
  },
  {
   "cell_type": "code",
   "execution_count": 252,
   "metadata": {},
   "outputs": [
    {
     "name": "stdout",
     "output_type": "stream",
     "text": [
      "[0, 0, 0, 0, 0, 0, 0, 0, 0, 0]\n",
      "[0, 0, 0, 0, 0, 0, 0, 0, 0, 0]\n"
     ]
    }
   ],
   "source": [
    "dp = [ 0 for i in range(10)]\n",
    "dp1 = [0] * 10\n",
    "\n",
    "print(dp)\n",
    "print(dp1)"
   ]
  },
  {
   "cell_type": "code",
   "execution_count": 299,
   "metadata": {},
   "outputs": [],
   "source": [
    "def CijevNoLimit(items, duljina):\n",
    "    dp = [0] * (duljina + 1)\n",
    "    \n",
    "    for i in range(duljina+1):\n",
    "        for j in range(len(items)):\n",
    "            itemDuljina = items[j][0]\n",
    "            itemCijena = items[j][1]\n",
    "            if itemDuljina <= i:\n",
    "                x = dp[i]\n",
    "                y = dp[i - itemDuljina] + itemCijena\n",
    "                dp[i] = max(x, y)\n",
    "    return dp[duljina]\n",
    "\n",
    "def CijevLimit(items, duljina):\n",
    "    v = []\n",
    "    \n",
    "    v = [[0] * (duljina + 1) for i in range(len(items) + 1)]\n",
    "    \n",
    "    for i in range(1, len(items) + 1):\n",
    "        for j in range(1, duljina + 1):\n",
    "            itemDuljina = items[i-1][0]\n",
    "            itemCijena = items[i-1][1]\n",
    "            if j - itemDuljina >= 0:\n",
    "                x = v[i - 1][j]\n",
    "                y = v[i - 1][j - itemDuljina] + itemCijena\n",
    "                v[i][j] = max(x, y)\n",
    "            else:\n",
    "                v[i][j] = v[i - 1][j]\n",
    "    return v"
   ]
  },
  {
   "cell_type": "code",
   "execution_count": 263,
   "metadata": {},
   "outputs": [
    {
     "name": "stdout",
     "output_type": "stream",
     "text": [
      "10\n",
      "[[0, 0, 0, 0, 0], [0, 1, 1, 1, 1], [0, 1, 5, 6, 6], [0, 1, 5, 8, 9], [0, 1, 5, 8, 9], [0, 1, 5, 8, 9], [0, 1, 5, 8, 9], [0, 1, 5, 8, 9], [0, 1, 5, 8, 9]]\n"
     ]
    }
   ],
   "source": [
    "items = [(1,1),(2,5),(3,8),(4,9),(5,10),(6,17),(7,17),(8,20)]\n",
    "\n",
    "print(CijevNoLimit(items, 4))\n",
    "print(CijevLimit(items, 4))"
   ]
  },
  {
   "cell_type": "code",
   "execution_count": 278,
   "metadata": {},
   "outputs": [],
   "source": [
    "def Zlatnici(items):\n",
    "    iznos = sum(items) // 2\n",
    "    v = [ [0] * (iznos+1) for i in range(len(items)+1)]\n",
    "    \n",
    "    for i in range(1, len(items)+1):\n",
    "        for j in range(1, iznos+1):\n",
    "            v[i][j] = v[i-1][j]\n",
    "            if j-items[i-1] >= 0:\n",
    "                if v[i][j] < v[i-1][j-items[i-1]] + items[i-1]:\n",
    "                    v[i][j] = v[i-1][j-items[i-1]] + items[i-1]\n",
    "    return v\n",
    "            "
   ]
  },
  {
   "cell_type": "code",
   "execution_count": 297,
   "metadata": {},
   "outputs": [
    {
     "data": {
      "text/plain": [
       "[[0, 0, 0, 0, 0, 0, 0, 0, 0, 0, 0, 0, 0, 0, 0],\n",
       " [0, 0, 0, 0, 0, 0, 0, 7, 7, 7, 7, 7, 7, 7, 7],\n",
       " [0, 0, 0, 3, 3, 3, 3, 7, 7, 7, 10, 10, 10, 10, 10],\n",
       " [0, 1, 1, 3, 4, 4, 4, 7, 8, 8, 10, 11, 11, 11, 11],\n",
       " [0, 1, 1, 3, 4, 5, 6, 7, 8, 9, 10, 11, 12, 13, 13],\n",
       " [0, 1, 1, 3, 4, 5, 6, 7, 8, 9, 10, 11, 12, 13, 14],\n",
       " [0, 1, 1, 3, 4, 5, 6, 7, 8, 9, 10, 11, 12, 13, 14]]"
      ]
     },
     "execution_count": 297,
     "metadata": {},
     "output_type": "execute_result"
    }
   ],
   "source": [
    "items = [7,3,1,5,4,8]\n",
    "Zlatnici(items)"
   ]
  },
  {
   "cell_type": "code",
   "execution_count": 298,
   "metadata": {},
   "outputs": [
    {
     "data": {
      "text/plain": [
       "[0, 1, 2, 3, 4, 1, 1, 2, 3, 4, 2, 2, 2, 3, 4, 3]"
      ]
     },
     "execution_count": 298,
     "metadata": {},
     "output_type": "execute_result"
    }
   ],
   "source": [
    "def isplataNoLimit(iznos, apoeni = [1,5,6]):\n",
    "    dp = [float('inf')] * (iznos+1)\n",
    "    dp[0] = 0\n",
    "    for i in range(1, iznos+1):\n",
    "        for a in apoeni:\n",
    "            if i-a >= 0 and  dp[i] >= dp[i-a] + 1:\n",
    "                dp[i] = dp[i-a] + 1\n",
    "    return dp   \n",
    "\n",
    "isplataNoLimit(15)             "
   ]
  },
  {
   "cell_type": "code",
   "execution_count": 305,
   "metadata": {},
   "outputs": [
    {
     "data": {
      "text/plain": [
       "[0,\n",
       " 1,\n",
       " 2,\n",
       " 3,\n",
       " 5,\n",
       " 8,\n",
       " 13,\n",
       " 21,\n",
       " 34,\n",
       " 55,\n",
       " 89,\n",
       " 144,\n",
       " 233,\n",
       " 377,\n",
       " 610,\n",
       " 987,\n",
       " 1597,\n",
       " 2584,\n",
       " 4181,\n",
       " 6765,\n",
       " 10946]"
      ]
     },
     "execution_count": 305,
     "metadata": {},
     "output_type": "execute_result"
    }
   ],
   "source": [
    "def Stepenice2Step(brStep):\n",
    "    dp = [0] * (brStep + 1)\n",
    "    dp[1] = 1\n",
    "    dp[2] = 2\n",
    "    for i in range(3, brStep +1):\n",
    "        for j in range(1, 3):\n",
    "            if i - j >= 0:\n",
    "                dp[i] += dp[i-j]\n",
    "    return dp\n",
    "\n",
    "Stepenice2Step(20)"
   ]
  },
  {
   "cell_type": "code",
   "execution_count": 344,
   "metadata": {},
   "outputs": [
    {
     "data": {
      "text/plain": [
       "-1"
      ]
     },
     "execution_count": 344,
     "metadata": {},
     "output_type": "execute_result"
    }
   ],
   "source": [
    "def CoinChange(coins, amount):\n",
    "    dp = [float('inf')] * (amount + 1)\n",
    "    dp[0] = 0\n",
    "    for i in range(1, amount+1):\n",
    "        for c in coins:\n",
    "            if i-c >= 0 and dp[i] >= dp[i-c] +1:\n",
    "                dp[i] = dp[i-c] + 1\n",
    "    \n",
    "    return dp[amount] if dp[amount] != float('inf') else -1\n",
    "\n",
    "coins = [ 4, 5]\n",
    "CoinChange(coins, 11)"
   ]
  },
  {
   "cell_type": "code",
   "execution_count": null,
   "metadata": {},
   "outputs": [],
   "source": []
  }
 ],
 "metadata": {
  "kernelspec": {
   "display_name": "Python 3",
   "language": "python",
   "name": "python3"
  },
  "language_info": {
   "codemirror_mode": {
    "name": "ipython",
    "version": 3
   },
   "file_extension": ".py",
   "mimetype": "text/x-python",
   "name": "python",
   "nbconvert_exporter": "python",
   "pygments_lexer": "ipython3",
   "version": "3.11.0"
  },
  "orig_nbformat": 4
 },
 "nbformat": 4,
 "nbformat_minor": 2
}
