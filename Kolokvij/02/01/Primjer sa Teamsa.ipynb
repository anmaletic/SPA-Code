{
 "cells": [
  {
   "cell_type": "code",
   "execution_count": 2,
   "metadata": {},
   "outputs": [],
   "source": [
    "from ATP import *"
   ]
  },
  {
   "cell_type": "code",
   "execution_count": 35,
   "metadata": {},
   "outputs": [],
   "source": [
    "class Tree:\n",
    "    def __init__(self, v, l=None, r=None):\n",
    "        self.value = v\n",
    "        self.left = l\n",
    "        self.right = r\n",
    "        \n",
    "    def postorder(self):\n",
    "        a = []\n",
    "        if self.left != None:\n",
    "            a += self.left.postorder()\n",
    "        if self.right != None:\n",
    "            a += self.right.postorder()\n",
    "        a += [self.value]\n",
    "        return a\n",
    "    \n",
    "    def preorder(self):\n",
    "        a = []\n",
    "        a += [self.value]\n",
    "        if self.left != None:\n",
    "            a += self.left.preorder()\n",
    "        if self.right != None:\n",
    "            a += self.right.preorder()\n",
    "        return a\n",
    "    \n",
    "    def inorder(self):\n",
    "        a = []\n",
    "        if self.left != None:\n",
    "            a += self.left.inorder()\n",
    "        a += [self.value]\n",
    "        if self.right != None:\n",
    "            a += self.right.inorder()\n",
    "        return a\n",
    "    \n",
    "    def inorderStr(self):\n",
    "        a = []\n",
    "        if self.left != None:\n",
    "            a += self.left.inorder()\n",
    "        a += [self.value]\n",
    "        if self.right != None:\n",
    "            a += self.right.inorder()\n",
    "        \n",
    "        return ', '.join(str(i) for i in a)\n",
    "        \n",
    "    def najmanji(self):\n",
    "        nl = float('inf')\n",
    "        nd = float('inf')\n",
    "        if self.left:\n",
    "            nl = self.left.najmanji()\n",
    "        if self.right:\n",
    "            nd = self.right.najmanji()\n",
    "        return min(nl, nd, self.value)\n",
    "    \n",
    "    def najveci(self):        \n",
    "        nl = float('-inf')\n",
    "        nd = float('-inf')\n",
    "        if self.left:\n",
    "            nl = self.left.najveci()\n",
    "        if self.right:\n",
    "            nd = self.right.najveci()\n",
    "        return max(nl, nd, self.value)"
   ]
  },
  {
   "cell_type": "code",
   "execution_count": 36,
   "metadata": {},
   "outputs": [],
   "source": [
    "## e)\n",
    "l1 = Tree(1, r=Tree(2))\n",
    "l = Tree(3, l1, Tree(4))\n",
    "r = Tree(9, Tree(6))\n",
    "root = Tree(5, l, r)"
   ]
  },
  {
   "cell_type": "code",
   "execution_count": 37,
   "metadata": {},
   "outputs": [
    {
     "name": "stdout",
     "output_type": "stream",
     "text": [
      "[2, 1, 4, 3, 6, 9, 5]\n",
      "[5, 3, 1, 2, 4, 9, 6]\n",
      "[1, 2, 3, 4, 5, 6, 9]\n",
      "1, 2, 3, 4, 5, 6, 9\n",
      "1\n",
      "9\n"
     ]
    }
   ],
   "source": [
    "print(root.postorder())\n",
    "print(root.preorder())\n",
    "print(root.inorder())\n",
    "print(root.inorderStr())\n",
    "print(root.najmanji())\n",
    "print(root.najveci())"
   ]
  },
  {
   "cell_type": "code",
   "execution_count": 8,
   "metadata": {},
   "outputs": [],
   "source": [
    "def BFS(a, v):\n",
    "    red = Queue()\n",
    "    izlaz = list()\n",
    "    \n",
    "    red.enqueue(v)\n",
    "    izlaz.append(v)\n",
    "    \n",
    "    while not red.isEmpty():\n",
    "        v = red.dequeue()        \n",
    "        for i in range(len(a)):\n",
    "            if a[v][i] == 1:\n",
    "                if i not in izlaz:\n",
    "                    red.enqueue(i)\n",
    "                    izlaz.append(i)\n",
    "    return izlaz\n",
    "    "
   ]
  },
  {
   "cell_type": "code",
   "execution_count": 10,
   "metadata": {},
   "outputs": [],
   "source": [
    "def DFS(a, v):\n",
    "    stog = Stack()\n",
    "    izlaz = list()\n",
    "    \n",
    "    stog.push(v)\n",
    "    \n",
    "    while not stog.isEmpty():\n",
    "        v = stog.pop()\n",
    "        if v not in izlaz:\n",
    "            izlaz.append(v)\n",
    "        for i in range(len(a)-1, -1, -1):\n",
    "            if a[v][i] == 1:\n",
    "                if i not in izlaz:\n",
    "                    stog.push(i)\n",
    "    return izlaz"
   ]
  },
  {
   "cell_type": "code",
   "execution_count": 12,
   "metadata": {},
   "outputs": [
    {
     "name": "stdout",
     "output_type": "stream",
     "text": [
      "[0, 1, 3, 4, 5, 2]\n",
      "[0, 1, 2, 3, 5, 4]\n"
     ]
    }
   ],
   "source": [
    "a = [ [0,1,0,1,1,1], \n",
    "      [1,0,1,0,0,1],\n",
    "      [0,1,0,1,1,1],\n",
    "      [1,0,1,0,0,1],\n",
    "      [1,0,1,0,0,1],\n",
    "      [1,1,1,1,1,0] ]\n",
    "\n",
    "print(BFS(a,0))\n",
    "print(DFS(a,0))\n"
   ]
  },
  {
   "cell_type": "code",
   "execution_count": 14,
   "metadata": {},
   "outputs": [],
   "source": [
    "def isIzoliran(a):\n",
    "    for i in range(len(a)):\n",
    "        bj = 0\n",
    "        for j in range(len(a)):\n",
    "            if a[i][j] > 0:\n",
    "                bj += 1\n",
    "        if bj == 0:\n",
    "            return True\n",
    "    return False"
   ]
  },
  {
   "cell_type": "code",
   "execution_count": null,
   "metadata": {},
   "outputs": [],
   "source": [
    "def isIzoliranShort(a):\n",
    "    for i in range(len(a)):\n",
    "        if 1 not in a[i]:\n",
    "            return True\n",
    "    return False"
   ]
  },
  {
   "cell_type": "code",
   "execution_count": 16,
   "metadata": {},
   "outputs": [
    {
     "data": {
      "text/plain": [
       "[[0, 8, 8, inf, 3],\n",
       " [8, inf, 3, inf, 6],\n",
       " [8, 3, inf, 2, 1],\n",
       " [inf, inf, 2, inf, 5],\n",
       " [3, 6, 1, 5, inf]]"
      ]
     },
     "execution_count": 16,
     "metadata": {},
     "output_type": "execute_result"
    }
   ],
   "source": [
    "## 4 c)\n",
    "i = float('inf')\n",
    "t = [ [0,8,8,i,3], \n",
    "      [8,i,3,i,6],\n",
    "      [8,3,i,2,1],\n",
    "      [i,i,2,i,5],\n",
    "      [3,6,1,5,i] ]\n",
    "\n",
    "t"
   ]
  },
  {
   "cell_type": "code",
   "execution_count": 23,
   "metadata": {},
   "outputs": [],
   "source": [
    "def getUdaljenost(a):\n",
    "    minU = float('inf')\n",
    "    \n",
    "    for i in range(len(a)):\n",
    "        for j in range(len(a[i])):\n",
    "            if a[i][j] > 0 and a[i][j] < minU:\n",
    "                minU = a[i][j]\n",
    "    return minU\n",
    "    "
   ]
  },
  {
   "cell_type": "code",
   "execution_count": 24,
   "metadata": {},
   "outputs": [
    {
     "data": {
      "text/plain": [
       "1"
      ]
     },
     "execution_count": 24,
     "metadata": {},
     "output_type": "execute_result"
    }
   ],
   "source": [
    "getUdaljenost(t)"
   ]
  },
  {
   "cell_type": "code",
   "execution_count": 25,
   "metadata": {},
   "outputs": [],
   "source": [
    "def dvoobojiv(a):\n",
    "    boje = [-1] * len(a)\n",
    "    red = list()\n",
    "    red.append(0)\n",
    "    boje[0] = 'P'\n",
    "    while len(red) > 0:\n",
    "        e = red.pop(0)\n",
    "        for j in range(len(a[0])):\n",
    "            if a[e][j] == 1:\n",
    "                if boje[j] == -1:\n",
    "                    if boje[e] == 'P':\n",
    "                        boje[j] = 'C'\n",
    "                    else:\n",
    "                        boje[j] = 'P'\n",
    "                    red.append(j)\n",
    "                else:\n",
    "                    if boje[j] == boje[e]:\n",
    "                        return False\n",
    "    return True"
   ]
  },
  {
   "cell_type": "code",
   "execution_count": null,
   "metadata": {},
   "outputs": [],
   "source": [
    "def dvoobojivQ(a):\n",
    "    red = Queue()\n",
    "    boje = [-1] * len(a)\n",
    "    \n",
    "    red.enqueue(0)\n",
    "    boje[0] = 'P'\n",
    "    while not red.isEmpty():\n",
    "        e = red.dequeue()\n",
    "        for j in range(len(a)):\n",
    "            if a[e][j] == 1:\n",
    "                if boje[j] == -1:\n",
    "                    if boje[e] == 'P':\n",
    "                        boje[e] = 'C'\n",
    "                    else:\n",
    "                        boje[e] == 'P'\n",
    "                    red.enqueue(j)\n",
    "                else:\n",
    "                    if boje[j] == boje[e]:\n",
    "                        return False\n",
    "    return True\n",
    "    "
   ]
  }
 ],
 "metadata": {
  "kernelspec": {
   "display_name": "Python 3",
   "language": "python",
   "name": "python3"
  },
  "language_info": {
   "codemirror_mode": {
    "name": "ipython",
    "version": 3
   },
   "file_extension": ".py",
   "mimetype": "text/x-python",
   "name": "python",
   "nbconvert_exporter": "python",
   "pygments_lexer": "ipython3",
   "version": "3.11.0"
  },
  "orig_nbformat": 4
 },
 "nbformat": 4,
 "nbformat_minor": 2
}
