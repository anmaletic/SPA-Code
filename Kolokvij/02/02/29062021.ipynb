{
 "cells": [
  {
   "cell_type": "code",
   "execution_count": 24,
   "metadata": {},
   "outputs": [],
   "source": [
    "from ATP import *"
   ]
  },
  {
   "cell_type": "code",
   "execution_count": 25,
   "metadata": {},
   "outputs": [],
   "source": [
    "class Tree:\n",
    "    def __init__(self, v, l=None, r=None):\n",
    "        self.value = v\n",
    "        self.left = l\n",
    "        self.right = r\n",
    "        \n",
    "    def postorder(self):\n",
    "        a = []\n",
    "        if self.left != None:\n",
    "            a += self.left.postorder()\n",
    "        if self.right != None:\n",
    "            a += self.right.postorder()\n",
    "        a += [self.value]\n",
    "        return a\n",
    "    \n",
    "    def preorder(self):\n",
    "        a = []\n",
    "        a += [self.value]\n",
    "        if self.left != None:\n",
    "            a += self.left.preorder()\n",
    "        if self.right != None:\n",
    "            a += self.right.preorder()\n",
    "        return a\n",
    "    \n",
    "    def inorder(self):\n",
    "        a = []\n",
    "        if self.left != None:\n",
    "            a += self.left.inorder()\n",
    "        a += [self.value]\n",
    "        if self.right != None:\n",
    "            a += self.right.inorder()\n",
    "        return a\n",
    "    \n",
    "    def inorderStr(self):\n",
    "        a = []\n",
    "        if self.left != None:\n",
    "            a += self.left.inorder()\n",
    "        a += [self.value]\n",
    "        if self.right != None:\n",
    "            a += self.right.inorder()\n",
    "        \n",
    "        return ', '.join(str(i) for i in a)\n",
    "        \n",
    "    def najmanji(self):\n",
    "        nl = float('inf')\n",
    "        nd = float('inf')\n",
    "        if self.left:\n",
    "            nl = self.left.najmanji()\n",
    "        if self.right:\n",
    "            nd = self.right.najmanji()\n",
    "        return min(nl, nd, self.value)\n",
    "    \n",
    "    def najveci(self):        \n",
    "        nl = float('-inf')\n",
    "        nd = float('-inf')\n",
    "        if self.left:\n",
    "            nl = self.left.najveci()\n",
    "        if self.right:\n",
    "            nd = self.right.najveci()\n",
    "        return max(nl, nd, self.value)\n",
    "    \n",
    "    def paran(self):\n",
    "        brParnih = 0\n",
    "        if self:\n",
    "            if self.value % 2 == 0:\n",
    "                    brParnih += 1 \n",
    "            if self.left:\n",
    "                brParnih += self.left.paran()\n",
    "            if self.right:\n",
    "                brParnih += self.right.paran()\n",
    "        return brParnih"
   ]
  },
  {
   "cell_type": "code",
   "execution_count": 26,
   "metadata": {},
   "outputs": [
    {
     "data": {
      "text/plain": [
       "5"
      ]
     },
     "execution_count": 26,
     "metadata": {},
     "output_type": "execute_result"
    }
   ],
   "source": [
    "l = Tree(10, Tree(8), Tree(6))\n",
    "r = Tree(8, Tree(5))\n",
    "root = Tree(12, l, r)\n",
    "\n",
    "root.postorder()\n",
    "root.paran()"
   ]
  },
  {
   "cell_type": "code",
   "execution_count": 27,
   "metadata": {},
   "outputs": [],
   "source": [
    "## 10 koraka\n",
    "## BFS algoritam"
   ]
  },
  {
   "cell_type": "code",
   "execution_count": 28,
   "metadata": {},
   "outputs": [],
   "source": [
    "def Labirint(lab, pp, cp):\n",
    "    red = Queue()    \n",
    "        \n",
    "    redova = len(lab)\n",
    "    stupaca = len(lab[0])\n",
    "    posjeceno = [ [-1] * stupaca for i in range(redova) ]\n",
    "    \n",
    "    brKoraka = 0\n",
    "    red.enqueue((pp, brKoraka))\n",
    "    posjeceno[pp[0]][pp[1]] = 1\n",
    "    \n",
    "    while not red.isEmpty():\n",
    "        pos, brKoraka = red.dequeue()\n",
    "        if pos == cp:\n",
    "            return brKoraka\n",
    "        \n",
    "        r, s = pos\n",
    "        potezi = [ (r, s+1), (r, s-1), (r+1, s), (r-1, s) ]\n",
    "        \n",
    "        for potez in potezi:\n",
    "            t_r, t_s = potez\n",
    "            if 0 <= t_r < redova and 0 <= t_s < stupaca and lab[t_r][t_s] == '.' and posjeceno[t_r][t_s] == -1:\n",
    "                red.enqueue((potez, brKoraka + 1))\n",
    "                posjeceno[t_r][t_s] = 1\n",
    "        \n",
    "    return -1"
   ]
  },
  {
   "cell_type": "code",
   "execution_count": 29,
   "metadata": {},
   "outputs": [],
   "source": [
    "lab = [ [ '.','.','.','.','.','#','#' ],\n",
    "        [ '.','#','#','#','.','.','#' ],\n",
    "        [ '.','.','.','.','.','#','#' ],\n",
    "        [ '#','.','.','.','#','#','#' ],\n",
    "        [ '#','#','.','.','.','.','.' ] ]"
   ]
  },
  {
   "cell_type": "code",
   "execution_count": 30,
   "metadata": {},
   "outputs": [
    {
     "data": {
      "text/plain": [
       "10"
      ]
     },
     "execution_count": 30,
     "metadata": {},
     "output_type": "execute_result"
    }
   ],
   "source": [
    "Labirint(lab, (0,0), (4,6))"
   ]
  },
  {
   "cell_type": "code",
   "execution_count": 34,
   "metadata": {},
   "outputs": [],
   "source": [
    "def lab2(lab, pp, cp):\n",
    "    brR = len(lab[0])\n",
    "    brS = len(lab )\n",
    "    brK = 0\n",
    "    \n",
    "    red = Queue()\n",
    "    posjeceno = [ [-1] * brS for i in range(brR) ]\n",
    "    \n",
    "    red.enqueue((pp, brK))\n",
    "    posjeceno[pp[0]][pp[1]] = 1\n",
    "    \n",
    "    while not red.isEmpty():\n",
    "        pos, brK = red.dequeue()\n",
    "            \n",
    "        if pos == cp:\n",
    "            return brK\n",
    "        \n",
    "        r, s = pos\n",
    "        potezi = [ [r, s-1], [r, s+1], [r+1, s], [r-1, s] ]\n",
    "        \n",
    "        for potez in potezi:\n",
    "            t_r, t_s = potez\n",
    "            if t_r >= 0 and t_r < brR and t_s >= 0 and t_s < brS and lab[t_r][t_s] == '.':\n",
    "                if posjeceno[t_r][t_s] == -1:\n",
    "                    red.enqueue((potezi, brK+1))\n",
    "                    posjeceno[t_r][t_s] = 1\n",
    "    return -1\n",
    "                    \n",
    "        "
   ]
  },
  {
   "cell_type": "code",
   "execution_count": 35,
   "metadata": {},
   "outputs": [
    {
     "data": {
      "text/plain": [
       "-1"
      ]
     },
     "execution_count": 35,
     "metadata": {},
     "output_type": "execute_result"
    }
   ],
   "source": [
    "lab2(lab, (0,0), (4,6))"
   ]
  },
  {
   "cell_type": "code",
   "execution_count": null,
   "metadata": {},
   "outputs": [],
   "source": []
  }
 ],
 "metadata": {
  "kernelspec": {
   "display_name": "Python 3",
   "language": "python",
   "name": "python3"
  },
  "language_info": {
   "codemirror_mode": {
    "name": "ipython",
    "version": 3
   },
   "file_extension": ".py",
   "mimetype": "text/x-python",
   "name": "python",
   "nbconvert_exporter": "python",
   "pygments_lexer": "ipython3",
   "version": "3.11.0"
  },
  "orig_nbformat": 4
 },
 "nbformat": 4,
 "nbformat_minor": 2
}
