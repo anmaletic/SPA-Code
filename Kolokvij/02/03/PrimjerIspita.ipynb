{
 "cells": [
  {
   "cell_type": "code",
   "execution_count": 4,
   "metadata": {},
   "outputs": [],
   "source": [
    "from ATP import *"
   ]
  },
  {
   "cell_type": "code",
   "execution_count": 5,
   "metadata": {},
   "outputs": [],
   "source": [
    "## 7\n",
    "\n",
    "class Tree:\n",
    "    def __init__(self, v, l=None, r=None):\n",
    "        self.value = v\n",
    "        self.left = l\n",
    "        self.right = r\n",
    "        \n",
    "    def postorder(self):\n",
    "        a = []\n",
    "        if self.left != None:\n",
    "            a += self.left.postorder()\n",
    "        if self.right != None:\n",
    "            a += self.right.postorder()\n",
    "        a += [self.value]\n",
    "        return a\n",
    "    \n",
    "    def preorder(self):\n",
    "        a = []\n",
    "        a += [self.value]\n",
    "        if self.left != None:\n",
    "            a += self.left.preorder()\n",
    "        if self.right != None:\n",
    "            a += self.right.preorder()\n",
    "        return a\n",
    "    \n",
    "    def inorder(self):\n",
    "        a = []\n",
    "        if self.left != None:\n",
    "            a += self.left.inorder()\n",
    "        a += [self.value]\n",
    "        if self.right != None:\n",
    "            a += self.right.inorder()\n",
    "        return a\n",
    "    \n",
    "    def inorderStr(self):\n",
    "        a = []\n",
    "        if self.left != None:\n",
    "            a += self.left.inorder()\n",
    "        a += [self.value]\n",
    "        if self.right != None:\n",
    "            a += self.right.inorder()\n",
    "        \n",
    "        return ', '.join(str(i) for i in a)\n",
    "        \n",
    "    def najmanji(self):\n",
    "        nl = float('inf')\n",
    "        nd = float('inf')\n",
    "        if self.left:\n",
    "            nl = self.left.najmanji()\n",
    "        if self.right:\n",
    "            nd = self.right.najmanji()\n",
    "        return min(nl, nd, self.value)\n",
    "    \n",
    "    def najveci(self):        \n",
    "        nl = float('-inf')\n",
    "        nd = float('-inf')\n",
    "        if self.left:\n",
    "            nl = self.left.najveci()\n",
    "        if self.right:\n",
    "            nd = self.right.najveci()\n",
    "        return max(nl, nd, self.value)\n",
    "    \n",
    "        \n",
    "    def paran(self):\n",
    "        brParnih = 0\n",
    "        if self:\n",
    "            if self.value % 2 == 0:\n",
    "                    brParnih += 1 \n",
    "            if self.left:\n",
    "                brParnih += self.left.paran()\n",
    "            if self.right:\n",
    "                brParnih += self.right.paran()\n",
    "        return brParnih\n",
    "    \n",
    "    \n",
    "    def upotpuni(self):\n",
    "        if self.left == None and self.right == None:\n",
    "            return\n",
    "        \n",
    "        if self.left and self.right:\n",
    "            self.left.upotpuni()            \n",
    "            self.right.upotpuni()\n",
    "            \n",
    "        if self.left and not self.right:\n",
    "            self.right = Tree(self.value + 1)\n",
    "            self.left.upotpuni()\n",
    "        if self.right and not self.left:\n",
    "            self.left = Tree(self.value -1)\n",
    "            self.right.upotpuni()"
   ]
  },
  {
   "cell_type": "code",
   "execution_count": 6,
   "metadata": {},
   "outputs": [],
   "source": [
    "ll = Tree(3, Tree(1))\n",
    "lr = Tree(9, r=Tree(11))\n",
    "l = Tree(7, ll, lr)\n",
    "\n",
    "rl = Tree(17, r=Tree(19))\n",
    "rrl = Tree(27, Tree(25))\n",
    "rr = Tree(31, rrl)\n",
    "r = Tree(23, rl, rr)\n",
    "\n",
    "root = Tree(13, l, r)"
   ]
  },
  {
   "cell_type": "code",
   "execution_count": 7,
   "metadata": {},
   "outputs": [
    {
     "data": {
      "text/plain": [
       "[1, 3, 7, 9, 11, 13, 17, 19, 23, 25, 27, 31]"
      ]
     },
     "execution_count": 7,
     "metadata": {},
     "output_type": "execute_result"
    }
   ],
   "source": [
    "root.inorder()"
   ]
  },
  {
   "cell_type": "code",
   "execution_count": 8,
   "metadata": {},
   "outputs": [],
   "source": [
    "root.upotpuni()"
   ]
  },
  {
   "cell_type": "code",
   "execution_count": 9,
   "metadata": {},
   "outputs": [
    {
     "data": {
      "text/plain": [
       "[1, 3, 4, 7, 8, 9, 11, 13, 16, 17, 19, 23, 25, 27, 28, 31, 32]"
      ]
     },
     "execution_count": 9,
     "metadata": {},
     "output_type": "execute_result"
    }
   ],
   "source": [
    "root.inorder()"
   ]
  },
  {
   "cell_type": "code",
   "execution_count": 10,
   "metadata": {},
   "outputs": [
    {
     "data": {
      "text/plain": [
       "[1, 4, 3, 8, 11, 9, 7, 16, 19, 17, 25, 28, 27, 32, 31, 23, 13]"
      ]
     },
     "execution_count": 10,
     "metadata": {},
     "output_type": "execute_result"
    }
   ],
   "source": [
    "root.postorder()"
   ]
  },
  {
   "cell_type": "code",
   "execution_count": 11,
   "metadata": {},
   "outputs": [],
   "source": [
    "def Letovi(a, g):\n",
    "    l = [False] * len(a)\n",
    "    l[g] = True\n",
    "    obradeno = [g]\n",
    "    \n",
    "    while len(obradeno) < len(a):\n",
    "        for i in range(len(a)):\n",
    "            if a[g][i] == 1:\n",
    "                l[i] = True\n",
    "                \n",
    "        for j in range(len(a)):\n",
    "            if l[j] == True and j not in obradeno:\n",
    "                g = j\n",
    "                break\n",
    "        \n",
    "        obradeno.append(g)\n",
    "    return l"
   ]
  },
  {
   "cell_type": "code",
   "execution_count": 12,
   "metadata": {},
   "outputs": [
    {
     "data": {
      "text/plain": [
       "[True, True, True, True, True, True]"
      ]
     },
     "execution_count": 12,
     "metadata": {},
     "output_type": "execute_result"
    }
   ],
   "source": [
    "a = [ [0,1,0,1,1,0], \n",
    "      [1,0,0,0,1,0],\n",
    "      [0,0,0,0,1,1],\n",
    "      [1,0,0,0,0,0],\n",
    "      [1,1,1,0,0,0],\n",
    "      [0,0,1,0,0,0] ]\n",
    "\n",
    "Letovi(a, 5)"
   ]
  },
  {
   "cell_type": "code",
   "execution_count": 13,
   "metadata": {},
   "outputs": [],
   "source": [
    "## 1 rujna 2021\n",
    "\n",
    "def BFS_T(a, e):\n",
    "    red = Queue()\n",
    "    izlaz = list()\n",
    "    \n",
    "    red.enqueue(e)\n",
    "    izlaz.append(e)\n",
    "    \n",
    "    while not red.isEmpty():\n",
    "        v = red.dequeue()\n",
    "        for i in range(len(a)):\n",
    "            if a[v][i] < float('inf') and i not in izlaz and i != v:\n",
    "                red.enqueue(i)\n",
    "                izlaz.append(i)\n",
    "    return izlaz"
   ]
  },
  {
   "cell_type": "code",
   "execution_count": 15,
   "metadata": {},
   "outputs": [
    {
     "data": {
      "text/plain": [
       "[0, 1, 2, 4, 3]"
      ]
     },
     "execution_count": 15,
     "metadata": {},
     "output_type": "execute_result"
    }
   ],
   "source": [
    "i = float('inf')\n",
    "t = [ [0,8,8,i,3], \n",
    "      [8,i,3,i,6],\n",
    "      [8,3,i,2,1],\n",
    "      [i,i,2,i,5],\n",
    "      [3,6,1,5,i] ]\n",
    "\n",
    "BFS_T(t,0)"
   ]
  },
  {
   "cell_type": "code",
   "execution_count": 44,
   "metadata": {},
   "outputs": [],
   "source": [
    "def SkakacV2(n, m):\n",
    "    red = Queue()\n",
    "    izlaz = list()\n",
    "    posjecene = [ [-1] * m for i in range(m) ]\n",
    "    \n",
    "    red.enqueue((0,0))\n",
    "    posjecene[0][0] = 1\n",
    "    \n",
    "    while not red.isEmpty():\n",
    "        pos = red.dequeue()\n",
    "        cr, cs = pos\n",
    "        \n",
    "        potezi = [ (2, 1), (2, -1), (-2, 1), (-2, -1), (1, 2), (1, -2), (-1, 2), (-1, -2) ]\n",
    "        \n",
    "        for potez in potezi:\n",
    "            pr, ps = potez\n",
    "            tr = cr + pr\n",
    "            ts = cs + ps\n",
    "            \n",
    "            if (tr >= 0 and tr < n) and (ts >= 0 and ts < m) and posjecene[tr][ts] == -1:\n",
    "                red.enqueue((tr, ts))\n",
    "                posjecene[tr][ts] = 1\n",
    "                \n",
    "    for i in range(n):\n",
    "        for j in range(m):\n",
    "            if posjecene[i][j] == -1:\n",
    "                izlaz.append((i,j))\n",
    "    \n",
    "    return izlaz"
   ]
  },
  {
   "cell_type": "code",
   "execution_count": 45,
   "metadata": {},
   "outputs": [
    {
     "data": {
      "text/plain": [
       "[(1, 1)]"
      ]
     },
     "execution_count": 45,
     "metadata": {},
     "output_type": "execute_result"
    }
   ],
   "source": [
    "SkakacV2(3,3)"
   ]
  },
  {
   "cell_type": "code",
   "execution_count": null,
   "metadata": {},
   "outputs": [],
   "source": []
  }
 ],
 "metadata": {
  "kernelspec": {
   "display_name": "Python 3",
   "language": "python",
   "name": "python3"
  },
  "language_info": {
   "codemirror_mode": {
    "name": "ipython",
    "version": 3
   },
   "file_extension": ".py",
   "mimetype": "text/x-python",
   "name": "python",
   "nbconvert_exporter": "python",
   "pygments_lexer": "ipython3",
   "version": "3.11.0"
  },
  "orig_nbformat": 4
 },
 "nbformat": 4,
 "nbformat_minor": 2
}
