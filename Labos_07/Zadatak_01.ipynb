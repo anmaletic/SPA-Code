{
 "cells": [
  {
   "cell_type": "code",
   "execution_count": 1,
   "metadata": {},
   "outputs": [],
   "source": [
    "from LAB07 import *"
   ]
  },
  {
   "cell_type": "code",
   "execution_count": 6,
   "metadata": {},
   "outputs": [],
   "source": [
    "def zad2(a, imena, ime):\n",
    "    i = imena.index(ime)\n",
    "    rezultat = list()\n",
    "    for j in range(len(a[i])):\n",
    "        if a[i][j] == 1:\n",
    "            rezultat.append(imena[j])            \n",
    "    return rezultat"
   ]
  },
  {
   "cell_type": "code",
   "execution_count": 9,
   "metadata": {},
   "outputs": [
    {
     "data": {
      "text/plain": [
       "['Blazenka', 'Vili']"
      ]
     },
     "execution_count": 9,
     "metadata": {},
     "output_type": "execute_result"
    }
   ],
   "source": [
    "imena = [ 'Andrea', 'Blazenka', 'Josip', 'Nina', 'Vili', 'Zdravka' ]\n",
    "\n",
    "a = [ [0,0,0,0,1,1],\n",
    "      [0,0,1,1,1,0],\n",
    "      [0,1,0,0,1,0],\n",
    "      [0,1,0,0,1,1],\n",
    "      [1,1,1,1,0,1],\n",
    "      [1,0,0,1,1,0] ]\n",
    "\n",
    "zad2(a, imena, \"Josip\")"
   ]
  },
  {
   "cell_type": "code",
   "execution_count": 12,
   "metadata": {},
   "outputs": [],
   "source": [
    "def zad3(a, imena):\n",
    "    bp = [sum(e) for e in a]\n",
    "    ne = min(bp)\n",
    "    rezultat = list()\n",
    "    for i in range(len(bp)):\n",
    "        if bp[i] == ne:\n",
    "            rezultat.append(imena[i])\n",
    "    return rezultat"
   ]
  },
  {
   "cell_type": "code",
   "execution_count": 11,
   "metadata": {},
   "outputs": [
    {
     "data": {
      "text/plain": [
       "['Andrea', 'Josip']"
      ]
     },
     "execution_count": 11,
     "metadata": {},
     "output_type": "execute_result"
    }
   ],
   "source": [
    "zad3(a, imena)"
   ]
  },
  {
   "cell_type": "code",
   "execution_count": 23,
   "metadata": {},
   "outputs": [],
   "source": [
    "def zad4(a, imena, ime1, ime2):\n",
    "    s1 = set(zad2(a, imena, ime1))\n",
    "    s2 = set(zad2(a, imena, ime2))\n",
    "    return list(s1 & s2)"
   ]
  },
  {
   "cell_type": "code",
   "execution_count": 27,
   "metadata": {},
   "outputs": [
    {
     "data": {
      "text/plain": [
       "['Blazenka', 'Vili']"
      ]
     },
     "execution_count": 27,
     "metadata": {},
     "output_type": "execute_result"
    }
   ],
   "source": [
    "zad4(a, imena, \"Josip\", \"Nina\")"
   ]
  },
  {
   "cell_type": "code",
   "execution_count": 37,
   "metadata": {},
   "outputs": [],
   "source": [
    "def zad5(a, imena, ime):\n",
    "    red = Queue()\n",
    "    red.enqueue(ime)\n",
    "    izlaz = [ime]\n",
    "    while not red.isEmpty():\n",
    "        ime = red.dequeue()\n",
    "        i = imena.index(ime)\n",
    "        for j in range(len(a)):\n",
    "            if a[i][j] == 1:\n",
    "                if imena[j] not in izlaz:\n",
    "                    red.enqueue(imena[j])\n",
    "                    izlaz.append(imena[j])\n",
    "    return izlaz"
   ]
  },
  {
   "cell_type": "code",
   "execution_count": 38,
   "metadata": {},
   "outputs": [
    {
     "data": {
      "text/plain": [
       "['Andrea', 'Vili', 'Zdravka', 'Blazenka', 'Josip', 'Nina']"
      ]
     },
     "execution_count": 38,
     "metadata": {},
     "output_type": "execute_result"
    }
   ],
   "source": [
    "zad5(a, imena, \"Andrea\")"
   ]
  },
  {
   "cell_type": "code",
   "execution_count": 56,
   "metadata": {},
   "outputs": [],
   "source": [
    "def zad6(d, pocetak, kraj):\n",
    "    gradovi = ['Zagreb', 'Split', 'Rim', 'Frankfurt', 'New York']\n",
    "    udaljenosti = [float('inf') * len(gradovi)]\n",
    "    i = gradovi.index(pocetak)\n",
    "    udaljenosti[i] = 0\n",
    "    obradeni = list()\n",
    "    while len(obradeni) < len(gradovi):\n",
    "        minv = float('inf')\n",
    "        mini = -1\n",
    "        for i in range(len(udaljenosti)):\n",
    "            if udaljenosti[i] < minv and i not in obradeni:\n",
    "                minv = udaljenosti[i]\n",
    "                mini = i\n",
    "        obradeni.append(mini)\n",
    "        for j in range(len(d)):\n",
    "            if udaljenosti[mini] + d[mini][j] < udaljenosti[j]:\n",
    "                udaljenosti[j] = udaljenosti[j] + d[mini][j]\n",
    "    return udaljenosti[gradovi.index(kraj)]"
   ]
  },
  {
   "cell_type": "code",
   "execution_count": 57,
   "metadata": {},
   "outputs": [
    {
     "ename": "IndexError",
     "evalue": "list index out of range",
     "output_type": "error",
     "traceback": [
      "\u001b[1;31m---------------------------------------------------------------------------\u001b[0m",
      "\u001b[1;31mIndexError\u001b[0m                                Traceback (most recent call last)",
      "Cell \u001b[1;32mIn[57], line 8\u001b[0m\n\u001b[0;32m      1\u001b[0m i \u001b[39m=\u001b[39m \u001b[39mfloat\u001b[39m(\u001b[39m'\u001b[39m\u001b[39minf\u001b[39m\u001b[39m'\u001b[39m)\n\u001b[0;32m      2\u001b[0m d \u001b[39m=\u001b[39m [ [\u001b[39m0\u001b[39m,\u001b[39m45\u001b[39m,i,\u001b[39m105\u001b[39m,i],\n\u001b[0;32m      3\u001b[0m       [\u001b[39m45\u001b[39m,\u001b[39m0\u001b[39m,\u001b[39m90\u001b[39m,i,i],\n\u001b[0;32m      4\u001b[0m       [i,\u001b[39m90\u001b[39m,\u001b[39m0\u001b[39m,i,\u001b[39m575\u001b[39m],\n\u001b[0;32m      5\u001b[0m       [\u001b[39m105\u001b[39m,i,i,\u001b[39m0\u001b[39m,\u001b[39m525\u001b[39m],\n\u001b[0;32m      6\u001b[0m       [i,i,\u001b[39m515\u001b[39m,\u001b[39m460\u001b[39m,\u001b[39m0\u001b[39m] ]\n\u001b[1;32m----> 8\u001b[0m \u001b[39mprint\u001b[39m(zad6(d, \u001b[39m\"\u001b[39;49m\u001b[39mZagreb\u001b[39;49m\u001b[39m\"\u001b[39;49m, \u001b[39m\"\u001b[39;49m\u001b[39mNew York\u001b[39;49m\u001b[39m\"\u001b[39;49m))\n",
      "Cell \u001b[1;32mIn[56], line 16\u001b[0m, in \u001b[0;36mzad6\u001b[1;34m(d, pocetak, kraj)\u001b[0m\n\u001b[0;32m     14\u001b[0m     obradeni\u001b[39m.\u001b[39mappend(mini)\n\u001b[0;32m     15\u001b[0m     \u001b[39mfor\u001b[39;00m j \u001b[39min\u001b[39;00m \u001b[39mrange\u001b[39m(\u001b[39mlen\u001b[39m(d)):\n\u001b[1;32m---> 16\u001b[0m         \u001b[39mif\u001b[39;00m udaljenosti[mini] \u001b[39m+\u001b[39m d[mini][j] \u001b[39m<\u001b[39m udaljenosti[j]:\n\u001b[0;32m     17\u001b[0m             udaljenosti[j] \u001b[39m=\u001b[39m udaljenosti[j] \u001b[39m+\u001b[39m d[mini][j]\n\u001b[0;32m     18\u001b[0m \u001b[39mreturn\u001b[39;00m udaljenosti[gradovi\u001b[39m.\u001b[39mindex(kraj)]\n",
      "\u001b[1;31mIndexError\u001b[0m: list index out of range"
     ]
    }
   ],
   "source": [
    "i = float('inf')\n",
    "d = [ [0,45,i,105,i],\n",
    "      [45,0,90,i,i],\n",
    "      [i,90,0,i,575],\n",
    "      [105,i,i,0,525],\n",
    "      [i,i,515,460,0] ]\n",
    "\n",
    "print(zad6(d, \"Zagreb\", \"New York\"))\n"
   ]
  },
  {
   "cell_type": "code",
   "execution_count": null,
   "metadata": {},
   "outputs": [],
   "source": []
  }
 ],
 "metadata": {
  "kernelspec": {
   "display_name": "Python 3",
   "language": "python",
   "name": "python3"
  },
  "language_info": {
   "codemirror_mode": {
    "name": "ipython",
    "version": 3
   },
   "file_extension": ".py",
   "mimetype": "text/x-python",
   "name": "python",
   "nbconvert_exporter": "python",
   "pygments_lexer": "ipython3",
   "version": "3.11.0"
  },
  "orig_nbformat": 4
 },
 "nbformat": 4,
 "nbformat_minor": 2
}
